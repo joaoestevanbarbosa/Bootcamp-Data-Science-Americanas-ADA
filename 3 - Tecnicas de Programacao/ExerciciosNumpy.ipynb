{
  "cells": [
    {
      "cell_type": "markdown",
      "metadata": {
        "colab_type": "text",
        "id": "view-in-github"
      },
      "source": [
        "<a href=\"https://colab.research.google.com/github/robertosgpontes/tec_prog_1/blob/main/ExerciciosNumpy.ipynb\" target=\"_parent\"><img src=\"https://colab.research.google.com/assets/colab-badge.svg\" alt=\"Open In Colab\"/></a>"
      ]
    },
    {
      "cell_type": "markdown",
      "metadata": {
        "id": "dDhJSUbSE6hI"
      },
      "source": [
        "# Lista de Exercícios de Numpy\n",
        "\n",
        "Deverá ser entrege até **11/02/2023** por meio do github que foi informado por vocês no [formulário](https://forms.office.com/r/YV12vEXGYF) respondido na aula de 01/02.\n",
        "\n",
        "A entrega pela github é parte da avaliação."
      ]
    },
    {
      "cell_type": "markdown",
      "metadata": {
        "id": "eX5x6-bjE6hN"
      },
      "source": [
        "## Questão 1\n",
        "\n",
        "Crie um array 100 com valores aleatórios e ache os valores máximo e mínimo"
      ]
    },
    {
      "cell_type": "code",
      "execution_count": 2,
      "metadata": {
        "id": "kYKS_ae1E6hP"
      },
      "outputs": [
        {
          "name": "stdout",
          "output_type": "stream",
          "text": [
            "Array: [ 17  56  40  89  65  22   1  53  88  46  97  32   7  21  22  44  11  24\n",
            "   6  60  45  83  58  63  71  37  87  17  43   4  78  70  94  35  46  85\n",
            "  67  49  59  58  52  12  82  59  77 100  99  60  73  42  17  43  72  95\n",
            "  54  64  73  66  45  15  27  82  46   2  25  84  50  85  66   1  60  80\n",
            "  49  99  99  54  50  13  38  23  21  47  80  75  74  92  80  69  24  42\n",
            "  67  19  47  58  50  48  97  54  80  34]\n",
            "\n",
            "Maximo: 100. \n",
            "Minimo: 1\n"
          ]
        }
      ],
      "source": [
        "import numpy as np\n",
        "\n",
        "# random.randint(low, high=None, size=None, dtype=int)\n",
        "# Retorna random integers do low (inclusivo) to high (exclusivo).\n",
        "\n",
        "array_int = np.random.randint(1,101,100)\n",
        "\n",
        "array_int_max = array_int.max()\n",
        "array_int_min = array_int.min()\n",
        "# np.random.randint(1,101,[3:3])\n",
        "\n",
        "print(f'Array: {array_int}\\n')\n",
        "print(f'Maximo: {array_int_max}. \\nMinimo: {array_int_min}' )"
      ]
    },
    {
      "cell_type": "markdown",
      "metadata": {
        "id": "qT9pSHp4E6hQ"
      },
      "source": [
        "## Questão 2\n",
        "Em Geometria Analítica, um **vetor** é uma quantidade que pode ser definida por um énuplo (uma sequência ordenada de *n* elementos) em que cada elemento representa a intensidade do vetor na direção especificada pela i-ésima componente desta sequência. \n",
        "\n",
        "Quando pensamos em duas dimensões, por exemplo, o vetor $R = (b,a)$ define, geometricamente, a entidade representada na figura abaixo, com componentes nos eixos x e y usuais.\n",
        "\n",
        "<img src = \"https://static.todamateria.com.br/upload/im/ag/image-721.jpg?auto_optimize=low\" />\n",
        "\n",
        "O **módulo** deste vetor, também chamado de intensidade, está geometricamente relacionado ao seu comprimento, e pode ser calculado diretamente pelas suas componentes, por meio de uma operação conhecida como **produto escalar** do vetor com ele mesmo. O módulo quadrático é expresso, desta forma, por:\n",
        "\n",
        "$|A|^2 = \\vec{A} \\cdot \\vec{A}$\n",
        "\n",
        "Por outro lado, o produto escalar entre dois vetores $A = (a_{x}, a_{y})$ e $B = (b_{x}, b_{y})$ é dado por:\n",
        "\n",
        "$\\vec{A} \\cdot \\vec{B} = a_{x} \\times b_{x} + a_{y} \\times b_{y}$ (e esta definição vale para qualquer que seja a dimensão do vetor).\n",
        "\n",
        "O módulo quadrático de um vetor é, portanto:\n",
        "\n",
        "$|A|² = a_{x}^2 + b_{x}^2$."
      ]
    },
    {
      "cell_type": "markdown",
      "metadata": {
        "id": "-ZU6W86sE6hT"
      },
      "source": [
        "Dado o exposto acima, escreva uma função que retorne o módulo de um vetor n-dimensional qualquer."
      ]
    },
    {
      "cell_type": "code",
      "execution_count": 3,
      "metadata": {
        "id": "PdKKKvShE6hT"
      },
      "outputs": [
        {
          "name": "stdout",
          "output_type": "stream",
          "text": [
            "Módulo do vetor [3, 4] é 5.0\n"
          ]
        }
      ],
      "source": [
        "def modulo_vetor(vetor):\n",
        "    \"\"\"\n",
        "    Entrada:\n",
        "    - vetor: lista ou np.array com valores numéricos representando o vetor\n",
        "    # Converte a entrada para um np.array numpy\n",
        "    \"\"\"\n",
        "    vetor = np.array(vetor)\n",
        "\n",
        "    \n",
        "    \"\"\"\n",
        "    Saída:\n",
        "    - modulo: float representando o módulo do vetor\n",
        "    \"\"\"   \n",
        "    # Calcula a norma euclidiana do vetor, que é equivalente ao módulo\n",
        "    modulo = np.linalg.norm(vetor)\n",
        "    \n",
        "    return modulo\n",
        "\n",
        "# Exemplo de uso\n",
        "vetor = [3, 4]\n",
        "mod = modulo_vetor(vetor)\n",
        "print(\"Módulo do vetor\", vetor, \"é\", mod)"
      ]
    },
    {
      "cell_type": "markdown",
      "metadata": {
        "id": "CRZdfzLgE6hU"
      },
      "source": [
        "## Questão 3\n",
        "\n",
        "Em uma **análise de regressão**, usualmente estamos interessados em descrever relações entre variáveis de um dado conjunto de dados por meio de uma **função** que descreva, o tanto quanto possível, estas relações.\n",
        "\n",
        "Por exemplo, no gráfico abaixo, os pontos vermelhos relacionam as medidas das duas variáveis sendo avaliadas (nos eixos x e y); e a linha azul aproxima a relação entre elas por uma função linear."
      ]
    },
    {
      "cell_type": "markdown",
      "metadata": {
        "id": "180Vp7AZE6hV"
      },
      "source": [
        "![Normdist_regression.png](https://miro.medium.com/v2/resize:fit:786/format:webp/1*LEmBCYAttxS6uI6rEyPLMQ.png)"
      ]
    },
    {
      "cell_type": "markdown",
      "metadata": {
        "id": "oQ1RFXOAE6hV"
      },
      "source": [
        "É possível ver que nem todos os pontos obedecem exatamente à relação ditada pela reta (isto é, há pontos que não estão exatamente \"sobre a reta\"; mas, sim, ligeraimente acima, ou abaixo, dela). Isto, contudo, é esperado em um modelo de regressão, por inúmeras fontes de incerteza associadas às medições."
      ]
    },
    {
      "cell_type": "markdown",
      "metadata": {
        "id": "XGWoc_O2E6hW"
      },
      "source": [
        "Uma das métricas que utilizamos para avaliar a qualidade de uma regressão é o **erro quadrático médio (EQM)**, que mensura a diferença total entre cada predição da regressão ($y_{prediction}$; que no nosso caso seriam os valores de y para a reta azul) com o valor real de cada i-ésima medida ($y_{i}$; que no nosso caso seriam as coordenadas y para cada ponto vermelho do gráfico). O EQM pode ser definido como:"
      ]
    },
    {
      "cell_type": "markdown",
      "metadata": {
        "id": "CjgOdTD6E6hX"
      },
      "source": [
        "$EQM = \\frac{1}{n}\\sum_{i=1}^{n}(y_{prediction} - y_{i})^2$."
      ]
    },
    {
      "cell_type": "markdown",
      "metadata": {
        "id": "qeXCrbmbE6hY"
      },
      "source": [
        "Isto posto, escreva uma função que calcule o EQM recebendo, como entrada, os vetores $y_{prediction}$ e $y_{i}$. Por exemplo, digamos que sua função se chame *calculate_eqm*, ela deve operar da seguinte forma:"
      ]
    },
    {
      "cell_type": "code",
      "execution_count": 12,
      "metadata": {
        "id": "bwiTGuuoE6hb"
      },
      "outputs": [
        {
          "name": "stdout",
          "output_type": "stream",
          "text": [
            "EQM: 1.6666666666666667\n"
          ]
        }
      ],
      "source": [
        "# Solução\n",
        "\n",
        "def calculate_eqm(y_prediction,y_i):\n",
        "\n",
        "    \"\"\"\n",
        "    Entrada:\n",
        "    - y_i: lista ou np.array com valores numéricos representando os valores reais\n",
        "    - y_prediction: lista ou np.array com valores numéricos representando os valores previstos\n",
        "\n",
        "    \"\"\"\n",
        "    diferenca_quadrado = (y_prediction - y_i)**2 \n",
        "\n",
        "\n",
        "    \"\"\"\n",
        "     Saída:\n",
        "    - eqm: float representando o erro quadrático médio\n",
        "    \"\"\"\n",
        "    #mean() retorna a média dos elementos do array\n",
        "    eqm = np.mean(diferenca_quadrado)\n",
        "\n",
        "    return eqm\n",
        "\n",
        "\n",
        "# dados dois arrays quaisquer de mesmo tamanho, a função deve retornar o EQM\n",
        "y_prediction = np.array([1,2,3])\n",
        "y_i = np.array([0,0,3])\n",
        "eqm = calculate_eqm(y_prediction,y_i)\n",
        "\n",
        "print(\"EQM:\", eqm)"
      ]
    },
    {
      "attachments": {},
      "cell_type": "markdown",
      "metadata": {
        "id": "Wh0_a8PjE6hc"
      },
      "source": [
        "## Questão 4\n",
        "\n",
        "Crie um array 2D (bidimensional) com 1 na borda e 0 dentro"
      ]
    },
    {
      "cell_type": "code",
      "execution_count": 2,
      "metadata": {},
      "outputs": [
        {
          "name": "stdout",
          "output_type": "stream",
          "text": [
            "Matriz: \n",
            " [[1 1 1 1 1]\n",
            " [1 0 0 0 1]\n",
            " [1 0 0 0 1]\n",
            " [1 0 0 0 1]\n",
            " [1 1 1 1 1]]\n"
          ]
        }
      ],
      "source": [
        "def matriz_borda1 (linha,coluna):\n",
        "\n",
        "    # Criando o array 2D com zeros\n",
        "    matriz = np.zeros((linha, coluna), dtype=int)\n",
        "\n",
        "    # Adicionando 1 na borda\n",
        "    #linha 0 = 1\n",
        "    matriz[0, :] = 1\n",
        "\n",
        "    #linha n = -1, lendo invertido por nao saber qual é a última linha\n",
        "    matriz[-1, :] = 1\n",
        "\n",
        "    #coluna 0 = 1\n",
        "    matriz[:, 0] = 1\n",
        "\n",
        "    #coluna n = -1, lendo invertido por nao saber qual é a última linha\n",
        "    matriz[:, -1] = 1\n",
        "\n",
        "    return matriz\n",
        "\n",
        "print('Matriz: \\n', matriz_borda1(5,5)) #criando matriz 5,5"
      ]
    },
    {
      "cell_type": "markdown",
      "metadata": {
        "id": "U1CntgkZE6hc"
      },
      "source": [
        "## Questão 5\n",
        "\n",
        "Como adicionar uma borda de 0's ao redor de um array 2D (bidimensional) existente"
      ]
    },
    {
      "cell_type": "code",
      "execution_count": 9,
      "metadata": {},
      "outputs": [
        {
          "name": "stdout",
          "output_type": "stream",
          "text": [
            "[[0. 0. 0. 0. 0. 0. 0.]\n",
            " [0. 1. 2. 3. 4. 5. 0.]\n",
            " [0. 5. 6. 7. 8. 9. 0.]\n",
            " [0. 0. 0. 0. 0. 0. 0.]]\n"
          ]
        }
      ],
      "source": [
        "# Define o array 2D existente\n",
        "arr = np.array([[1, 2, 3, 4, 5], [5, 6, 7, 8, 9]])\n",
        "\n",
        "# Pega o tamanho do array em duas dimensões (linhas e colunas)\n",
        "linha, coluna = arr.shape\n",
        "\n",
        "# Adiciona uma borda de 0's ao redor do array, criando um novo array com dimensões aumentadas em 2\n",
        "new_arr = np.zeros((linha + 2, coluna + 2))\n",
        "\n",
        "# Copia os valores do array antigo para o novo array, exceto a borda de 0's\n",
        "new_arr[1:-1, 1:-1] = arr\n",
        "\n",
        "# Mostra o novo array com a borda adicionada\n",
        "print(new_arr)\n",
        "\n",
        "\n"
      ]
    },
    {
      "cell_type": "markdown",
      "metadata": {
        "id": "qHh149eAE6hd"
      },
      "source": [
        "## Questão 6\n",
        "\n",
        " A eletroencefalografia (EEG) é uma técnica que mensura potenciais elétricos cerebrais em diversas regiões do escalpo do paciente. Suponha que você recebeu um conjunto de dados na forma de uma matriz de 64 x 512 elementos, em que cada linha contém o sinal gravado em um dos **eletrodos** espalhados pelo escalpo em um exame de EEG, e cada coluna contém um valor de potencial elétrico, em microvolts. "
      ]
    },
    {
      "cell_type": "markdown",
      "metadata": {
        "id": "BRDY8u09E6hd"
      },
      "source": [
        "Como o sinal de EEG é muito suscetível a ruídos externos (interferências na qualidade do sinal), uma operação comum para atenuar a interferência no sinal consiste em tirar a média do potencial elétrico de todos os eletrodos, e subtrair este valor de cada um deles. Isto atenua fontes de ruído ao sinal comuns a todos os eletrodos. Em termos matemáticos, o sinal processado por esta operação, $X_{e,i}$ para cada eletrodo (e) e amostra (i), é dado por:"
      ]
    },
    {
      "cell_type": "markdown",
      "metadata": {
        "id": "NHLeT5deE6he"
      },
      "source": [
        "$X_{e,i} = \\hat{X_{e,i}} - \\frac{1}{N}\\sum_{e=1}^{N}\\hat{X_{e,i}}$,\n",
        "\n",
        "em que $\\hat{X_{e,i}}$ representa o sinal original (ou seja, é a matriz de entrada de 64 x 512 elementos), e $N$ indica o total de eletrodos."
      ]
    },
    {
      "attachments": {},
      "cell_type": "markdown",
      "metadata": {
        "id": "ToiE-omdE6he"
      },
      "source": [
        "Com o exposto acima, escreva uma função que retorne uma matriz com os sinais de EEG processados conforme a operação mencionada. Sua função deve operar conforme o exemplo abaixo."
      ]
    },
    {
      "cell_type": "code",
      "execution_count": 17,
      "metadata": {
        "id": "EgsEH6T-E6hf",
        "outputId": "7388c8ad-a5f8-4097-b1db-e2e1e4aad9b0"
      },
      "outputs": [
        {
          "data": {
            "text/plain": [
              "(64, 512)"
            ]
          },
          "execution_count": 17,
          "metadata": {},
          "output_type": "execute_result"
        }
      ],
      "source": [
        "# vamos supor uma matriz de entrada gerada por dados aleatórios\n",
        "X = np.random.randn(64,512)\n",
        "X.shape # apenas para verificar as dimensões"
      ]
    },
    {
      "cell_type": "code",
      "execution_count": 18,
      "metadata": {
        "id": "OlxjvCnQE6hj"
      },
      "outputs": [],
      "source": [
        "# Solução\n",
        "def process_EEG_signal(X):\n",
        "  media = X.sum()/X.size\n",
        "  print(f'Media: {media}')\n",
        "  X_process = X - media\n",
        "  return X_process"
      ]
    },
    {
      "cell_type": "code",
      "execution_count": 19,
      "metadata": {
        "id": "gXsgtYEJE6hg",
        "outputId": "7d179469-09c8-4d0d-d8b7-a9cde1f813fb"
      },
      "outputs": [
        {
          "name": "stdout",
          "output_type": "stream",
          "text": [
            "Media: 0.000327539087704898\n"
          ]
        },
        {
          "data": {
            "text/plain": [
              "(64, 512)"
            ]
          },
          "execution_count": 19,
          "metadata": {},
          "output_type": "execute_result"
        }
      ],
      "source": [
        "# a função deve executar a operação equacionada anteriormente, retornando uma nova matriz\n",
        "X_processado = process_EEG_signal(X)\n",
        "X_processado.shape"
      ]
    },
    {
      "cell_type": "code",
      "execution_count": 20,
      "metadata": {
        "id": "mR_U9LEbE6hh",
        "outputId": "ef4a479a-23fa-4e1e-9e50-97afaa3596ca"
      },
      "outputs": [
        {
          "data": {
            "text/plain": [
              "-10.732800825914117"
            ]
          },
          "execution_count": 20,
          "metadata": {},
          "output_type": "execute_result"
        }
      ],
      "source": [
        "# Somando as diferenças entre cada elemento das duas matrizes, apenas para ilustrar que elas não são iguais\n",
        "(X_processado - X).sum()"
      ]
    },
    {
      "cell_type": "code",
      "execution_count": 21,
      "metadata": {
        "id": "HkoRtLugE6hh",
        "outputId": "ee8fe812-1c8c-43e5-d04a-40b0e370b85a"
      },
      "outputs": [
        {
          "data": {
            "text/plain": [
              "array([[-0.98525699, -0.69710577,  0.3078516 , ..., -1.46265342,\n",
              "        -1.2710214 ,  0.03871142],\n",
              "       [-0.06570074, -0.26029632,  0.81533883, ..., -0.41602627,\n",
              "         1.46516154,  0.33428376],\n",
              "       [-0.84773397, -0.27050848, -0.53113784, ..., -0.2463862 ,\n",
              "         0.44690045,  0.73076862],\n",
              "       ...,\n",
              "       [ 0.61913957,  1.38014861, -0.83406917, ...,  0.600478  ,\n",
              "         1.2019985 ,  1.10386233],\n",
              "       [ 0.07580871, -0.89978115, -0.27513194, ..., -1.86560031,\n",
              "        -0.73768792, -0.10750238],\n",
              "       [ 0.54163052, -0.01224689, -1.80742295, ..., -0.64060791,\n",
              "        -0.59643135, -1.948486  ]])"
            ]
          },
          "execution_count": 21,
          "metadata": {},
          "output_type": "execute_result"
        }
      ],
      "source": [
        "# Visualizando as matrizes, para verificar uma vez mais que, de fato, os elementos são diferentes\n",
        "X"
      ]
    },
    {
      "cell_type": "code",
      "execution_count": 22,
      "metadata": {
        "id": "kGdBX0J-E6hi",
        "outputId": "59655945-932b-4a3b-b4d1-bcc87f9ecdca"
      },
      "outputs": [
        {
          "data": {
            "text/plain": [
              "array([[-0.98558453, -0.69743331,  0.30752406, ..., -1.46298096,\n",
              "        -1.27134894,  0.03838388],\n",
              "       [-0.06602828, -0.26062386,  0.81501129, ..., -0.41635381,\n",
              "         1.46483401,  0.33395623],\n",
              "       [-0.84806151, -0.27083602, -0.53146538, ..., -0.24671374,\n",
              "         0.44657291,  0.73044108],\n",
              "       ...,\n",
              "       [ 0.61881203,  1.37982107, -0.83439671, ...,  0.60015046,\n",
              "         1.20167096,  1.10353479],\n",
              "       [ 0.07548117, -0.90010869, -0.27545948, ..., -1.86592785,\n",
              "        -0.73801546, -0.10782991],\n",
              "       [ 0.54130298, -0.01257443, -1.80775049, ..., -0.64093545,\n",
              "        -0.59675889, -1.94881354]])"
            ]
          },
          "execution_count": 22,
          "metadata": {},
          "output_type": "execute_result"
        }
      ],
      "source": [
        "# Matriz após o processamento descrito no enunciado\n",
        "X_processado"
      ]
    },
    {
      "cell_type": "markdown",
      "metadata": {
        "id": "7Gy6nTwQE6hj"
      },
      "source": [
        "## Questão 7\n",
        "\n",
        "Em estatística, um **outlier** é um valor que destoa consideravelmente da distribuição à qual está associado. Um dos critérios para idenficar outliers consiste em encontrar a **distância interquantil** (IQR), ou seja, a diferença entre o terceiro (Q3) e o primeiro quartis (Q1) da distribuição, e tomar como outliers todos os pontos abaixo de 1.5*IQR - Q1, ou acima de 1.5*IQR + Q3."
      ]
    },
    {
      "cell_type": "markdown",
      "metadata": {
        "id": "CP-NkMHTE6hk"
      },
      "source": [
        "<img src = \"https://blog.curso-r.com/images/posts/banner/outlier.webp\" />"
      ]
    },
    {
      "cell_type": "markdown",
      "metadata": {
        "id": "BLDJN5JPE6hk"
      },
      "source": [
        "Escreva uma função que, dada uma matriz de dados de entrada de dimensões $N_{observações} \\times N_{features}$ retorne três requisitos: \n",
        "- uma matriz booleana indicando a existência de outliers nos dados de entrada;\n",
        "- a quantidade de outliers\n",
        "- quem são os outliers (os valores)."
      ]
    },
    {
      "cell_type": "markdown",
      "metadata": {
        "id": "wwVcP2uZE6hl"
      },
      "source": [
        "**Algumas definições:**\n",
        "- um *quantil* divide a distribuição, após ordenados os pontos, segundo algum ponto de corte;\n",
        "- o **primeiro quartil** é o ponto para o qual 25 % dos valores da distribuição estão abaixo dele;\n",
        "- o **terceiro quartil** é o ponto para o qual 75 % dos valores da distribuição estão abaixo dele.\n",
        "\n",
        "Pode ser útil consultar a função **numpy.quantile**."
      ]
    },
    {
      "cell_type": "markdown",
      "metadata": {
        "id": "C9nCKXhjE6hm"
      },
      "source": [
        "Exemplo de operação da função:"
      ]
    },
    {
      "cell_type": "code",
      "execution_count": 24,
      "metadata": {},
      "outputs": [],
      "source": [
        "def locate_outliers (matriz):\n",
        "    #calculando primeiro e terceiro quartil\n",
        "    q1 = np.quantile(matriz, 0.25)\n",
        "    q3 = np.quantile(matriz,0.75)\n",
        "\n",
        "    #calculando limite inferior e limite superior\n",
        "    limite_inferior = q1 - 1.5 * (q3 - q1) \n",
        "    limite_superior = q3 + 1.5 * (q3 - q1)\n",
        "\n",
        "    #valores fora do intervalo, retornando como boleano \n",
        "    is_outlier = np.where(((matriz > limite_inferior) & (X < limite_superior)), True, False)\n",
        "    outliers = matriz[is_outlier]\n",
        "\n",
        "    #calculando a quantidade de outliers\n",
        "    outliers_count = np.sum(is_outlier)\n",
        "\n",
        "    return is_outlier,outliers_count,outliers"
      ]
    },
    {
      "cell_type": "code",
      "execution_count": 30,
      "metadata": {
        "id": "wHdcs77RE6hm",
        "outputId": "28783112-67ef-4d51-9f83-ea939812a3d7"
      },
      "outputs": [
        {
          "data": {
            "text/plain": [
              "array([[-1.11559043, -0.7966184 ,  1.07842926, ...,  1.11541582,\n",
              "         0.52188018,  0.32150799],\n",
              "       [-0.08532145, -1.09974544, -0.20186545, ...,  2.14999646,\n",
              "         0.66798454,  0.54731004],\n",
              "       [-1.14078859,  0.49203989, -0.24228148, ...,  0.08267418,\n",
              "         0.43958562, -0.41236151],\n",
              "       ...,\n",
              "       [-0.69418242, -1.7031526 ,  0.2481907 , ...,  0.08279583,\n",
              "         0.22252991,  0.32304233],\n",
              "       [ 0.46962599, -0.63055041,  0.55935073, ...,  0.28110429,\n",
              "        -0.79323742, -0.34869987],\n",
              "       [ 1.80166294,  1.32902108, -1.64796065, ...,  1.60645226,\n",
              "         0.56538535, -1.22978916]])"
            ]
          },
          "execution_count": 30,
          "metadata": {},
          "output_type": "execute_result"
        }
      ],
      "source": [
        "# Geremos um conjunto de dados qualquer\n",
        "X = np.random.randn(300,15)\n",
        "X"
      ]
    },
    {
      "cell_type": "code",
      "execution_count": 31,
      "metadata": {
        "id": "KVe7LEW0E6hn"
      },
      "outputs": [],
      "source": [
        "# identificamos os requisitos com nossa com nossa função \"locate_outliers\"\n",
        "is_outlier, outliers_count, outliers = locate_outliers(X)"
      ]
    },
    {
      "cell_type": "code",
      "execution_count": 32,
      "metadata": {
        "id": "vuZ3n3K_E6hn",
        "outputId": "7e2860f1-4bf7-4a8a-a066-dff638e7a5f9"
      },
      "outputs": [
        {
          "data": {
            "text/plain": [
              "array([[ True,  True,  True, ...,  True,  True,  True],\n",
              "       [ True,  True,  True, ...,  True,  True,  True],\n",
              "       [ True,  True,  True, ...,  True,  True,  True],\n",
              "       ...,\n",
              "       [ True,  True,  True, ...,  True,  True,  True],\n",
              "       [ True,  True,  True, ...,  True,  True,  True],\n",
              "       [ True,  True,  True, ...,  True,  True,  True]])"
            ]
          },
          "execution_count": 32,
          "metadata": {},
          "output_type": "execute_result"
        }
      ],
      "source": [
        "is_outlier"
      ]
    },
    {
      "cell_type": "code",
      "execution_count": 33,
      "metadata": {
        "id": "IzjWsBrZE6ho",
        "outputId": "8bf5b80b-16e4-4c65-eead-2a46b67a3954"
      },
      "outputs": [
        {
          "data": {
            "text/plain": [
              "4472"
            ]
          },
          "execution_count": 33,
          "metadata": {},
          "output_type": "execute_result"
        }
      ],
      "source": [
        "outliers_count"
      ]
    },
    {
      "cell_type": "code",
      "execution_count": 34,
      "metadata": {
        "id": "PbO7R7P2E6hp",
        "outputId": "161089f3-1f11-46a0-ba52-3a328ad17710"
      },
      "outputs": [
        {
          "data": {
            "text/plain": [
              "array([-1.11559043, -0.7966184 ,  1.07842926, ...,  1.60645226,\n",
              "        0.56538535, -1.22978916])"
            ]
          },
          "execution_count": 34,
          "metadata": {},
          "output_type": "execute_result"
        }
      ],
      "source": [
        "outliers"
      ]
    },
    {
      "cell_type": "markdown",
      "metadata": {
        "id": "upNDn96PE6hq"
      },
      "source": [
        "## Questão 8\n",
        "\n",
        "Crie um vetor com valores que vão de 1 até 21 de dois em dois, a partir da função arange"
      ]
    },
    {
      "cell_type": "code",
      "execution_count": 8,
      "metadata": {
        "id": "w4d14JRZE6hr"
      },
      "outputs": [
        {
          "name": "stdout",
          "output_type": "stream",
          "text": [
            "[ 1  3  5  7  9 11 13 15 17 19 21]\n"
          ]
        }
      ],
      "source": [
        "vetor_arange = np.arange(1, 21+1, 2)\n",
        "\n",
        "print(vetor_arange)"
      ]
    },
    {
      "cell_type": "markdown",
      "metadata": {
        "id": "SchEY1O7E6hr"
      },
      "source": [
        "## Questão 9\n",
        "\n",
        "Crie um array de 10 com valores aleatórios"
      ]
    },
    {
      "cell_type": "code",
      "execution_count": 7,
      "metadata": {
        "id": "MYpySePjE6hs"
      },
      "outputs": [
        {
          "data": {
            "text/plain": [
              "array([0.21707426, 0.27224655, 0.28821895, 0.62683361, 0.07390724,\n",
              "       0.30098339, 0.72331738, 0.51404582, 0.42693346, 0.87378429])"
            ]
          },
          "execution_count": 7,
          "metadata": {},
          "output_type": "execute_result"
        }
      ],
      "source": [
        "vetor_aleatorio = np.random.random(10)\n",
        "\n",
        "vetor_aleatorio"
      ]
    },
    {
      "cell_type": "markdown",
      "metadata": {
        "id": "EFfvM6LIAlfJ"
      },
      "source": [
        "## Questão 10\n",
        "\n",
        "Em estatística, a normalização de uma distribuição de dados pode ser feita subtraindo o valor médio da distribuição de cada valor do conjunto de dados, dividindo o resultado pelo desvio-padrão da distribuição. Escreva uma função que normalize os dados recebidos por um array numpy qualquer, conforme descrito anteriormente."
      ]
    },
    {
      "cell_type": "code",
      "execution_count": 14,
      "metadata": {
        "id": "yfho2bziAlfJ"
      },
      "outputs": [],
      "source": [
        "def normalizacao(x):\n",
        "    #media\n",
        "    media = np.mean(x)\n",
        "\n",
        "    #desvio padrao\n",
        "    desvio_padrao =  np.std(x)\n",
        "\n",
        "    #normalizacao\n",
        "    norm = (x - media)/desvio_padrao\n",
        "    \n",
        "    return norm"
      ]
    },
    {
      "cell_type": "code",
      "execution_count": 15,
      "metadata": {},
      "outputs": [
        {
          "data": {
            "text/plain": [
              "array([ 1.2399426 ,  1.18825491,  0.17409927, -1.35555901, -0.58836676,\n",
              "        0.21626353, -1.71983039, -0.09372741,  1.64802187,  0.40543201,\n",
              "       -1.55740082, -1.46174128, -1.35075892, -1.45515274,  0.34205036,\n",
              "       -0.01833792,  0.49899881, -0.80009738, -0.6787997 , -0.36975705,\n",
              "        0.08968909,  1.03717582, -0.04147122, -0.13738304,  1.27697459,\n",
              "       -0.26168124,  0.50376995,  0.85809327, -1.70994726,  0.07867383,\n",
              "       -0.3925104 ,  1.23102909,  0.29143488,  1.54515187,  0.95339639,\n",
              "       -0.61974437, -0.81093693, -1.27619554,  1.16329241,  0.70545698,\n",
              "        0.84834519, -0.57668707, -0.74401408, -0.27595872, -1.5411283 ,\n",
              "        0.75747507, -0.89424608, -1.11699776, -1.42074861,  1.77164927,\n",
              "       -0.96117793,  1.63821471, -0.58001934,  1.23128157,  0.8688726 ,\n",
              "       -0.28083111, -0.70255593, -0.86213368,  1.19210741, -1.22899252,\n",
              "        0.74865639, -1.00329166, -1.20523038, -0.43457366, -1.54521478,\n",
              "        1.60722756,  1.775521  ,  0.27344859,  0.21901934, -0.27637236,\n",
              "        0.49622653,  1.32032582, -0.85575581,  1.12681052, -0.88959114,\n",
              "       -1.71156818,  0.12895706, -0.65531808,  0.19771644,  1.00011505,\n",
              "        1.76480723,  0.93940566,  1.56718144,  0.17324944,  0.45420426,\n",
              "        0.25906703, -0.16783627,  1.37563045,  0.08342977, -0.22274437,\n",
              "        1.78204503, -0.32041899, -0.18362966,  1.34936653, -1.47542029,\n",
              "       -1.30350437, -0.64130104, -0.99499313, -0.60675672, -0.01914711])"
            ]
          },
          "execution_count": 15,
          "metadata": {},
          "output_type": "execute_result"
        }
      ],
      "source": [
        "Inicio = 54\n",
        "Fim = 15\n",
        "arr = np.random.rand(100)*(Fim-Inicio) + Inicio\n",
        "norma = normalizacao(arr)\n",
        "norma"
      ]
    },
    {
      "cell_type": "markdown",
      "metadata": {
        "id": "p60_N7ZwAlfK"
      },
      "source": [
        "## Questão 11\n",
        "\n",
        "Escreva uma função em numpy que receba um array contendo notas de uma turma de 100 estudantes. Considere que a nota de aprovação da turma é 5.0. A função deve retornar, em um array numpy, nesta ordem:\n",
        "- a média e o desvio-padrão das notas da turma;\n",
        "- o número de notas maiores que 7.0;\n",
        "- o número de reprovações da turma;\n",
        "- a menor nota da turma;\n",
        "- a maior nota da turma."
      ]
    },
    {
      "cell_type": "code",
      "execution_count": 29,
      "metadata": {
        "id": "Q3wkBCFtAlfK"
      },
      "outputs": [],
      "source": [
        "def notas_alunos(notas):\n",
        "    media_notas = np.mean(notas)\n",
        "    desvio_notas = np.std(notas)\n",
        "    maior_que_sete = np.size(notas[notas > 7])\n",
        "    reprovado = np.size(notas[notas < 5])\n",
        "    menor_nota = notas.min()\n",
        "    maior_nota = notas.max()\n",
        "\n",
        "    return np.array([media_notas,desvio_notas,maior_que_sete,reprovado,menor_nota,maior_nota])"
      ]
    },
    {
      "cell_type": "code",
      "execution_count": 31,
      "metadata": {},
      "outputs": [
        {
          "name": "stdout",
          "output_type": "stream",
          "text": [
            "[8.30837708 1.09633083 5.26330814 7.98324607 6.06659722 4.4166877\n",
            " 8.85941231 5.37558413 0.92372148 9.56678524 7.35550811 5.69781893\n",
            " 3.50400252 5.3447835  7.37272683 7.92458463 0.3291006  7.05593381\n",
            " 3.14026961 0.88849626 9.30067696 8.01740769 9.58499262 1.34160723\n",
            " 9.31052489 8.4875372  9.37039466 0.3230514  7.11989314 2.28885244\n",
            " 5.62084344 0.73096501 4.29016498 1.90794496 1.8782425  9.29049861\n",
            " 8.61416023 4.11878641 3.55564238 3.29599718 3.78730707 8.9838363\n",
            " 9.54636517 7.36223403 6.35375504 5.7288345  8.70141941 2.90312161\n",
            " 6.07887542 0.60100141 7.67390203 4.16565015 3.13002003 9.56294484\n",
            " 3.52415736 4.26645507 7.61617476 9.6631289  0.59629867 3.93557251\n",
            " 3.49641896 1.38028714 6.24087843 6.44509912 3.19269822 0.6736166\n",
            " 4.04593971 1.45895328 5.49904495 5.64666656 2.59434005 2.54779955\n",
            " 4.09094937 6.65855405 2.65769681 6.99330263 0.82102587 4.86102801\n",
            " 0.70540504 3.5009072  8.2594701  8.82839979 8.74407295 3.93811377\n",
            " 5.58750161 4.56569147 3.59239873 1.69286733 9.8065279  9.65493323\n",
            " 2.72944594 5.66785126 5.9382463  7.04089092 4.54429    4.50131045\n",
            " 4.59047421 6.88977021 4.37199788 0.15071629]\n"
          ]
        },
        {
          "data": {
            "text/plain": [
              "array([ 5.13708095,  2.83113798, 31.        , 50.        ,  0.15071629,\n",
              "        9.8065279 ])"
            ]
          },
          "execution_count": 31,
          "metadata": {},
          "output_type": "execute_result"
        }
      ],
      "source": [
        "#gerar números aleatórios e multiplicá-los por 10 para que sejam números entre 0 e 10.\n",
        "aleatorio_100 = np.random.rand(100)*10\n",
        "\n",
        "print(aleatorio_100)\n",
        "\n",
        "notas_alunos(aleatorio_100) "
      ]
    }
  ],
  "metadata": {
    "colab": {
      "include_colab_link": true,
      "provenance": []
    },
    "kernelspec": {
      "display_name": "Python 3",
      "language": "python",
      "name": "python3"
    },
    "language_info": {
      "codemirror_mode": {
        "name": "ipython",
        "version": 3
      },
      "file_extension": ".py",
      "mimetype": "text/x-python",
      "name": "python",
      "nbconvert_exporter": "python",
      "pygments_lexer": "ipython3",
      "version": "3.9.13"
    },
    "orig_nbformat": 4,
    "vscode": {
      "interpreter": {
        "hash": "e61fba2c193b52822b98791c874e2685707488ec551375c9937c7c570f38be3b"
      }
    }
  },
  "nbformat": 4,
  "nbformat_minor": 0
}
