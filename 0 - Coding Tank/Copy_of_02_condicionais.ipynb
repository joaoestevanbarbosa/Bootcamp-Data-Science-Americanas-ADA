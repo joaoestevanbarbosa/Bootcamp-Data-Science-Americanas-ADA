{
  "nbformat": 4,
  "nbformat_minor": 0,
  "metadata": {
    "colab": {
      "provenance": [],
      "collapsed_sections": []
    },
    "kernelspec": {
      "name": "python3",
      "display_name": "Python 3"
    },
    "language_info": {
      "name": "python"
    }
  },
  "cells": [
    {
      "cell_type": "markdown",
      "source": [
        "# Operações lógicas\n",
        "\n",
        "## Operações booleanas\n",
        "Quando estudamos variáveis, vimos que existem alguns tipos primitivos: str (texto), int (número inteiro), float (número real) e bool (lógico). Vimos diversas operações aritméticas também, como a soma, a divisão ou a potência, cujos resultados são int ou float. Porém, podemos ter também operações cujo resultado é bool: são operações lógicas.\n",
        "\n",
        "### Comparações\n",
        "Algumas das operações lógicas mais conhecidas são as comparações:\n"
      ],
      "metadata": {
        "id": "M1oib8-O7Bac"
      }
    },
    {
      "cell_type": "code",
      "source": [
        "comparacao1 = 5 > 3\n",
        "print(comparacao1)\n",
        "comparacao2 = 5 < 3\n",
        "print(comparacao2)\n",
        "\n",
        "print(type(comparacao1))"
      ],
      "metadata": {
        "id": "dsyk3HNY7RCM",
        "colab": {
          "base_uri": "https://localhost:8080/"
        },
        "outputId": "7b5f2bcc-f031-4ece-abdb-db8f24c64617"
      },
      "execution_count": null,
      "outputs": [
        {
          "output_type": "stream",
          "name": "stdout",
          "text": [
            "True\n",
            "False\n",
            "<class 'bool'>\n"
          ]
        }
      ]
    },
    {
      "cell_type": "markdown",
      "source": [
        "Se executarmos o código acima, a saída que teremos na tela será:\n",
        "\n",
        "```\n",
        "True\n",
        "False\n",
        "```\n",
        "\n",
        "Isso ocorre porque 5 é maior que 3. Portanto, comparacao1 recebeu uma expressão cujo valor lógico é verdadeiro, portanto seu resultado foi True, e o oposto ocorreu para comparacao2. O Python possui 6 operadores de comparação:\n",
        "\n",
        "* Maior que: >\n",
        "* Maior ou igual: >=\n",
        "* Menor que: <\n",
        "* Menor ou igual: <=\n",
        "* Igual: ==\n",
        "* Diferente: !=\n",
        "\n",
        "> Note que o operador para comparar se 2 valores são iguais é ==, e não =. Isso ocorre porque o operador = é o nosso operador de atribuição: ele diz que a variável à sua esquerda deve receber o valor da expressão à direita. O operador de == irá testar se o valor à sua esquerda é igual ao valor à sua direita e irá responder True ou False, como todos os outros operadores de comparação.\n",
        "\n",
        "### Negação lógica\n",
        "Outra operação lógica bastante importante é a negação. Ela inverte o resultado de uma expressão lógica. Caso a expressão resulte em True, a sua negação irá resultar em False, e vice-versa.\n",
        "\n",
        "A negação em Python é representada pela palavra not. Vamos modificar o exemplo anterior:"
      ],
      "metadata": {
        "id": "b5fSa7x37SBI"
      }
    },
    {
      "cell_type": "code",
      "source": [
        "comparacao1 = not 5 > 3\n",
        "print(comparacao1)\n",
        "comparacao2 = not 5 < 3\n",
        "print(comparacao2)"
      ],
      "metadata": {
        "id": "lvtn9JJi7nfS",
        "colab": {
          "base_uri": "https://localhost:8080/"
        },
        "outputId": "a401e2bd-baa1-4757-d38c-a480b831120e"
      },
      "execution_count": null,
      "outputs": [
        {
          "output_type": "stream",
          "name": "stdout",
          "text": [
            "False\n",
            "True\n"
          ]
        }
      ]
    },
    {
      "cell_type": "markdown",
      "source": [
        "O resultado será:\n",
        "\n",
        "```\n",
        "False\n",
        "True\n",
        "```\n",
        "\n",
        "\n",
        "Podemos resumir o funcionamento do not utilizando uma tabela-verdade. Nela testamos os diferentes valores possíveis para a entrada e anotamos o resultado para cada conjunto de valores:\n",
        "\n",
        "```\n",
        "A     not A\n",
        "True  False\n",
        "False True\n",
        "```\n",
        "\n",
        "### Conjunção lógica\n",
        "Em alguns casos precisamos testar se duas ou mais condições são verdadeiras.\n",
        "\n",
        "Imagine, por exemplo, que o critério de aprovação em uma escola seja a média superior a 6.0 e presença superior a 75%. Neste caso, o aluno precisa atender a ambos os critérios para ser aprovado. Se ele tirou uma ótima nota, mas faltou demais, será reprovado. Se ele compareceu a todas as aulas, mas teve notas baixas, idem.\n",
        "\n",
        "A conjunção lógica, também conhecida como e lógico, é representada em Python pela palavra and.\n",
        "\n",
        "O código abaixo testa se é verdade que o aluno foi aprovado:"
      ],
      "metadata": {
        "id": "dKQiQ4pJ7pSZ"
      }
    },
    {
      "cell_type": "code",
      "source": [
        "media = float(input('Digite a média do aluno: '))\n",
        "presenca = float(input('Digite as presenças do aluno: '))\n",
        "\n",
        "aprovado = media >= 6.0 and presenca >= 0.75\n",
        "print('O aluno foi aprovado?', aprovado)"
      ],
      "metadata": {
        "id": "P68UJcjA7_dO"
      },
      "execution_count": null,
      "outputs": []
    },
    {
      "cell_type": "markdown",
      "source": [
        "Execute o código acima e teste algumas combinações diferentes de valores. Note que basta uma das condições ser falsa para que o resultado total seja False.\n",
        "\n",
        "A tabela-verdade para o e lógico entre duas entradas A e B é:\n",
        "```\n",
        "A     B     A and B\n",
        "False False False\n",
        "False True  False\n",
        "True  False False\n",
        "True  True  True\n",
        "```\n",
        "### Disjunção lógica\n",
        "Nem sempre precisamos que ambas as condições sejam verdadeiras. Vários de nós já nos deparamos com promoções de queima de estoque anunciadas da seguinte maneira: \"promoção válida até o dia 15 deste mês ou enquanto durarem os estoques\".\n",
        "\n",
        "Neste caso, para a promoção acabar, não é necessário que ambas as coisas ocorram (atingir o dia 15 e zerar o estoque). Se ainda temos 10 itens no estoque, mas hoje é dia 16, a promoção acabou. Se hoje é dia 5, mas o estoque está zerado, a promoção acabou.\n",
        "\n",
        "A disjunção lógica, também chamada de ou lógico, é representada em Python pela palavra or.\n",
        "\n",
        "O programa abaixo testa se a promoção acabou:"
      ],
      "metadata": {
        "id": "HQzisikx8CCF"
      }
    },
    {
      "cell_type": "code",
      "source": [
        "dia_final = int(input('Digite o dia do mês para encerrar a promoção: '))\n",
        "dia_atual = int(input('Digite o dia do mês atual: '))\n",
        "estoque = int(input('Digite a quantidade de itens no estoque: '))\n",
        "\n",
        "acabou = dia_atual > dia_final or estoque == 0\n",
        "print(acabou)"
      ],
      "metadata": {
        "id": "WJ2aa2gA8UET"
      },
      "execution_count": null,
      "outputs": []
    },
    {
      "cell_type": "markdown",
      "source": [
        "Faça alguns testes com o programa acima e note que basta uma condição ser verdadeira para seu resultado ser True.\n",
        "\n",
        "A tabela-verdade para o ou lógico é:\n",
        "\n",
        "```\n",
        "A     B     A and B\n",
        "False False False\n",
        "False True  True\n",
        "True  False True\n",
        "True  True  True\n",
        "```\n",
        "\n",
        "> Resumo:\n",
        "> \n",
        "> * not: inverte a expressão original\n",
        "> * and: verdadeiro apenas se ambas as condições forem verdadeiras\n",
        "> * or: falso apenas se ambas as condições forem falsas\n",
        "\n",
        "## Valores truthy e falsy\n",
        "Valores não-booleanos em Python, como inteiros ou strings, podem ser convertidos para booleanos utilizando a função bool, da mesma maneira que utilizamos int e float em exemplos anteriores para converter entradas de string para número.\n",
        "\n",
        "Certos valores serão convertidos para True, enquanto outros serão convertidos para False. Em certos contextos, como expressões condicionais - que serão estudadas muito em breve - essa conversão ocorre de maneira implícita. Quando um valor pode ser interpretado como True, dizemos que ele é um valor truthy, e quando ele pode ser interpretado como False, ele é conhecido como um valor falsy.\n",
        "\n",
        "Valores Falsy comuns são:\n",
        "\n",
        "* O valor inteiro 0\n",
        "* O valor real 0.0\n",
        "* Strings vazias (strings com 0 caracteres)\n",
        "* Coleções vazias (listas, tuplas, dicionários etc. com 0 elementos)\n",
        "* A constante None, que representa uma variável \"vazia\"\n",
        "\n",
        "Valores Truthy comuns são:\n",
        "\n",
        "* Inteiros diferentes de 0\n",
        "* Reais diferentes de 0.0\n",
        "* Strings contendo ao menos 1 caractere\n",
        "* Coleções (listas, tuplas, dicionários etc.) com pelo menos 1 elemento\n",
        "\n",
        "Não se preocupe se não estiver familiarizado com todos os dados exemplificados aqui. Estudaremos cada um deles em outros momentos."
      ],
      "metadata": {
        "id": "U48mm37R8X_Q"
      }
    },
    {
      "cell_type": "markdown",
      "source": [
        "# Expressões condicionais\n",
        "## Se\n",
        "Os programas do capítulo Operações Lógicas não são \"amigáveis\" para o usuário. Ao invés de mostrar True ou False, por exemplo, seria mais útil exibir se o aluno foi \"Aprovado\" ou \"Reprovado\".\n",
        "\n",
        "Para que possamos escrever na tela as mensagens \"Aprovado\" ou \"Reprovado\", é necessário que haja em algum ponto do código o trecho print('Aprovado') e o trecho print('Reprovado'). Porém, não gostaríamos que ambos fossem exibidos ao mesmo tempo.\n",
        "\n",
        "Precisamos ramificar o fluxo de execução de nosso programa: em certas circunstâncias, o fluxo deve executar algumas linhas de código e ignorar outras.\n",
        "\n",
        "Uma condicional é uma instrução em Python que decide se outras linhas serão ou não executadas dependendo do resultado de uma condição. A condição nada mais é do que uma expressão lógica. Se a condição for verdadeira, as linhas são executadas. Senão, são ignoradas.\n",
        "\n",
        "A condicional mais básica em Python é o if (se):\n"
      ],
      "metadata": {
        "id": "_sSl9cm39Nea"
      }
    },
    {
      "cell_type": "code",
      "source": [
        "\n",
        "nota1 = float(input('Digite a nota 1: '))\n",
        "nota2 = float(input('Digite a nota2: '))\n",
        "\n",
        "media = (nota1 + nota2)/2\n",
        "\n",
        "if media >= 6.0:\n",
        "  print('Aprovado')\n",
        "\n",
        "print('Média: ', media)\n"
      ],
      "metadata": {
        "id": "UDQY1_799d5F",
        "colab": {
          "base_uri": "https://localhost:8080/"
        },
        "outputId": "e34bd56c-bc88-4ed0-c151-8d96586e6436"
      },
      "execution_count": null,
      "outputs": [
        {
          "output_type": "stream",
          "name": "stdout",
          "text": [
            "Digite a nota 1: 2\n",
            "Digite a nota2: 3\n",
            "Média:  2.5\n"
          ]
        }
      ]
    },
    {
      "cell_type": "markdown",
      "source": [
        "Execute o programa acima. Note que se (if) a média é maior ou igual a 6.0, ele exibe a mensagem \"Aprovado\" e depois a média. Caso contrário, ele apenas exibe a média.\n",
        "\n",
        "> Para dizermos que uma ou mais linhas \"pertencem\" ao nosso if, usamos um símbolo de parágrafo (tecla \"Tab\" no teclado). O programa sabe que o if \"acabou\" quando as linhas param de ter \"tabs\". Esses tabs são chamados de indentação. Tanto no if quanto no restante das estruturas de controle que estudaremos é obrigatório ter pelo menos 1 linha indentada abaixo da linha de controle.\n",
        "\n",
        "## Senão\n",
        "\n",
        "Note que conseguimos fazer nosso programa decidir se ele exibe a mensagem \"Aprovado\" ou não. O próximo passo seria fazer ele decidir entre 2 mensagens diferentes: \"Aprovado\" ou \"Reprovado\". Um primeiro jeito de fazer isso seria um segundo if invertendo a condição:\n"
      ],
      "metadata": {
        "id": "5Xwftf4Z9gda"
      }
    },
    {
      "cell_type": "code",
      "source": [
        "nota1 = float(input('Digite a nota 1: '))\n",
        "nota2 = float(input('Digite a nota2: '))\n",
        "\n",
        "media = (nota1 + nota2)/2\n",
        "\n",
        "if media >= 6.0:\n",
        "  print('Aprovado')\n",
        "if media < 6.0:\n",
        "  print('Reprovado')\n",
        "print('Média: ', media)"
      ],
      "metadata": {
        "id": "kxmZxK649wQS"
      },
      "execution_count": null,
      "outputs": []
    },
    {
      "cell_type": "markdown",
      "source": [
        "O programa acima funciona. Porém, conforme nossos programas começam a ficar mais complexos e nossos if começam a ter linhas demais, podemos nos perder e esquecer que esses 2 if são 2 casos mutuamente exclusivos. Pior ainda, podemos vir a acrescentar condições novas em um e esquecer de atualizar no outro.\n",
        "\n",
        "Nos casos em que temos condições mutuamente exclusivas, podemos utilizar um par if/else (se/senão). Se a condição for verdadeira, faça tal coisa. Senão, faça outra coisa."
      ],
      "metadata": {
        "id": "E1zdimfb92xA"
      }
    },
    {
      "cell_type": "code",
      "source": [
        "nota1 = float(input('Digite a nota 1: '))\n",
        "nota2 = float(input('Digite a nota2: '))\n",
        "\n",
        "media = (nota1 + nota2)/2\n",
        "\n",
        "if media >= 6.0:\n",
        "  print('Aprovado')\n",
        "else:\n",
        "  print('Reprovado')\n",
        "print('Média: ', media)"
      ],
      "metadata": {
        "id": "SnHaQ8Hw97_S",
        "colab": {
          "base_uri": "https://localhost:8080/"
        },
        "outputId": "94c98b11-86b0-4d45-b646-cc6d6c91bf4e"
      },
      "execution_count": null,
      "outputs": [
        {
          "output_type": "stream",
          "name": "stdout",
          "text": [
            "Digite a nota 1: 0\n",
            "Digite a nota2: 0\n",
            "Reprovado\n",
            "Média:  0.0\n"
          ]
        }
      ]
    },
    {
      "cell_type": "markdown",
      "source": [
        "> Note que o else não possui condição. A condição dele é implícita: é a negação da condição do if. Se o if executar, o else não executa e vice-versa. Consequentemente, o else não pode existir sem um if.\n",
        "\n",
        "## Aninhando condições\n",
        "É possível aninhar condições: ou seja, colocar um novo if dentro de outro if ou else. Imagine que nossa escola não reprova direto o aluno com nota inferior a 6, e sim permite que ele faça uma recuperação. Porém, o aluno precisa ter tirado no mínimo média 3 para que permitam que faça a recuperação. Assim temos:\n",
        "\n",
        "Se nota maior ou igual a 6: \n",
        "* aprovado.\n",
        "\n",
        "Senão:\n",
        "* Se nota entre 6 e 3: \n",
        "* * recuperação.\n",
        "* Senão: \n",
        "* * reprovado. \n",
        "\n",
        "Em Python:"
      ],
      "metadata": {
        "id": "DdKkqo1T-Cvz"
      }
    },
    {
      "cell_type": "code",
      "source": [
        "nota1 = float(input('Digite a nota 1: '))\n",
        "nota2 =float(input('Digite a nota 2: '))\n",
        "\n",
        "media = (nota1 + nota2)/2\n",
        "\n",
        "if media >= 6.0:\n",
        "  print('Aprovado')\n",
        "else:\n",
        "  if media >= 3.0:\n",
        "    print('Recuperação')\n",
        "  else:\n",
        "    print('Reprovado')\n",
        "\n",
        "print('Média: ', media)"
      ],
      "metadata": {
        "id": "1ppDEwrk-SQi",
        "colab": {
          "base_uri": "https://localhost:8080/"
        },
        "outputId": "16707e05-cc02-4323-db81-965ba7c69cb8"
      },
      "execution_count": null,
      "outputs": [
        {
          "output_type": "stream",
          "name": "stdout",
          "text": [
            "Digite a nota 1: 7.0\n",
            "Digite a nota 2: 7.0\n",
            "Aprovado\n",
            "Recuperação\n",
            "Média:  7.0\n"
          ]
        }
      ]
    },
    {
      "cell_type": "markdown",
      "source": [
        "## Senão-se\n",
        "Note que se começarmos a aninhar muitas condições (if dentro de else dentro de else dentro de else...), nosso código pode começar a ficar confuso, com a aparência de uma \"escadinha\":\n",
        "\n",
        "```\n",
        "Se\n",
        "Senão:\n",
        "    Se\n",
        "    Senão:\n",
        "        Se\n",
        "        Senão:\n",
        "            Se:\n",
        "            Senão:\n",
        "                Se:\n",
        "                 ...\n",
        "```\n",
        "\n",
        "Isso pode tornar o código bastante complexo e difícil de atualizar ou corrigir erros posteriormente. Para quebrar a \"escadinha\", existe a possibilidade de juntarmos o \"se\" do próximo nível com o \"senão\" do nível anterior: o elif: else + if (senão + se).\n",
        "\n",
        "O elif só é executado se um if der errado (ou seja, ele é um else), mas ele também tem uma condição que deve ser respeitada (ou seja, ele também é um if). Podemos reescrever nosso código anterior utilizando um elif:\n"
      ],
      "metadata": {
        "id": "r7f4myFK-iJ6"
      }
    },
    {
      "cell_type": "code",
      "source": [
        "nota1 = float(input('Digite a nota 1: '))\n",
        "nota2 =float(input('Digite a nota 2: '))\n",
        "\n",
        "media = (nota1 + nota2)/2\n",
        "\n",
        "if media >= 6.0:\n",
        "  print('Aprovado')\n",
        "elif media >= 3.0:\n",
        "  print('Recuperação')\n",
        "else:\n",
        "  print('Reprovado')\n",
        "\n",
        "print('Média: ', media)"
      ],
      "metadata": {
        "id": "rLAZ2NH6-r29"
      },
      "execution_count": null,
      "outputs": []
    },
    {
      "cell_type": "markdown",
      "source": [
        "Podemos usar quantos elif nós quisermos. Sempre que um deles der errado, o próximo será testado. Quando algum deles der certo, todo o restante será ignorado.\n",
        "\n",
        "Opcionalmente, podemos ter um else ao final do bloco, que só será executado se o if e todos os elif derem errado.\n",
        "\n",
        "O bloco, obrigatoriamente, deve ser iniciado com um if.\n",
        "\n",
        "**Atenção**\n",
        "> Você lembra dos valores truthy e falsy? Nós conversamos sobre eles no capítulo Operações Lógicas. Uma variável, qualquer que seja seu tipo, pode ser interpretada pelo if como se fosse uma expressão lógica.\n",
        "> \n",
        "> Se x for um inteiro, o bloco if x: será executado caso x seja diferente de zero, por exemplo.\n",
        "> \n",
        "> Uma fonte comum de erros em iniciantes envolve o uso de and ou or em condicionais e a forma como Python lida com valores truthy e falsy. Execute o trecho de código abaixo:"
      ],
      "metadata": {
        "id": "OY0oClfG-3tD"
      }
    },
    {
      "cell_type": "code",
      "source": [
        "seguro = input('Deseja adquirir um seguro opcional (sim/não): ')\n",
        "\n",
        "if seguro != 'sim' and seguro != 'não':\n",
        "    print('Você não digitou uma opção válida')\n"
      ],
      "metadata": {
        "id": "Wr11Zt58-_ZW",
        "colab": {
          "base_uri": "https://localhost:8080/"
        },
        "outputId": "3459951d-d6bc-466e-9221-4befe34540e1"
      },
      "execution_count": null,
      "outputs": [
        {
          "output_type": "stream",
          "name": "stdout",
          "text": [
            "a variável é True\n"
          ]
        }
      ]
    },
    {
      "cell_type": "markdown",
      "source": [
        "> Você verá que ele nem sempre se comporta como você imaginaria. O Python não irá interpretar a condição do if como \"seguro diferente de 'sim' e seguro diferente de 'não'\", e sim como \"(seguro diferente de 'sim') e ('não')."
      ],
      "metadata": {
        "id": "ZaAX8RiC_B5B"
      }
    },
    {
      "cell_type": "markdown",
      "source": [
        "# Exercícios\n",
        "\n",
        "Faça um programa que pede para o usuário digitar um número e responde se o número é positivo ou negativo.\n",
        "\n"
      ],
      "metadata": {
        "id": "i1IB40kJAzWh"
      }
    },
    {
      "cell_type": "code",
      "source": [
        "numero = float(input('Digite um número: '))\n",
        "if numero < 0:\n",
        "  print('Negativo')\n",
        "elif numero == 0:\n",
        "  print('Zero')\n",
        "else: print('Positivo')\n"
      ],
      "metadata": {
        "id": "xUb8JTuxA4CI",
        "colab": {
          "base_uri": "https://localhost:8080/"
        },
        "outputId": "b9052f93-a7ab-4235-dcc2-24f143146740"
      },
      "execution_count": null,
      "outputs": [
        {
          "output_type": "stream",
          "name": "stdout",
          "text": [
            "Digite um número: 0\n",
            "Zero\n"
          ]
        }
      ]
    },
    {
      "cell_type": "markdown",
      "source": [
        "Faça um programa que pede para a usuária digitar um número e responde se o número é par ou ímpar.\n",
        "\n"
      ],
      "metadata": {
        "id": "OkSL3yxZA4PZ"
      }
    },
    {
      "cell_type": "code",
      "source": [
        "numero = float(input('Digite um número: '))\n",
        "if numero % 2 == 0:\n",
        "  print('Par')\n",
        "else: print('Ímpar')"
      ],
      "metadata": {
        "id": "ykf08TYbA7xG",
        "colab": {
          "base_uri": "https://localhost:8080/"
        },
        "outputId": "5484b4ff-a2f8-42f5-a777-d435e98051da"
      },
      "execution_count": null,
      "outputs": [
        {
          "output_type": "stream",
          "name": "stdout",
          "text": [
            "Digite um número: 8\n",
            "Par\n"
          ]
        }
      ]
    },
    {
      "cell_type": "markdown",
      "source": [
        "Faça um programa que pergunta o nome do usuário e o horário do dia (apenas horas, sem os minutos). O programa deverá responder:\n",
        "\n",
        "* ```Bom dia, [nome]!``` caso o horário esteja entre 4 e 11.\n",
        "* ```Boa tarde, [nome]!``` caso o horário esteja entre 12 e 17.\n",
        "* ```Boa noite, [nome]!``` caso o horário esteja entre 18 e 23 ou 0 e 3.\n",
        "* ```Horário inválido``` caso o horário seja superior a 23 ou inferior a 0."
      ],
      "metadata": {
        "id": "ZV7mFcz4A-Dk"
      }
    },
    {
      "cell_type": "code",
      "source": [
        "texto = str(input('nome: '))\n",
        "horas = int(input('horas: '))\n",
        "if horas >= 4 and horas <= 11:\n",
        "  print(f'Bom dia, {texto}!')\n",
        "elif horas >= 4 and horas <= 17:\n",
        "  print(f'Boa tarde, {texto}!')\n",
        "elif (horas >= 18 and horas <= 23) or (horas >= 0 and horas <= 3):\n",
        "  print(f'Boa noite, {texto}!')\n",
        "else: print('Horário inválido')"
      ],
      "metadata": {
        "id": "MqMV_GGbBB91",
        "colab": {
          "base_uri": "https://localhost:8080/"
        },
        "outputId": "f1c2ee9d-d76f-4ada-af5a-cf5e112ee6c7"
      },
      "execution_count": null,
      "outputs": [
        {
          "output_type": "stream",
          "name": "stdout",
          "text": [
            "nome: t\n",
            "horas: 17\n",
            "Boa tarde, t!\n"
          ]
        }
      ]
    },
    {
      "cell_type": "markdown",
      "source": [
        "Faça um programa que pergunta o nome e o gênero da pessoa que está utilizando. O programa deverá responder:\n",
        "\n",
        "* ```Seja bem-vindo, [nome]!``` caso o gênero seja igual a 'M'\n",
        "* ```Seja bem-vinda, [nome]!``` caso o gênero seja igual a 'F'\n",
        "* ```Sej@ bem-vind@, [nome]!``` caso o gênero seja 'Neutro' ou 'Outro'\n",
        "* ```Opção inválida``` caso gênero não possua um dos 3 valores descritos acima."
      ],
      "metadata": {
        "id": "BvB2cq8-BCr8"
      }
    },
    {
      "cell_type": "code",
      "source": [
        "nome = str(input('Qual seu nome? '))\n",
        "genero = str(input('Qual seu gênero M/F/Neutro/Outro? ')).upper()\n",
        "\n",
        "if genero==\"M\":\n",
        "  print('Seja bem-vindo')\n",
        "elif genero==\"F\":\n",
        "  print('Seja bem-vinda')\n",
        "elif genero==\"NEUTRO\" or genero==\"OUTRO\":\n",
        "  print('Sej@ bem-vind@')\n",
        "else:\n",
        "  print('Opção inválida')"
      ],
      "metadata": {
        "id": "27-Xu2_xBOME",
        "colab": {
          "base_uri": "https://localhost:8080/"
        },
        "outputId": "abd98ce7-dce4-4567-bb4a-b9f765a9da61"
      },
      "execution_count": null,
      "outputs": [
        {
          "output_type": "stream",
          "name": "stdout",
          "text": [
            "Qual seu nome? JOAO\n",
            "Qual seu gênero M/F/Neutro/Outro? neutro\n",
            "Sej@ bem-vind@\n"
          ]
        }
      ]
    },
    {
      "cell_type": "markdown",
      "source": [
        "Faça um programa que deverá pedir as 2 notas de uma aluna e calcular sua média. Considere que as notas serão de 0 a 100.\n",
        "\n",
        "O programa deverá informar a média da aluna e seu status, obedecendo as regrinhas abaixo:\n",
        "\n",
        "* Aprovada, caso a média seja pelo menos 70.\n",
        "* Exame, caso a média seja pelo menos 30 e menor do que 70.\n",
        "* Reprovada caso a média seja inferior a 30."
      ],
      "metadata": {
        "id": "GifD2E6LBcmy"
      }
    },
    {
      "cell_type": "code",
      "source": [
        "nota1 = float(input('nota1: '))\n",
        "nota2 = float(input('nota2: '))\n",
        "\n",
        "if (nota1 + nota2 / 2) >= 70 and (nota1 + nota2 / 2) <=100 :\n",
        "  print('APROVADA')\n",
        "elif (nota1 + nota2 / 2) >= 30 and (nota1 + nota2 / 2) < 70:\n",
        "  print('EXAME')\n",
        "elif (nota1 + nota2 / 2) < 30:\n",
        "  print('REPROVADA')\n",
        "else: print('Invalido')"
      ],
      "metadata": {
        "id": "iDjI-71fBkw7",
        "colab": {
          "base_uri": "https://localhost:8080/"
        },
        "outputId": "8d2b2990-b825-48de-d8d6-db1c3f4ec3d4"
      },
      "execution_count": null,
      "outputs": [
        {
          "output_type": "stream",
          "name": "stdout",
          "text": [
            "nota1: 120\n",
            "nota2: 150\n",
            "Invalido\n"
          ]
        }
      ]
    },
    {
      "cell_type": "markdown",
      "source": [
        "Modifique o programa das médias do exercício anterior da seguinte maneira:\n",
        "\n",
        "Caso a aluna tenha ficado de exame, pergunte a nota do exame.\n",
        "\n",
        "Uma nova média deve ser calculada entre a média original e a nota do exame:\n",
        "\n",
        "media_exame = (media + exame)/2\n",
        "\n",
        "O programa deve exibir essa nova média junto do novo status:\n",
        "\n",
        "* Aprovada por exame caso a media_exame seja pelo menos 50.\n",
        "* Reprovada caso a media_exame seja inferior a 50."
      ],
      "metadata": {
        "id": "jz8k6rr3Bk_M"
      }
    },
    {
      "cell_type": "code",
      "source": [
        "nota1 = float(input('nota1: '))\n",
        "nota2 = float(input('nota2: '))\n",
        "\n",
        "media1 = (nota1 + nota2) / 2\n",
        "\n",
        "if media1 >= 70 and media1 <=100 :\n",
        "  print('APROVADA')\n",
        "elif media1 >= 30 and media1 < 70:\n",
        "  print('EXAME')\n",
        "  nota3 = float(input('Nota do Exame: '))\n",
        "  media_exame = (media1 + nota3)/2\n",
        "  if media_exame >=50:\n",
        "    print('Aprovada no exame final')\n",
        "  else: print('Reprovada no exame final')\n",
        "elif media1 < 30:\n",
        "  print('REPROVADA')\n",
        "else: print('Invalido')"
      ],
      "metadata": {
        "id": "Hkf--Hp3BqOH",
        "colab": {
          "base_uri": "https://localhost:8080/"
        },
        "outputId": "c2f3ecb7-c5b5-48f2-8f10-2d14afedfc78"
      },
      "execution_count": null,
      "outputs": [
        {
          "output_type": "stream",
          "name": "stdout",
          "text": [
            "nota1: 50\n",
            "nota2: 60\n",
            "EXAME\n",
            "Nota do Exame: 40\n",
            "Reprovada no exame final\n"
          ]
        }
      ]
    },
    {
      "cell_type": "markdown",
      "source": [
        "Faça um programa que pergunta o comprimento de cada um dos 3 lados de um triângulo.\n",
        "\n",
        "O programa deverá responder:\n",
        "\n",
        "* É triângulo, caso nenhum dos lados possua comprimento superior à soma dos outros dos lados.\n",
        "\n",
        "* Não é triângulo, caso um dos lados seja possua comprimento superior à soma dos outros dois lados.\n",
        "\n",
        "Exemplos:\n",
        "\n",
        "Se os lados forem 3, 4 e 5, o triângulo existe, pois:\n",
        "\n",
        "* 5 < 3 + 4\n",
        "* 4 < 3 + 5\n",
        "* 3 < 4 + 5\n",
        "\n",
        "Se os lados forem 6, 10 e 6, o triângulo também existe:\n",
        "\n",
        "* 6 < 10 + 6\n",
        "* 6 < 10 + 6\n",
        "* 10 < 6 + 6\n",
        "\n",
        "Já se os supostos lados forem 2, 5 e 2, o triângulo não existe, pois:\n",
        "\n",
        "* 5 > 2 + 2"
      ],
      "metadata": {
        "id": "tk5Wn9o9Bqbg"
      }
    },
    {
      "cell_type": "code",
      "source": [
        "lado1 = int(input('lado1: '))\n",
        "lado2 = int(input('lado2: '))\n",
        "lado3 = int(input('lado3: '))\n",
        "\n",
        "if lado1 < (lado2+lado3) and lado2 < (lado1+lado3) and lado3 < (lado1+lado2):\n",
        "  print('Triangulo')\n",
        "else: print('Not triangulo')"
      ],
      "metadata": {
        "id": "6ERJJVrDB1Ab",
        "colab": {
          "base_uri": "https://localhost:8080/"
        },
        "outputId": "23e49ffc-a901-4990-8236-417c5d7bab98"
      },
      "execution_count": null,
      "outputs": [
        {
          "output_type": "stream",
          "name": "stdout",
          "text": [
            "lado1: 2\n",
            "lado2: 5\n",
            "lado3: 2\n",
            "Not triangulo\n"
          ]
        }
      ]
    },
    {
      "cell_type": "markdown",
      "source": [
        "Modifique o programa dos triângulos do exercício anterior da seguinte maneira:\n",
        "\n",
        "Caso o programa tenha determinado que o triângulo existe, informe também o seu tipo:\n",
        "\n",
        "* Equilátero, caso os 3 lados sejam iguais\n",
        "* Isósceles, caso apenas 2 lados sejam iguais\n",
        "* Escaleno, caso todos os lados sejam diferentes entre si"
      ],
      "metadata": {
        "id": "aNb-sM6AB93z"
      }
    },
    {
      "cell_type": "code",
      "source": [
        "lado1 = int(input('ladoA: '))\n",
        "lado2 = int(input('ladoB: '))\n",
        "lado3 = int(input('ladoC: '))\n",
        "\n",
        "if lado1 < (lado2+lado3) and lado2 < (lado1+lado3) and lado3 < (lado1+lado2):\n",
        "  print('Triangulo')\n",
        "  if lado1 == lado2 == lado3:\n",
        "    print('Equilatero')\n",
        "  elif (lado1 == lado2) or (lado1 == lado3) or (lado2 == lado3):\n",
        "    print('Equilatero')\n",
        "  else: print('Escaleno')\n",
        "else: print('Not triangulo')"
      ],
      "metadata": {
        "id": "MiJjoe92CAeb",
        "colab": {
          "base_uri": "https://localhost:8080/"
        },
        "outputId": "47409298-08de-416c-bd17-86e4ada54c5c"
      },
      "execution_count": null,
      "outputs": [
        {
          "output_type": "stream",
          "name": "stdout",
          "text": [
            "ladoA: 3\n",
            "ladoB: 4\n",
            "ladoC: 5\n",
            "Triangulo\n",
            "Escaleno\n"
          ]
        }
      ]
    },
    {
      "cell_type": "markdown",
      "source": [
        "Faça um programa que pede para a usuária digitar, separadamente, os coeficientes a, b e c de uma equação de segundo grau.\n",
        "\n",
        "O programa deverá calcular o valor do discriminante (delta) e:\n",
        "\n",
        "* Caso seja positivo, o programa deverá calcular e exibir na tela os valores de suas duas raizes reais e distintas.\n",
        "\n",
        "* Caso seja zero, o programa deverá calcular e exibir na tela a sua única raiz.\n",
        "\n",
        "* Caso seja negativo, o programa deverá exibir a mensagem Não possui raizes reais.\n",
        "\n",
        "Dica 1: caso precise refrescar a memória com as fórmulas, este site pode ser útil.\n",
        "\n",
        "Dica 2: elevar um número ao expoente meio (1/2 ou 0.5) equivale a calcular sua raiz quadrada. 4 elevado a (1/2) dá 2. 9 elevado a (1/2) dá 3."
      ],
      "metadata": {
        "id": "NRSL5HT0CBA_"
      }
    },
    {
      "cell_type": "code",
      "source": [
        "a = int(input('Numero A do bascara: '))\n",
        "b = int(input('Numero B do bascara: '))\n",
        "c = int(input('Numero C do bascara: '))\n",
        "\n",
        "delta = (b**2) - (4*a*c)\n",
        "\n",
        "if delta > 0:\n",
        "  raiz1 = (-b + (delta**0.5)) / (2*a)\n",
        "  print(f'Raiz1: {raiz1}')\n",
        "  raiz2 = (-b - (delta**0.5)) / (2*a)\n",
        "  print(f'Raiz2: {raiz2}')\n",
        "elif delta == 0:\n",
        "  raiz = (-b + (delta**0.5)) / (2*a)\n",
        "  print(f'Raiz: {raiz}')\n",
        "else: print('Não possui raiz real')"
      ],
      "metadata": {
        "id": "-2W_1tHvCFph",
        "colab": {
          "base_uri": "https://localhost:8080/"
        },
        "outputId": "3cc8bfae-3ff6-4058-92a0-c5aa39496e1a"
      },
      "execution_count": null,
      "outputs": [
        {
          "output_type": "stream",
          "name": "stdout",
          "text": [
            "Numero A do bascara: -2\n",
            "Numero B do bascara: 20\n",
            "Numero C do bascara: -50\n",
            "Raiz: 5.0\n"
          ]
        }
      ]
    },
    {
      "cell_type": "markdown",
      "source": [
        "Faça um programa que pergunta um ano para a usuária e responde se ele é bissexto ou não.\n",
        "\n",
        "A regra geral para determinar se um ano é bissexto é: todo ano divisível por 4, a princípio, é bissexto: 2016, 2020, 2024...\n",
        "\n",
        "Porém existe uma exceção: anos divisíveis por 100 não são bissextos. O ano 2100, por exemplo, é divisível por 4, mas como também é divisível por 100, ele não pode ser bissexto.\n",
        "\n",
        "A exceção possui uma exceção: anos divisíveis por 400 são bissextos. O ano 2000, por exemplo, é divisível por 100. Porém, como ele também é divisível por 400, ele torna-se bissexto."
      ],
      "metadata": {
        "id": "GAE4NmFkCFzQ"
      }
    },
    {
      "cell_type": "code",
      "source": [
        "ano = int(input('Ano:'))\n",
        "\n",
        "if ano % 4 != 0:\n",
        "  print(ano, 'não é bissexto')\n",
        "\n",
        "elif ano % 4 == 0:\n",
        "   if ano % 100 == 0 and ano % 400 != 0:\n",
        "    print(ano, 'não é bissexto')\n",
        "\n",
        "   elif ano % 100 == 0 and ano % 400 == 0:\n",
        "    print(ano, 'é bissexto')\n",
        "\n",
        "   else: print(ano, 'é bissexto')\n",
        "\n",
        "\n",
        "else: print(ano, 'não é bissexto')"
      ],
      "metadata": {
        "id": "XJfuJkmWDrn-",
        "colab": {
          "base_uri": "https://localhost:8080/"
        },
        "outputId": "ebe306d5-14f5-4b7e-a63b-c715d767e874"
      },
      "execution_count": null,
      "outputs": [
        {
          "output_type": "stream",
          "name": "stdout",
          "text": [
            "Ano:2000\n",
            "2000 é bissexto\n"
          ]
        }
      ]
    },
    {
      "cell_type": "markdown",
      "source": [
        "Um banco oferece as seguintes opções de aplicação de renda fixa:\n",
        "\n",
        "* Fundo A: aceita aplicações a partir de 50 reais, não possui tempo mínimo de aplicação e rende 10% ao ano.\n",
        "\n",
        "* Fundo B: aceita aplicações a partir de 100 reais, possui tempo mínimo de aplicação de 1 ano e rende 12% ao ano.\n",
        "\n",
        "* Fundo C: aceita aplicações a partir de 500 reais, possui tempo mínimo de aplicação de 2 anos e rende 13% ao ano.\n",
        "\n",
        "* Fundo D: aceita aplicações a partir de 1000 reais, possui tempo mínimo de aplicação de 3 anos e rende 15% ao ano.\n",
        "\n",
        "* Fundo E: aceita aplicações a partir de 3000 reais, possui tempo mínimo de aplicação de 5 anos e rende 18% ao ano.\n",
        "\n",
        "Faça um programa que pergunta para a usuária em qual fundo ela deseja aplicar seu dinheiro, quanto dinheiro ela possui e o tempo que ela pretende deixar o dinheiro aplicado (em anos).\n",
        "\n",
        "Caso o valor e o tempo estejam adequados às regras do fundo selecionado, utilize a fórmula dos juros compostos para informar para ela o valor total que ela irá sacar ao final do período informado por ela.\n",
        "\n",
        "Caso contrário, exiba a mensagem Não é possível realizar essa aplicação."
      ],
      "metadata": {
        "id": "WUoM33lLsoqz"
      }
    },
    {
      "cell_type": "code",
      "source": [
        "fundo = input('Escolha o seu fundo:')\n",
        "capital = float(input('Quanto dinheiro aplicará: '))\n",
        "tempo = float(input('Quanto tempo aplicará: '))\n",
        "\n",
        "invalida = False \n",
        "\n",
        "if fundo =='A' and capital >= 50.0:\n",
        "  juros = 0.1\n",
        "elif fundo =='B' and capital >= 100.0 and tempo >= 1.0:\n",
        "  juros = 0.12\n",
        "elif fundo =='C' and capital >- 1000.0 and tempo >= 3.0:\n",
        "  juros = 0.15\n",
        "elif fundo =='E' and capital >= 3000.0 and tempo >= 5.0:\n",
        "  juros = 0.18\n",
        "else:\n",
        "  print('Opcao invalida!')\n",
        "  invalida = True\n",
        "\n",
        "# if invalida == false:\n",
        "if not invalida:\n",
        "  m = capital*(1+juros)**tempo\n",
        "  print('Montante', m)"
      ],
      "metadata": {
        "id": "xNJpc7tZDxpC"
      },
      "execution_count": null,
      "outputs": []
    },
    {
      "cell_type": "code",
      "source": [],
      "metadata": {
        "id": "rgIxO5eDvz2w"
      },
      "execution_count": null,
      "outputs": []
    }
  ]
}