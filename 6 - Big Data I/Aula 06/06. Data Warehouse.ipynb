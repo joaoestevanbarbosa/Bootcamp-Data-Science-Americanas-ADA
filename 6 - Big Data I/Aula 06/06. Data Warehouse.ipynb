{
 "cells": [
  {
   "cell_type": "markdown",
   "id": "a1aa147f",
   "metadata": {},
   "source": [
    "# Aula 06 - Data Warehouse\n"
   ]
  },
  {
   "cell_type": "markdown",
   "id": "5df297fc",
   "metadata": {},
   "source": [
    "<input type=\"checkbox\" checked><checkbox> Introdução          <br>\n",
    "<input type=\"checkbox\" checked><checkbox> Modelo dimensional  <br>\n",
    "<input type=\"checkbox\" checked><checkbox> Star Schema         <br>\n",
    "<input type=\"checkbox\" checked><checkbox> Snowflake Schema    <br>\n",
    "<input type=\"checkbox\" checked><checkbox> Modelagem de Data Warehouse    <br>    "
   ]
  },
  {
   "cell_type": "markdown",
   "id": "218bb1b5",
   "metadata": {},
   "source": [
    "![](https://s3-sa-east-1.amazonaws.com/lcpi/f9fa3d43-b846-4a5d-b1a8-75aa51d64500.png)"
   ]
  },
  {
   "cell_type": "markdown",
   "id": "a0ac1798",
   "metadata": {},
   "source": [
    "## 1. Modelo Relacional"
   ]
  },
  {
   "cell_type": "markdown",
   "id": "000497bf",
   "metadata": {},
   "source": [
    "Um modelo de banco de dados é uma estrutura lógica que descreve os elementos de dados e suas relações dentro de um banco. A modelagem relacional é o processo de criar um modelo relacional dos dados, descrevendo entidades e seus relacionamentos entre si. A seguir, um exemplo de um `Diagrama de Entidade Relacionamento (DER)` que representa um modelo relacional. "
   ]
  },
  {
   "cell_type": "markdown",
   "id": "f96ad4f6",
   "metadata": {},
   "source": [
    "![](images/der.svg)"
   ]
  },
  {
   "cell_type": "markdown",
   "id": "80ac7ce0",
   "metadata": {},
   "source": [
    "Em um modelo relacional, cada entidade é descrita como uma tabela, onde suas colunas são as características dessa entidade, as linhas são exemplos dessa entidade, e as relações são as formas como as entidades são associadas umas as outras.\n",
    "Por exemplo, no diagrama acima `users` possui uma relação com `teams`, isto é, um usuário está relacionado a um ou mais times, bem como um time pode ter um ou mais usuários (cardinalidade de * <-> *). "
   ]
  },
  {
   "cell_type": "markdown",
   "id": "e0a801be",
   "metadata": {},
   "source": [
    "## 2. Modelo dimensional"
   ]
  },
  {
   "cell_type": "markdown",
   "id": "5c222bb3",
   "metadata": {},
   "source": [
    "O modelo dimensional surge como alternativa ao modelo tradicional de entidade e relacionamento para facilitar a criação de bancos de dados analíticos. O objetivo da modelagem dimensional é facilitar a análise de dados e construção de indicadores."
   ]
  },
  {
   "cell_type": "markdown",
   "id": "cb92cdf6",
   "metadata": {},
   "source": [
    "> - No contexto dimensional, processos de negócio e suas medidas são <u>fatos</u>. \n",
    "> - Atributos que detalham ou filtram fatos são chamados de <u>dimensões</u> na modelagem dimensional."
   ]
  },
  {
   "cell_type": "markdown",
   "id": "c4985dd8",
   "metadata": {},
   "source": [
    "#### OLTP x OLAP\n",
    "\n",
    "O sistema OLTP (Online Transaction Processing) captura e mantém os dados das transações em um banco de dados. Cada transação envolve registros de banco de dados individuais compostos de vários campos ou colunas. Os exemplos incluem atividades bancárias e de cartão de crédito ou digitalização de caixas de varejo.\n",
    "\n",
    "OLAP (Online Analytical Processing) aplica consultas complexas a grandes quantidades de dados históricos, agregados de bancos de dados OLTP e outras fontes, para mineração de dados, análises e projetos de inteligência de negócios."
   ]
  },
  {
   "cell_type": "markdown",
   "id": "646ab8fe",
   "metadata": {},
   "source": [
    "![](https://s3-sa-east-1.amazonaws.com/lcpi/bae11065-19ff-401b-925b-601b763e970e.svg)"
   ]
  },
  {
   "cell_type": "markdown",
   "id": "d057debd",
   "metadata": {},
   "source": [
    "##### OLTP\n",
    "- Foco: Operações diárias\n",
    "- DB: Específico da aplicação\n",
    "- Modelo de dados: Relacional\n",
    "- Tempo: atual\n",
    "    \n",
    "##### OLAP\n",
    "- Foco: Análises e Analytics\n",
    "- DB: Orientado ao negócio\n",
    "- Modelo de dados: Dimensional    \n",
    "- Tempo: Histórico    "
   ]
  },
  {
   "cell_type": "markdown",
   "id": "ff552fdb",
   "metadata": {},
   "source": [
    "## 2. Star Schema"
   ]
  },
  {
   "cell_type": "markdown",
   "id": "7ef35b9d",
   "metadata": {},
   "source": [
    "Um esquema em estrela é uma estrutura organizacional de banco de dados otimizada para uso em data warehouse ou inteligência de negócios que usa uma única grande `tabela de fatos` para armazenar dados transacionais ou medidos e uma ou mais `tabelas dimensionais` menores que armazenam atributos sobre os dados. É chamado de esquema em estrela porque a tabela de fatos fica no centro do diagrama lógico e as pequenas tabelas dimensionais se ramificam para formar os pontos da estrela."
   ]
  },
  {
   "cell_type": "markdown",
   "id": "d7580cde",
   "metadata": {},
   "source": [
    "### Componentes"
   ]
  },
  {
   "cell_type": "markdown",
   "id": "71d24da3",
   "metadata": {},
   "source": [
    "A **`tabela de fatos`** armazena dois tipos de informações: valores numéricos e valores de atributo de dimensão . Usando um banco de dados de vendas como exemplo:\n",
    "\n",
    "> As `células de valor numérico` são exclusivas para cada linha ou ponto de dados e não se correlacionam ou se relacionam com os dados armazenados em outras linhas. Podem ser fatos sobre uma transação, como ID do pedido, valor total, lucro líquido, quantidade do pedido ou hora exata.\n",
    "\n",
    "> Os `valores de atributo de dimensão` não armazenam dados diretamente, mas armazenam o valor da chave estrangeira para uma linha em uma tabela dimensional relacionada. Muitas linhas na tabela de fatos farão referência a esse tipo de informação. Assim, por exemplo, ele pode armazenar o ID do funcionário de vendas, um valor de data, um ID de produto ou um ID de filial."
   ]
  },
  {
   "cell_type": "markdown",
   "id": "75a3d8cd",
   "metadata": {},
   "source": [
    "As **`tabelas de dimensões`** armazenam informações de suporte na tabela de fatos. Cada banco de dados de esquema em estrela tem pelo menos uma tabela de dimensão, mas muitas vezes terá muitas. Cada tabela de dimensão se relacionará a uma coluna na tabela de fatos com um valor de dimensão e armazenará informações adicionais sobre esse valor.\n",
    "\n",
    " Por exemplo:\n",
    "\n",
    " > A tabela de dimensões do funcionário pode usar a ID do funcionário como um valor-chave e pode conter informações como nome, sexo, endereço ou número de telefone do funcionário.\n",
    "\n",
    " > Uma tabela de dimensões do produto pode armazenar informações como o nome do produto, custo de fabricação, cor ou data de lançamento no mercado."
   ]
  },
  {
   "cell_type": "markdown",
   "id": "2c567f09",
   "metadata": {},
   "source": [
    "![](https://s3-sa-east-1.amazonaws.com/lcpi/a198f088-9357-4cc7-87be-e42cf1298232.png)"
   ]
  },
  {
   "cell_type": "markdown",
   "id": "3cc6eecb",
   "metadata": {},
   "source": [
    "### 2.1 Fatos\n",
    "\n",
    "**Fatos** são eventos ou medidas geradas no processo de negócio da empresa. <br>\n",
    "Ex.: Venda, Boleto emitido, Chamado de Suporte, etc. Em geral, uma tabela fato contém apenas chaves estrangeiras e medidas.\n",
    "\n",
    "**Medidas** são métricas ou medidas relevantes para a tabela fato. <br>\n",
    "Ex.: Unidades Vendidas, Preço. O grão ou granularidade de uma tabela fato é dado pela combinação das suas dimensões e deve ser o mesmo para todas as medidas."
   ]
  },
  {
   "cell_type": "markdown",
   "id": "728dcddd",
   "metadata": {},
   "source": [
    "Exemplo de tabela fato:"
   ]
  },
  {
   "cell_type": "markdown",
   "id": "74f6b166",
   "metadata": {},
   "source": [
    "![](images/ex_tabela.png)"
   ]
  },
  {
   "cell_type": "markdown",
   "id": "9c02fb95",
   "metadata": {},
   "source": [
    "##### Tipos de tabela fatos\n",
    "\n",
    " > - Transacional: o grão é definido ao nível de um registro individual como um contrato ou transação.\n",
    " > - Snapshot Periódico: grão definido ao nível de algum período específico, como dia, semana, etc.\n",
    " > - Snapshot Acumulativo: grão é um processo que tem um início e fim claro, por exemplo um atendimento de suporte ou um chamado de seguro."
   ]
  },
  {
   "cell_type": "markdown",
   "id": "58c1a591",
   "metadata": {},
   "source": [
    "\n",
    "##### Tipos de Medidas\n",
    "> Sempre que possível queremos manter as medidas aditivas. Isso facilita o entendimento do usuário e evita problemas, porém em alguns tipos de medidas isso não é possível (e.x contar distinto). Existem três tipos de medidas utilizadas:\n",
    "\n",
    "> - Aditivas: medidas que podem ser somadas ao longo das dimensões Ex.: Unidades Vendidas;\n",
    "> - Não Aditivas: medidas que não podem ser somadas ao longo das dimensões. Ex.: característica categórica;\n",
    "> - Semi aditivas: medidas que podem ser somadas ao longo de algumas dimensões e não de outras. Ex.: Saldo do estoque."
   ]
  },
  {
   "cell_type": "markdown",
   "id": "d1e6f65c",
   "metadata": {},
   "source": [
    "### 2.2 Dimensões"
   ]
  },
  {
   "cell_type": "markdown",
   "id": "14833304",
   "metadata": {},
   "source": [
    "Dimensões são informações de negócios que descrevem os fatos; por exemplo, cidade, produtos, clientes, datas, etc. De forma geral, podem ser filtradas/agrupadas ou usadas como rótulos em Relatórios e Gráficos. É comum que uma mesma Tabela Dimensão possa estar relacionada a muitas tabelas Fato, relação essa que é feita por um chave (código que representa uma informação)."
   ]
  },
  {
   "cell_type": "markdown",
   "id": "a3f22196",
   "metadata": {},
   "source": [
    "#### Tipos de chaves"
   ]
  },
  {
   "cell_type": "markdown",
   "id": "bfa57d57",
   "metadata": {},
   "source": [
    " > - **`Chave natural ou de negócio`**: Atributo único de registro. Ex.: número de documento.\n",
    " > - **`Chave primária, candidata ou alternativa`**: <br>\n",
    "     - `Chave primária`: Atributo único principal de registro;<br>\n",
    "     - `Chave alternativa`: Atributo único secundário de registro;<br>\n",
    "     - `Chave candidata`: Todo atributo único pode ser uma chave candidata;\n",
    " > - **`Chave Surrogate (SK)`**: Uma chave candidata única dentro da uma dimensão.\n",
    " > - **`Chave estrangeira (FK)`**: Uma chave na tabela fatos que aponta para uma sk na tabela dimensão;  "
   ]
  },
  {
   "cell_type": "markdown",
   "id": "6d2fd857",
   "metadata": {},
   "source": [
    "### Vantagens e desvantagens do esquema em estrela\n",
    "#### Vantagens\n",
    " - design simples;\n",
    " - leitura rápida e consultas;\n",
    " - fácil agregação de dados; e\n",
    " - fácil integração com sistemas OLAP e cubos de dados.\n",
    "\n",
    "#### Desvantagens\n",
    " - dados redundantes permitem maior armazenamento em disco;\n",
    " - potencial para anormalidades, erros e inconsistências de dados;\n",
    " - consultas mais lentas;\n",
    " - flexibilidade limitada em dados não dimensionais."
   ]
  },
  {
   "cell_type": "markdown",
   "id": "0ea79812",
   "metadata": {},
   "source": [
    "### Exemplo"
   ]
  },
  {
   "cell_type": "markdown",
   "id": "7584ac13",
   "metadata": {},
   "source": [
    "\n",
    "A implementação do modelo dimensional em um banco de dados relacional é chamada de **`esquema estrela`** (do inglês, star schema). O centro de um esquema estrela é composto por uma **`tabela fato`** que agrupa medidas de um processo de negócio específico (ex. pedidos). A tabela fato é relacionada por diferentes **`tabelas dimensão`** que agrupam dimensões relacionadas entre si (ex. clientes, locais, produtos)."
   ]
  },
  {
   "cell_type": "markdown",
   "id": "527897c8",
   "metadata": {},
   "source": [
    "Ao conjunto de esquemas estrela de áreas específicas é dado o nome de Data Mart. Uma empresa pode, por exemplo, possuir um **`data mart`** dos processos da área comercial, outro da produção, marketing, financeiro etc. O grau de compatibilidade entre diferentes marts depende da forma como o data warehouse foi desenvolvido e também pode variar entre as diferentes arquiteturas de data warehouses."
   ]
  },
  {
   "cell_type": "markdown",
   "id": "03ba3a40",
   "metadata": {},
   "source": [
    "Para cada tabela dimensão é gerada uma chave única, em geral sem significado de negócio, chamada de **`surrogate key (SK)`**. Nas tabelas fato, essas chaves são tratadas como chaves estrangeiras para as tabelas dimensão e sua combinação define o grão, ou granularidade, da tabela fato. Em geral, as tabelas dimensão não possuem chaves estrangeiras de modo que um esquema estrela só possui um nível de relacionamentos ou JOINS, facilitando as análises de negócio ad-hoc e por ferramentas de BI."
   ]
  },
  {
   "cell_type": "markdown",
   "id": "bfe667a2",
   "metadata": {},
   "source": [
    "![](https://s3-sa-east-1.amazonaws.com/lcpi/652c9590-7c10-4edb-b8c0-ed988290d4c9.png)"
   ]
  },
  {
   "cell_type": "markdown",
   "id": "b9d98d47",
   "metadata": {},
   "source": [
    "Consulta em um banco normalizado Start Schema: "
   ]
  },
  {
   "cell_type": "markdown",
   "id": "5dc664bf",
   "metadata": {},
   "source": [
    "```sql\n",
    "\n",
    "SELECT\n",
    "\tdatas.mes,\n",
    "\tlocais.cidade,\n",
    "\tproduto.nome_do_produto,\n",
    "\trepresentante.nome_do_representante,\n",
    "\tSUM(fato_vendas.valor_total)\n",
    "FROM\n",
    "\tdatas,\n",
    "\tlocais,\n",
    "\tproduto,\n",
    "\trepresentante,\n",
    "\tfato_vendas\n",
    "WHERE\n",
    "\tdatas.chave_data = fato_vendas.chave_data\n",
    "\tAND locais.chave_local = fato_vendas.chave_local\n",
    "\tAND produto.chave_produto = fato_vendas.chave_produto\n",
    "\tAND representante.chave_representante = fato_vendas.chave_representante\n",
    "\n",
    "```"
   ]
  },
  {
   "cell_type": "markdown",
   "id": "2df52aca",
   "metadata": {},
   "source": [
    "Em alguns casos pode ser necessária a inclusão de tabelas normalizadas em um data mart. Quando isso ocorre, o esquema resultante é chamado de modelo **`snowflake`**. Existem ainda outros tipos de tabelas como bridge e hierarquias que respondem a problemas práticos que não são completamente satisfeitos pelo esquema estrela tradicional. Em geral, a omissão ou utilização de outras estruturas no design do data warehouse possuem prós e contras e precisam ser avaliadas caso a caso pelo analista."
   ]
  },
  {
   "cell_type": "markdown",
   "id": "fdbc8470",
   "metadata": {},
   "source": [
    "### 3. Snowflake Schema"
   ]
  },
  {
   "cell_type": "markdown",
   "id": "f5dfd618",
   "metadata": {},
   "source": [
    "Um **`snowflake`** (floco de neve) schema é um modelo de dados multidimensional que é uma extensão de um star schema, onde as tabelas de dimensão são divididas em subdimensões lógicas. Isso torna o modelo de dados mais complexo, mas pode ser mais fácil para os analistas trabalharem, especialmente para determinados tipos de dados."
   ]
  },
  {
   "cell_type": "markdown",
   "id": "57bc9027",
   "metadata": {},
   "source": [
    "#### Exemplo\n",
    "![](https://s3-sa-east-1.amazonaws.com/lcpi/160397a6-5791-4ef7-a098-d478b4a55f20.png)"
   ]
  },
  {
   "cell_type": "markdown",
   "id": "687d80f0",
   "metadata": {},
   "source": [
    "#### Vantagens e desvantagens de um esquema snowflake\n",
    "##### Vantagens\n",
    " - Recuperação rápida de dados\n",
    " - Aplica a qualidade dos dados\n",
    " - Modelo de dados simples e comum para armazenamento de dados\n",
    " \n",
    "##### Desvantagens\n",
    " - Muita sobrecarga na configuração inicial\n",
    " - Modelo de dados rígido\n",
    " - Altos custos de manutenção"
   ]
  },
  {
   "cell_type": "markdown",
   "id": "b9d9e7fa",
   "metadata": {},
   "source": [
    "## Modelagem relacional -> dimensional"
   ]
  },
  {
   "cell_type": "markdown",
   "id": "b2004c65",
   "metadata": {},
   "source": [
    "**Etapa 1**: Identificar os processos de negócio<br>\n",
    "**Etapa 2**: Identificar fatos e dimensões em seu modelo de dados dimensionais<br>\n",
    "**Etapa 3**: identificar os atributos para as dimensões<br>\n",
    "**Etapa 4**: Definir a granularidade dos fatos comerciais<br> "
   ]
  },
  {
   "cell_type": "markdown",
   "id": "2547b1ae",
   "metadata": {},
   "source": [
    "## 4. Modelagem de um Data Warehouse"
   ]
  },
  {
   "cell_type": "markdown",
   "id": "6cb32d40",
   "metadata": {},
   "source": [
    "#### O que é um Data Warehouse?\n",
    "\n",
    "Data Warehouse (DW), do inglês \"Armazém de dados\", é um repositório central de informações que podem ser analisadas para tomar decisões mais adequadas. Os dados fluem de sistemas transacionais, bancos de dados relacionais e de outras fontes para o data warehouse, normalmente com uma cadência regular. Analistas de negócios, engenheiros de dados, cientistas de dados e tomadores de decisões acessam os dados por meio de ferramentas de inteligência de negócios (BI), clientes SQL e outros aplicativos de análise. "
   ]
  },
  {
   "cell_type": "markdown",
   "id": "ff230739",
   "metadata": {},
   "source": [
    "![](https://s3-sa-east-1.amazonaws.com/lcpi/002867c0-b0a8-4bd7-b3d8-2da865bca0dc.svg)"
   ]
  },
  {
   "cell_type": "markdown",
   "id": "5ed38d25",
   "metadata": {},
   "source": [
    "De forma dinâmica:"
   ]
  },
  {
   "cell_type": "markdown",
   "id": "9f74a9d9",
   "metadata": {},
   "source": [
    "![](https://s3-sa-east-1.amazonaws.com/lcpi/8d1e73d3-a12f-4a47-a504-5cf5325ce70a.gif)"
   ]
  },
  {
   "cell_type": "markdown",
   "id": "17931424",
   "metadata": {},
   "source": [
    "## Camadas\n",
    " - **RAW** : Dados brutos\n",
    " - **SILVER**: Dados tratados\n",
    " - **GOLD**: Dados agregados\n",
    " \n",
    "**Referência:** https://www.databricks.com/glossary/medallion-architecture "
   ]
  },
  {
   "cell_type": "markdown",
   "id": "f175dce2",
   "metadata": {},
   "source": [
    "![](https://s3-sa-east-1.amazonaws.com/lcpi/c164936e-387c-4487-a313-a838d9930232.png)"
   ]
  },
  {
   "cell_type": "markdown",
   "id": "12fc4233",
   "metadata": {},
   "source": [
    "#### Principais características:\n",
    " - Integração de dados\n",
    " - Modelagem dimensional\n",
    " - Estruturado\n",
    " - Não volátil (batch)"
   ]
  },
  {
   "cell_type": "markdown",
   "id": "eacfc84f",
   "metadata": {},
   "source": [
    "### 5. ETL (Extract-Transform-Load)\n",
    "\n",
    "ETL é o processo de extração, transformação e armazenamento de um conjunto de bases que compõem o DW. O objetivo é fazer a integração e disponibilização de um conjunto de dados de forma que estes possam ser acessados e analisados pelas equipes de dados. \n",
    "\n",
    "O processo se inicia com a extração dos dados das fontes de origem. As fontes podem ser diferentes bancos de dados, planilhas e arquivos. Em seguida, os dados são transformados, agregados e modelados dimensionalmente. Nesta etapa, pode ocorrer a limpeza das bases, tratamentos de valores faltantes e de tipos de dados, agregação, sumarização e codificação. Na etapa final de carregamento, os dados são armazenados e disponibilizados no data warehouse. "
   ]
  },
  {
   "cell_type": "markdown",
   "id": "6dd9c8df",
   "metadata": {},
   "source": [
    "![](https://s3-sa-east-1.amazonaws.com/lcpi/b594f142-2d50-429f-94e7-88246f85ad2c.svg)"
   ]
  },
  {
   "cell_type": "markdown",
   "id": "c8a5bb47",
   "metadata": {},
   "source": [
    "#### Data Marts\n",
    "\n",
    "Algumas empresas podem adicionar mais uma camada de abstração na organização de seus dados, categorizandos em `data marts`. Um **`Data Mart`** é um divisão do data warehouse para uma parte específica da empresa. Por exemplo, uma empresa poderia dividir seu data warehouse em setores tais como: financeiro, vendas, publicidade, etc. Cada setor teria um data mart próprio. "
   ]
  },
  {
   "cell_type": "markdown",
   "id": "a3317bea",
   "metadata": {},
   "source": [
    "**Referências**: \n",
    " - https://www.engdeanalytics.com.br/chapters/08/03/esquema_estrela.html\n",
    " - https://www.techtarget.com/searchdatamanagement/definition/star-schema\n",
    " - https://www.databricks.com/blog/2022/06/24/data-warehousing-modeling-techniques-and-their-implementation-on-the-databricks-lakehouse-platform.html\n",
    " - https://www.databricks.com/glossary/snowflake-schema\n",
    " - https://www.astera.com/type/blog/data-warehouse-concepts/"
   ]
  },
  {
   "cell_type": "code",
   "execution_count": null,
   "id": "e8f44840",
   "metadata": {},
   "outputs": [],
   "source": []
  }
 ],
 "metadata": {
  "kernelspec": {
   "display_name": "Python 3 (ipykernel)",
   "language": "python",
   "name": "python3"
  },
  "language_info": {
   "codemirror_mode": {
    "name": "ipython",
    "version": 3
   },
   "file_extension": ".py",
   "mimetype": "text/x-python",
   "name": "python",
   "nbconvert_exporter": "python",
   "pygments_lexer": "ipython3",
   "version": "3.7.15"
  }
 },
 "nbformat": 4,
 "nbformat_minor": 5
}
