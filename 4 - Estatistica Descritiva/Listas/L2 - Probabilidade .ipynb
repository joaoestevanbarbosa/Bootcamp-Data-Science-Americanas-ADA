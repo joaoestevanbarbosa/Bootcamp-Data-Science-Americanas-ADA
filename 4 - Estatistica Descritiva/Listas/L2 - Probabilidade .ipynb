{
 "cells": [
  {
   "cell_type": "markdown",
   "id": "ab3dfefb",
   "metadata": {},
   "source": [
    "# Exercícios - Probabilidade"
   ]
  },
  {
   "cell_type": "markdown",
   "id": "65123c45",
   "metadata": {},
   "source": [
    "### Questão 1"
   ]
  },
  {
   "cell_type": "markdown",
   "id": "f36953b8",
   "metadata": {},
   "source": [
    "Um teste para COVID-19 possui uma taxa de 5% de falso positivo e 1% de falso negativo, ou seja, em 5% dos não-infectados acusa como infectados, e em 1% dos infectados acusa como não infectados. Sabendo que atualmente 1% da população está infectada, calcule a probabilidade de um paciente cujo teste apontou positivo estar realmente infectado."
   ]
  },
  {
   "attachments": {},
   "cell_type": "markdown",
   "id": "d5aa0a54",
   "metadata": {},
   "source": [
    "\n",
    "###### Temos uma determinada doença C, e um teste T utilizado para detectar esta doença. \n",
    "\n",
    "###### O teste não é 100% confiável, indicando pessoas que **não têm a doença como doentes (falsos positivos)** e **não detectando a doença em pessoas que a possuem (falsos negativos)**\n",
    "\n",
    "###### > Consideremos que 1% das pessoas possui a doença: $P(C) = 0.01$\n",
    "\n",
    "###### > Logo, 99% das pessoas não a possui: $P(¬C) = 0.99$\n",
    "\n",
    "###### Os Falsos positivos são 5%, ou seja 5% dos testes positivos na verdade não estâo com a doença. Já o caso dos falsos negativos são 1%, ou seja 1% dos testes negativos na verdade a pessoa está realmente doente. Vamos ver esse resumo na matriz de confusão abaixo:\n",
    "\n",
    "\n",
    "|                | Pessoa Doente | Pessoa Não Doente |\n",
    "|----------------|---------------|-------------------|\n",
    "| Teste positivo | 99 %          | 5 %               |\n",
    "| Teste Negativo |  1 %          | 95 %              |\n",
    "\n",
    "\n",
    "###### Agora, a chance de você **ter a doença e o teste detecta-la (verdadeiro positivo)** é igual **a chance de você ter a doença multiplicado pela chance do teste ter dado positivo corretamente**;\n",
    "\n",
    "###### Analogamente, a chance de você **não ter a doença e o teste detecta-la mesmo assim (falso positivo)** é igual **a chance de você não ter a doença multiplicado pela chance do teste ter dado positivo incorretamente**;\n",
    "\n",
    "###### E assim por diante, para todos os resultados. Atualizamos então a tabela, que fica assim:\n",
    "\n",
    "|                | Pessoa Doente                            | Pessoa Não Doente                               |\n",
    "|----------------|------------------------------------------|-------------------------------------------------|\n",
    "| **Teste positivo** | Prob Doente e teste pos: 1% × 99% = 9,9% | Prob Não Doente e teste pos: 99% × 5% = 4,95%   |\n",
    "| **Teste Negativo** | Prob Doente e teste neg: 1% × 1% = 0,01% | Prob Não Doente e teste neg: 99% × 95% = 94,05% |\n",
    "\n",
    "\n",
    "###### Considerando o cálculo básico de probabilidade, temos que a chance de ter a doença é igual à **chance do evento desejado dividido por todas as possibilidades**. \n",
    "\n",
    "###### O evento desejado é um positivo verdadeiro, ou seja, **teste positivo e a pessoa com doença**.\n",
    "\n",
    "###### O **total de possibilidades com relação ao teste positivo** seria a **soma da probabilidade de “doente e teste pos”** (verdadeiro positivo) com **“não doente e teste pos” (falso positivo)**, que resultará em 9,9% + 4,95% = 14,85%\n",
    "\n",
    "###### Fazendo toda a conta, nossa chance de ter a doença se temos um teste positivo é de 9,9/14,85 = 66,23%."
   ]
  },
  {
   "attachments": {},
   "cell_type": "markdown",
   "id": "1e7c4fc3",
   "metadata": {},
   "source": [
    "---"
   ]
  },
  {
   "cell_type": "markdown",
   "id": "e1e8b03b",
   "metadata": {},
   "source": [
    "### Questão 2"
   ]
  },
  {
   "attachments": {},
   "cell_type": "markdown",
   "id": "9b42655a",
   "metadata": {},
   "source": [
    "A probabilidade de dado honesto é conhecido e igual a $1/6$, mas quando vamos testar isso com um dado físico, não necessariamente vai cair uma vez cada face do dado (se eu lançar ele 6 vezes). A ideia é que conforme fazermos vários testes a tendência é que a probabilidade de cada face irá convergir pro valor esperado. \n",
    "\n",
    "Vamos testar este conceito utilizando da programação seguintes os itens abaixo:]\n",
    "\n",
    "__A)__ Desenvolva uma função que receba um valor n, onde n é a quantidade de elementos e o objetivo da função é retorna uma _Series_ com n elementos sendo esses elementos números variando de 1 e 6;"
   ]
  },
  {
   "cell_type": "code",
   "execution_count": 14,
   "id": "0f8a1054",
   "metadata": {},
   "outputs": [],
   "source": [
    "import numpy as np\n",
    "import pandas as pd\n",
    "import matplotlib.pyplot as plt\n",
    "import seaborn as sns\n",
    "import random"
   ]
  },
  {
   "cell_type": "code",
   "execution_count": 16,
   "id": "3d93e047",
   "metadata": {},
   "outputs": [
    {
     "data": {
      "text/plain": [
       "0    6\n",
       "1    6\n",
       "2    2\n",
       "3    6\n",
       "4    4\n",
       "5    4\n",
       "dtype: int64"
      ]
     },
     "execution_count": 16,
     "metadata": {},
     "output_type": "execute_result"
    }
   ],
   "source": [
    "#A)Desenvolva uma função que receba um valor n, onde n é a quantidade de elementos e o objetivo da função é retorna uma _Series_ com n elementos \n",
    "    #sendo esses elementos números variando de 1 e 6;\n",
    "\n",
    "\n",
    "# Cria uma função que gera aleatoriamente n elementos entre 1 e 6\n",
    "def funcaoA(n):\n",
    "    # Cria uma lista vazia\n",
    "    lista=[]\n",
    "\n",
    "    # Loop entre 0 e n-ésimo elemento\n",
    "    for i in range(0,n):\n",
    "        # Usando o random.randint gera um número aleatório entre 1 e 6\n",
    "        numero_aleatorio = random.randint(1,6)\n",
    "\n",
    "        # Salva o número gerado em uma lista\n",
    "        lista.append(numero_aleatorio)\n",
    "    \n",
    "    # a saída convertemos a lista em uma Series do Pandas\n",
    "    return pd.Series(lista)\n",
    "\n",
    "funcaoA(6)"
   ]
  },
  {
   "attachments": {},
   "cell_type": "markdown",
   "id": "d575b72d",
   "metadata": {},
   "source": [
    "__B)__ Teste a função para n igual a 10, 100, 1.000, 10.000 e 100.000 casos e para cada um deles calcule a proporção de vezes que aparece cada número;\n",
    "\n",
    "__DIca.:__ utilize a função do _Pandas_ `.value_counts`"
   ]
  },
  {
   "cell_type": "code",
   "execution_count": 17,
   "id": "e85bec88",
   "metadata": {},
   "outputs": [
    {
     "name": "stdout",
     "output_type": "stream",
     "text": [
      "16.666666666666664\n"
     ]
    }
   ],
   "source": [
    "#B)Teste a função para n igual a 10, 100, 1.000, 10.000 e 100.000 casos e para cada um deles calcule a proporção de vezes que aparece cada número;\n",
    "\n",
    "# Calculo da Probabilidade teórica de uma face do dado honesto em porcentagem\n",
    "P = (1/6)*100\n",
    "\n",
    "# PRint da Probabilidade\n",
    "print(P)"
   ]
  },
  {
   "cell_type": "code",
   "execution_count": 19,
   "id": "cf4e1fc5",
   "metadata": {},
   "outputs": [
    {
     "data": {
      "text/plain": [
       "0    4\n",
       "1    3\n",
       "2    6\n",
       "3    1\n",
       "4    2\n",
       "5    2\n",
       "6    6\n",
       "7    4\n",
       "8    6\n",
       "9    1\n",
       "dtype: int64"
      ]
     },
     "execution_count": 19,
     "metadata": {},
     "output_type": "execute_result"
    }
   ],
   "source": [
    "# Ensaio 1 - 10 elementos\n",
    "# Gera 10 números aleatórios\n",
    "serie10 = funcaoA(10)\n",
    "\n",
    "# Print da Serie\n",
    "serie10\n"
   ]
  },
  {
   "cell_type": "code",
   "execution_count": 20,
   "id": "26a8dc84",
   "metadata": {},
   "outputs": [
    {
     "data": {
      "text/plain": [
       "6    30.0\n",
       "4    20.0\n",
       "1    20.0\n",
       "2    20.0\n",
       "3    10.0\n",
       "dtype: float64"
      ]
     },
     "execution_count": 20,
     "metadata": {},
     "output_type": "execute_result"
    }
   ],
   "source": [
    "# Calcula a frequência em porcentagem para essa serie\n",
    "serie10.value_counts(normalize = True)*100"
   ]
  },
  {
   "cell_type": "code",
   "execution_count": 21,
   "id": "92f5ba20",
   "metadata": {},
   "outputs": [
    {
     "data": {
      "text/plain": [
       "0     2\n",
       "1     6\n",
       "2     2\n",
       "3     3\n",
       "4     3\n",
       "     ..\n",
       "95    1\n",
       "96    6\n",
       "97    3\n",
       "98    6\n",
       "99    2\n",
       "Length: 100, dtype: int64"
      ]
     },
     "execution_count": 21,
     "metadata": {},
     "output_type": "execute_result"
    }
   ],
   "source": [
    "# Ensaio 2 - 100 elementos\n",
    "# Gera 100 números aleatórios\n",
    "serie100 = funcaoA(100)\n",
    "\n",
    "# Print da Serie\n",
    "serie100"
   ]
  },
  {
   "cell_type": "code",
   "execution_count": 22,
   "id": "2f49d50d",
   "metadata": {},
   "outputs": [
    {
     "data": {
      "text/plain": [
       "2    23.0\n",
       "6    21.0\n",
       "3    20.0\n",
       "5    14.0\n",
       "4    13.0\n",
       "1     9.0\n",
       "dtype: float64"
      ]
     },
     "execution_count": 22,
     "metadata": {},
     "output_type": "execute_result"
    }
   ],
   "source": [
    "# Calcula a frequência em porcentagem para essa serie\n",
    "serie100.value_counts(normalize = True)*100"
   ]
  },
  {
   "cell_type": "code",
   "execution_count": 24,
   "id": "a39bb15c",
   "metadata": {},
   "outputs": [
    {
     "data": {
      "text/plain": [
       "0      6\n",
       "1      6\n",
       "2      2\n",
       "3      5\n",
       "4      1\n",
       "      ..\n",
       "995    5\n",
       "996    2\n",
       "997    5\n",
       "998    6\n",
       "999    3\n",
       "Length: 1000, dtype: int64"
      ]
     },
     "execution_count": 24,
     "metadata": {},
     "output_type": "execute_result"
    }
   ],
   "source": [
    "# Ensaio 3 - 1000 elementos\n",
    "# Gera 1000 números aleatórios\n",
    "serie1k = funcaoA(1000)\n",
    "\n",
    "# Print da Serie\n",
    "serie1k"
   ]
  },
  {
   "cell_type": "code",
   "execution_count": 25,
   "id": "77fa0b39",
   "metadata": {},
   "outputs": [
    {
     "data": {
      "text/plain": [
       "3    18.1\n",
       "5    17.3\n",
       "6    16.9\n",
       "1    16.8\n",
       "2    15.8\n",
       "4    15.1\n",
       "dtype: float64"
      ]
     },
     "execution_count": 25,
     "metadata": {},
     "output_type": "execute_result"
    }
   ],
   "source": [
    "# Calcula a frequência em porcentagem para essa serie\n",
    "serie1k.value_counts(normalize = True)*100"
   ]
  },
  {
   "cell_type": "code",
   "execution_count": 27,
   "id": "f2655c9c",
   "metadata": {},
   "outputs": [
    {
     "data": {
      "text/plain": [
       "0       1\n",
       "1       5\n",
       "2       1\n",
       "3       4\n",
       "4       5\n",
       "       ..\n",
       "9995    5\n",
       "9996    6\n",
       "9997    5\n",
       "9998    3\n",
       "9999    4\n",
       "Length: 10000, dtype: int64"
      ]
     },
     "execution_count": 27,
     "metadata": {},
     "output_type": "execute_result"
    }
   ],
   "source": [
    "# Ensaio 4 - 10000 elementos\n",
    "# Gera 10000 números aleatórios\n",
    "serie10k = funcaoA(10000)\n",
    "\n",
    "# Print da Serie\n",
    "serie10k"
   ]
  },
  {
   "cell_type": "code",
   "execution_count": 28,
   "id": "48b74828",
   "metadata": {},
   "outputs": [
    {
     "data": {
      "text/plain": [
       "1    17.01\n",
       "4    16.97\n",
       "3    16.95\n",
       "5    16.57\n",
       "6    16.54\n",
       "2    15.96\n",
       "dtype: float64"
      ]
     },
     "execution_count": 28,
     "metadata": {},
     "output_type": "execute_result"
    }
   ],
   "source": [
    "# Calcula a frequência em porcentagem para essa serie\n",
    "serie10k.value_counts(normalize = True)*100"
   ]
  },
  {
   "cell_type": "code",
   "execution_count": 30,
   "id": "df90f5f3",
   "metadata": {},
   "outputs": [
    {
     "data": {
      "text/plain": [
       "0        1\n",
       "1        2\n",
       "2        6\n",
       "3        4\n",
       "4        5\n",
       "        ..\n",
       "99995    5\n",
       "99996    6\n",
       "99997    5\n",
       "99998    2\n",
       "99999    5\n",
       "Length: 100000, dtype: int64"
      ]
     },
     "execution_count": 30,
     "metadata": {},
     "output_type": "execute_result"
    }
   ],
   "source": [
    "# Ensaio 5 - 100000 elementos\n",
    "# Gera 100000 números aleatórios\n",
    "serie100k = funcaoA(100000)\n",
    "\n",
    "# Print da Serie\n",
    "serie100k"
   ]
  },
  {
   "cell_type": "code",
   "execution_count": 31,
   "id": "524843a7",
   "metadata": {},
   "outputs": [
    {
     "data": {
      "text/plain": [
       "2    16.796\n",
       "6    16.663\n",
       "5    16.655\n",
       "1    16.652\n",
       "3    16.623\n",
       "4    16.611\n",
       "dtype: float64"
      ]
     },
     "execution_count": 31,
     "metadata": {},
     "output_type": "execute_result"
    }
   ],
   "source": [
    "# Calcula a frequência em porcentagem para essa serie\n",
    "serie100k.value_counts(normalize = True)*100"
   ]
  },
  {
   "attachments": {},
   "cell_type": "markdown",
   "id": "0c0b8baa",
   "metadata": {},
   "source": [
    "__C)__ O que podermos dizer sobre a afirmação do enunciado, a tendência é que as probabilidades irâo convergir para $1/6$?"
   ]
  },
  {
   "attachments": {},
   "cell_type": "markdown",
   "id": "5661e111",
   "metadata": {},
   "source": [
    "###### Com o exercício conseguimos observar que, quando utilizamos uma amostra pequena fica realmente dificil descrever o evento de probabilidade de um dado honesta, mas conforme aumentamos o número de observações, realmente o percentual de saída para cada uma das faces converge para $1/6$."
   ]
  },
  {
   "attachments": {},
   "cell_type": "markdown",
   "id": "6d99e27e",
   "metadata": {},
   "source": [
    "---"
   ]
  },
  {
   "cell_type": "markdown",
   "id": "8ed593e2",
   "metadata": {},
   "source": [
    "### Questão 3"
   ]
  },
  {
   "cell_type": "markdown",
   "id": "f9102e3c",
   "metadata": {},
   "source": [
    "Na casa de Luiza e Rafael tem um pote de balas de diferentes cores. Certo dia a mamãe deles contou quantas balas tinha de cada uma das cores:\n",
    "\n",
    "- 14 balas azuis;\n",
    "- 22 balas vermelhas;\n",
    "- 17 balas amarelas.\n",
    "\n",
    "A mamãe deles deixou que cada um pegasse 3 balas começando pela Luiza e depois o Rafael. Dado isso resolva os item abaixo:\n",
    "\n",
    "__A)__ Qual a probabilidade da Luiza pegar uma bala de cada na ordem da contagem e o Rafael pegar 2 azuis e uma vermelha, dado que é um evento sem reposição?\n",
    "\n",
    "__B)__ Luiza decidiu ficar só com a bala amarela e devolveu as demais para o pote antes que o Rafael pegasse suas balas. Como que ficaria a probabilidade para o Rafael agora?"
   ]
  },
  {
   "cell_type": "code",
   "execution_count": null,
   "id": "8567d548",
   "metadata": {},
   "outputs": [],
   "source": [
    "#"
   ]
  },
  {
   "cell_type": "markdown",
   "id": "efcd759a",
   "metadata": {},
   "source": [
    "### Questão 4"
   ]
  },
  {
   "cell_type": "markdown",
   "id": "8180ee4e",
   "metadata": {},
   "source": [
    "Um programa de computador gera uma pontuação aleatória para cada usuário, sendo que:\n",
    "\n",
    "- Em 1/2 dos casos, gera 0.5;\n",
    "- Em 1/4 dos casos, gera 0.25;\n",
    "- Em 1/8 dos casos, gera 0.125.\n",
    "\n",
    "E essa lógica segue assim por diante. Resolva os itens a seguir:\n",
    "\n",
    "__A)__ Calcule o __valor esperado__ utilizando apenas os 3 primeiros casos;\n",
    "\n",
    "__B)__ Faça um _loop_ para calcular o __valor esperado__ para 100 casos e avalie se só com os 3 primeiros casos temos uma boa aproximação ou não."
   ]
  },
  {
   "cell_type": "code",
   "execution_count": null,
   "id": "f1f8bbe4",
   "metadata": {},
   "outputs": [],
   "source": []
  },
  {
   "cell_type": "markdown",
   "id": "57a9dba0",
   "metadata": {},
   "source": [
    "### Questão 5"
   ]
  },
  {
   "cell_type": "markdown",
   "id": "03ce87d4",
   "metadata": {},
   "source": [
    "Em um programa de auditório, havia 3 portas (A, B, C), dentro da qual uma continha um prêmio. O participante escolheu a porta A e antes de abrir a porta o apresentador abriu a porta C, na qual não havia nada. O participante aumentará a probabilidade de acertar a porta caso mude a escolha dele da porta A para a B?"
   ]
  },
  {
   "cell_type": "code",
   "execution_count": null,
   "id": "cb736e05",
   "metadata": {},
   "outputs": [],
   "source": []
  }
 ],
 "metadata": {
  "kernelspec": {
   "display_name": "Python 3 (ipykernel)",
   "language": "python",
   "name": "python3"
  },
  "language_info": {
   "codemirror_mode": {
    "name": "ipython",
    "version": 3
   },
   "file_extension": ".py",
   "mimetype": "text/x-python",
   "name": "python",
   "nbconvert_exporter": "python",
   "pygments_lexer": "ipython3",
   "version": "3.9.13"
  },
  "varInspector": {
   "cols": {
    "lenName": 16,
    "lenType": 16,
    "lenVar": 40
   },
   "kernels_config": {
    "python": {
     "delete_cmd_postfix": "",
     "delete_cmd_prefix": "del ",
     "library": "var_list.py",
     "varRefreshCmd": "print(var_dic_list())"
    },
    "r": {
     "delete_cmd_postfix": ") ",
     "delete_cmd_prefix": "rm(",
     "library": "var_list.r",
     "varRefreshCmd": "cat(var_dic_list()) "
    }
   },
   "types_to_exclude": [
    "module",
    "function",
    "builtin_function_or_method",
    "instance",
    "_Feature"
   ],
   "window_display": false
  }
 },
 "nbformat": 4,
 "nbformat_minor": 5
}
