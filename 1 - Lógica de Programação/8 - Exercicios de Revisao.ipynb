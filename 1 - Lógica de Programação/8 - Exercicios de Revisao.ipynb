{
 "cells": [
  {
   "cell_type": "markdown",
   "id": "17ada4d0",
   "metadata": {},
   "source": [
    "## Aula 08 - Exercícios de Revisão\n",
    "\n",
    "\n",
    "A aula será exclusivamente para realizar exercícios de revisão para a prova. Vocês terão 2h para desenvolver com calma os exercícios e na hora final da aula o professor irá resolvê-los em sala.\n",
    "\n",
    "<br>"
   ]
  },
  {
   "cell_type": "markdown",
   "id": "63078723",
   "metadata": {},
   "source": [
    "## __Progressão Aritmética__"
   ]
  },
  {
   "cell_type": "markdown",
   "id": "06dd3b6e",
   "metadata": {},
   "source": [
    "A progressão aritmética (PA) é uma sequência de números onde a diferença entre dois consecutivos é sempre a mesma. Um exemplo de uma PA pode ser dada com a sequência de números impares ou pares no exemplo (1, 3, 5, 7,..) e (2, 4, 6, ...) respectivamente.\n",
    "\n",
    "Uma PA segue a seguinte equação:\n",
    "\n",
    "$$ a_n = a_1 + (n - 1)r $$\n",
    "\n",
    "onde, $ a_n$ é o n-ésimo elemento da PA, $a_1$ é o primeiro elemento da sequência, n é a quantidade de elementos considerada e $r$ a razão ou ordem de grandeza que aumenta de um elemento ao outro.\n",
    "\n",
    "O Objetivo do exercício será desenvolver uma função nomeada `progressao_aritmetica` onde receberá como parâmetros $a_1$, $n$ e $r$ e a função deve printar o elemento $a_n$ e printar todos os elementos da PA em $a_1$ e $a_n$"
   ]
  },
  {
   "cell_type": "code",
   "execution_count": null,
   "id": "df960e95",
   "metadata": {},
   "outputs": [],
   "source": [
    "# Exemplo\n",
    "# progressao_aritmetica(a1 = 5, n = 10, r = 5)\n",
    "\n",
    "# Resultado\n",
    "# an = 50\n",
    "# Sequencia = [5, 10, 15, 20, 25, 30, 35, 40, 45, 50]"
   ]
  },
  {
   "cell_type": "code",
   "execution_count": 3,
   "id": "7014e86d",
   "metadata": {},
   "outputs": [
    {
     "name": "stdout",
     "output_type": "stream",
     "text": [
      "Ultimo elemento an: 50\n"
     ]
    },
    {
     "data": {
      "text/plain": [
       "[5, 10, 15, 20, 25, 30, 35, 40, 45, 50]"
      ]
     },
     "execution_count": 3,
     "metadata": {},
     "output_type": "execute_result"
    }
   ],
   "source": [
    "a1 = int(input('1o elemento a1: '))\n",
    "n = int(input('qnt elementos n:'))\n",
    "r = int(input('razao r:'))\n",
    "\n",
    "an = a1 + ((n - 1) * r)\n",
    "print('Ultimo elemento an:', an)\n",
    "def progressao_aritmetica(a1,n+1,r):\n",
    "    lista_progressa_aritmetica = []\n",
    "\n",
    "    for i in range(a1,an+1,r):\n",
    "        lista_progressa_aritmetica.append(i)\n",
    "    \n",
    "    return lista_progressa_aritmetica\n",
    "\n",
    "progressao_aritmetica(a1,n,r)"
   ]
  },
  {
   "cell_type": "markdown",
   "id": "13b1ec40",
   "metadata": {},
   "source": [
    "## "
   ]
  },
  {
   "cell_type": "markdown",
   "id": "f7410e45",
   "metadata": {},
   "source": [
    "## Média Geométrica"
   ]
  },
  {
   "cell_type": "markdown",
   "id": "60b2fa62",
   "metadata": {},
   "source": [
    "A __média geométrica__ é dada pela média de um conjunto de dados quaisquer utilizando da seguinte fórmula:\n",
    "\n",
    "$$\\sqrt[n]{x_1 * x_2 * x_3 * ... *x_n}$$\n",
    "\n",
    "Note que para a média geométrica, será necessário pelo menos um conjunto de dados com 2 elementos até $n$ elementos que queira usar.\n",
    "\n",
    "O objetvo desse exercício será dividido em algumas partes:"
   ]
  },
  {
   "cell_type": "markdown",
   "id": "c41be8bc",
   "metadata": {},
   "source": [
    "- Desenvolva uma função para calcular a __média aritmética__ e outra para __média geométrica__ dado como parâmetro uma lista de números inteiros:"
   ]
  },
  {
   "cell_type": "code",
   "execution_count": 31,
   "id": "9799c797",
   "metadata": {},
   "outputs": [
    {
     "name": "stdout",
     "output_type": "stream",
     "text": [
      "2.5\n"
     ]
    },
    {
     "data": {
      "text/plain": [
       "2.213363839400643"
      ]
     },
     "execution_count": 31,
     "metadata": {},
     "output_type": "execute_result"
    }
   ],
   "source": [
    "qnt_numeros = int(input('Qnt de numeros: ' ))\n",
    "\n",
    "while qnt_numeros < 2:\n",
    "    print('Tem que ser no minimo 2 numeros')\n",
    "    qnt_numeros = int(input('Qnt de numeros:' ))\n",
    "\n",
    "lista_media = []\n",
    "for i in range(1,qnt_numeros+1):\n",
    "    lista_media.append(int(input(f'Digite o {i}o numero:' )))\n",
    "\n",
    "lista_media\n",
    "\n",
    "def media_aritmetica(lista):\n",
    "    soma = 0\n",
    "    for i in lista:\n",
    "        soma = soma + i\n",
    "\n",
    "    media_a = soma/len(lista)\n",
    "    print(media_a)\n",
    "    return media_a\n",
    "\n",
    "def media_geometrica(lista):\n",
    "    mult = 1\n",
    "    for i in lista:\n",
    "        mult = mult * i\n",
    "\n",
    "    media_g = mult**(1/len(lista))\n",
    "    return media_g\n",
    "\n",
    "\n",
    "media_aritmetica(lista_media)\n",
    "media_geometrica(lista_media)\n"
   ]
  },
  {
   "cell_type": "markdown",
   "id": "32700a56",
   "metadata": {},
   "source": [
    "- Crie uma lista aleatória com 10 elementos variando eles entre 10 e 40 (utilize a biblioteca random):"
   ]
  },
  {
   "cell_type": "code",
   "execution_count": 24,
   "id": "a695c5b5",
   "metadata": {},
   "outputs": [
    {
     "data": {
      "text/plain": [
       "[39, 33, 37, 31, 28, 14, 34, 38, 36, 39]"
      ]
     },
     "execution_count": 24,
     "metadata": {},
     "output_type": "execute_result"
    }
   ],
   "source": [
    "import random\n",
    "numeros = []\n",
    "for i in range(10):\n",
    "  numeros.append(random.randint(10,41))\n",
    "numeros"
   ]
  },
  {
   "cell_type": "markdown",
   "id": "3d6a043e",
   "metadata": {},
   "source": [
    "- Vamos avaliar a como cada uma das médias evolui ao longo da quntidade de elementos que utilizar. Então crie uma malha de repetição que irá calcular ambas as médias e mostrar os resultados utilizando inicialmente os dois primeiros números e ir aumentando progressivamente até utilizar todos eles:"
   ]
  },
  {
   "cell_type": "code",
   "execution_count": null,
   "id": "f40b76da",
   "metadata": {},
   "outputs": [],
   "source": [
    "# Exemplo\n",
    "# Lista = [21, 17, 23, 35, 34, 15, 21, 36, 14, 26]\n",
    "\n",
    "# Resultado:\n",
    "#Quantidade de elementos:  2\n",
    "#Lista utilizada:  [21, 17]\n",
    "#Média Aritmética:  19.0\n",
    "#Media Geométrica:  18.894443627691185\n",
    "#----------------------------------\n",
    "#Quantidade de elementos:  3\n",
    "#Lista utilizada:  [21, 17, 23]\n",
    "#Média Aritmética:  20.333333333333332\n",
    "#Media Geométrica:  20.174309725802953\n",
    "# e assim or diante até o 10"
   ]
  },
  {
   "cell_type": "code",
   "execution_count": 32,
   "id": "8936e213",
   "metadata": {},
   "outputs": [
    {
     "name": "stdout",
     "output_type": "stream",
     "text": [
      "32.9\n",
      "Quantidade de elementos:  2\n",
      "Lista utilizada:  [39, 33]\n",
      "Média geométrica:  31.77647840658668\n",
      "Média Aritmética:  32.9\n",
      "32.9\n",
      "Quantidade de elementos:  3\n",
      "Lista utilizada:  [39, 33, 37]\n",
      "Média geométrica:  31.77647840658668\n",
      "Média Aritmética:  32.9\n",
      "32.9\n",
      "Quantidade de elementos:  4\n",
      "Lista utilizada:  [39, 33, 37, 31]\n",
      "Média geométrica:  31.77647840658668\n",
      "Média Aritmética:  32.9\n",
      "32.9\n",
      "Quantidade de elementos:  5\n",
      "Lista utilizada:  [39, 33, 37, 31, 28]\n",
      "Média geométrica:  31.77647840658668\n",
      "Média Aritmética:  32.9\n",
      "32.9\n",
      "Quantidade de elementos:  6\n",
      "Lista utilizada:  [39, 33, 37, 31, 28, 14]\n",
      "Média geométrica:  31.77647840658668\n",
      "Média Aritmética:  32.9\n",
      "32.9\n",
      "Quantidade de elementos:  7\n",
      "Lista utilizada:  [39, 33, 37, 31, 28, 14, 34]\n",
      "Média geométrica:  31.77647840658668\n",
      "Média Aritmética:  32.9\n",
      "32.9\n",
      "Quantidade de elementos:  8\n",
      "Lista utilizada:  [39, 33, 37, 31, 28, 14, 34, 38]\n",
      "Média geométrica:  31.77647840658668\n",
      "Média Aritmética:  32.9\n",
      "32.9\n",
      "Quantidade de elementos:  9\n",
      "Lista utilizada:  [39, 33, 37, 31, 28, 14, 34, 38, 36]\n",
      "Média geométrica:  31.77647840658668\n",
      "Média Aritmética:  32.9\n",
      "32.9\n",
      "Quantidade de elementos:  10\n",
      "Lista utilizada:  [39, 33, 37, 31, 28, 14, 34, 38, 36, 39]\n",
      "Média geométrica:  31.77647840658668\n",
      "Média Aritmética:  32.9\n"
     ]
    }
   ],
   "source": [
    "for i in range(2, len(numeros)+1, 1):\n",
    "\n",
    "  media_arit = media_aritmetica(numeros)\n",
    "  media_geo = media_geometrica(numeros)\n",
    "  print(\"Quantidade de elementos: \", len(numeros[:i]))\n",
    "  print(\"Lista utilizada: \", numeros[:i])\n",
    "  print(\"Média geométrica: \", media_geo)\n",
    "  print(\"Média Aritmética: \", media_arit)"
   ]
  },
  {
   "cell_type": "markdown",
   "id": "48f81750",
   "metadata": {},
   "source": [
    "## "
   ]
  },
  {
   "cell_type": "markdown",
   "id": "cede3e34",
   "metadata": {},
   "source": [
    "## Frequência de Notas\n",
    "\n",
    "Após aplicar a prova para 40 alunos do módulo de técnicas de programação, o professor gostaria de avaliar qual foi a nota mais frequente e quantos alunos tiraram essa nota. Para isso, você deve desenvolver uma função nomeada `nota_mais_frequente`, onde será recebido uma __lista com 40 notas de alunos__ e a função deve retornar uma __lista__ com respectivamente a indicação de __qual é a nota mais frequente__ e o valor de __quantas vezes ocorreu essa nota__.\n",
    "\n",
    "Importante destacar que as notas são valores positivos e inteiros que variam entre 0 e 10. Além disso, caso 2 ou mais notas sejam a mais frequente, o retorno da função deve ser a __menor nota__."
   ]
  },
  {
   "cell_type": "code",
   "execution_count": 37,
   "id": "5ceaafab",
   "metadata": {},
   "outputs": [
    {
     "name": "stdout",
     "output_type": "stream",
     "text": [
      "[1, 3, 9, 1, 6, 5, 10, 5, 4, 0]\n",
      "[1, 5]\n",
      "A menor nota é mais frequente é: 1\n"
     ]
    }
   ],
   "source": [
    "import random\n",
    "notas = []\n",
    "for i in range(10):\n",
    "  notas.append(random.randint(0,11)) \n",
    "print(notas)\n",
    "\n",
    "def moda(notas):\n",
    "  unico = []\n",
    "  contar = []\n",
    "  modas = []\n",
    "  for i in notas:\n",
    "    if i not in unico:\n",
    "      unico.append(i)\n",
    "\n",
    "  for x in unico:\n",
    "    conta = 0\n",
    "    for y in notas:\n",
    "      if x == y:\n",
    "        conta += 1\n",
    "    contar.append(conta)\n",
    "\n",
    "  for z in range(len(contar)):\n",
    "    if max(contar) == contar[z]:\n",
    "      modas.append(unico[z])\n",
    "  print(sorted(modas))\n",
    "  return sorted(modas)[0]\n",
    "\n",
    "ver_notas = moda(notas)\n",
    "print('A menor nota é mais frequente é:', ver_notas)"
   ]
  },
  {
   "cell_type": "code",
   "execution_count": null,
   "id": "614fb486",
   "metadata": {},
   "outputs": [],
   "source": [
    "#Moroni\n",
    "# import random\n",
    "\n",
    "# def maior_frequencia(lista):\n",
    "#     freq={}\n",
    "#     for i in range(0,11):\n",
    "#         cont=0\n",
    "#         for j in lista:\n",
    "#             if i==j:\n",
    "#                 cont+=1\n",
    "#         freq.update({i:cont})\n",
    "#     maior_freq=0\n",
    "#     mais_freq=0\n",
    "#     for k in freq.keys():\n",
    "#         if freq[k]>freq[mais_freq]:\n",
    "#             mais_freq=k\n",
    "#     return [mais_freq,freq[mais_freq]]"
   ]
  },
  {
   "cell_type": "markdown",
   "id": "ef26b258",
   "metadata": {},
   "source": [
    "## Palindromo"
   ]
  },
  {
   "cell_type": "markdown",
   "id": "45b191d1",
   "metadata": {},
   "source": [
    "Palíndromo é a característica de uma palavra ser igualmente escrita na ordem normal e reversa, como por exemplo ana e arara. O objetivo deste exercício é criar uma função nomeada `palindromo`, onde a função recebe uma lista de palavras e a saída será a __quantidade de palindromos dentro da lista__."
   ]
  },
  {
   "cell_type": "code",
   "execution_count": 42,
   "id": "cb263361",
   "metadata": {},
   "outputs": [],
   "source": [
    "lista = [\"reler\", \"reter\", \"ovo\", \"oco\", \"mirim\", \"sopapos\"]\n",
    "\n",
    "# palindromos = 6"
   ]
  },
  {
   "cell_type": "code",
   "execution_count": 44,
   "id": "8beff86b",
   "metadata": {},
   "outputs": [
    {
     "name": "stdout",
     "output_type": "stream",
     "text": [
      "São palindromos : ['reler', 'reter', 'ovo', 'oco', 'mirim', 'sopapos']\n",
      "Palindromos =  6\n"
     ]
    },
    {
     "data": {
      "text/plain": [
       "['reler', 'reter', 'ovo', 'oco', 'mirim', 'sopapos']"
      ]
     },
     "execution_count": 44,
     "metadata": {},
     "output_type": "execute_result"
    }
   ],
   "source": [
    "def palindromo(lista):\n",
    "  sao_palindromos = []\n",
    "  for i in lista:\n",
    "    if str(i) == str(i)[::-1]:\n",
    "      sao_palindromos.append(i)\n",
    "  print('São palindromos :', sao_palindromos)\n",
    "  print('Palindromos = ', len(sao_palindromos))\n",
    "  return sao_palindromos\n",
    "\n",
    "palindromo(lista)"
   ]
  },
  {
   "cell_type": "code",
   "execution_count": 41,
   "id": "1cc052e6",
   "metadata": {},
   "outputs": [
    {
     "name": "stdout",
     "output_type": "stream",
     "text": [
      "O numero de palindromos nessa lista é 2\n"
     ]
    }
   ],
   "source": [
    "# def inv_palavra(palavra):\n",
    "#     lista=list(palavra)\n",
    "#     lista_inv=lista[::-1]\n",
    "#     palavra_inv=\"\".join(lista_inv)\n",
    "#     return palavra_inv\n",
    "# def cont_palindromos(lista):\n",
    "#     cont=0\n",
    "#     for i in lista:\n",
    "#         if i==inv_palavra(i):\n",
    "#             cont=cont+1\n",
    "#     return cont\n",
    "\n",
    "# n=int(input(\"Digite o tamanho da sua lista\"))\n",
    "# lista_teste=[]\n",
    "# for i in range(n):\n",
    "#     p=input(\"Digite uma palavra\")\n",
    "#     lista_teste.append(p)\n",
    "# print(\"O numero de palindromos nessa lista é\",cont_palindromos(lista_teste))"
   ]
  },
  {
   "cell_type": "markdown",
   "id": "355a9991",
   "metadata": {},
   "source": [
    "## "
   ]
  },
  {
   "cell_type": "markdown",
   "id": "f4c1f511",
   "metadata": {},
   "source": [
    "## Conversão de Número para Binário\n",
    "\n",
    "O Sistema binário é uma representação da matemática onde a base de referência para a construção dos números é o 2 ao invés do 10 comum na base decimal. Por exemplo o binário `1001` na base decimal será igual $ 1001 = 1*2^3 + 0*2^2 + 0*2^1 + 1*2^0 = 9 $. O objetivo deste exercício é desenvolver uma função nomeada como `conversor_numero`, onde irá receber um valor númerico inteiro na base decimal e converter para um valor na base binária."
   ]
  },
  {
   "cell_type": "code",
   "execution_count": null,
   "id": "eddb66ec",
   "metadata": {},
   "outputs": [],
   "source": [
    "# Formula geral do binario para numero decimal\n",
    "# binario -> numero = (0 ou 1)*2^(n-1)\n",
    "# 9 |___2\n",
    "# 1  4  |___2\n",
    "#    0   2   |__ 2\n",
    "#        0    1   |__ 2\n",
    "#             1    0"
   ]
  },
  {
   "cell_type": "code",
   "execution_count": 51,
   "id": "a8cf5b42",
   "metadata": {},
   "outputs": [
    {
     "name": "stdout",
     "output_type": "stream",
     "text": [
      "O numero 7 em binario é:  111\n"
     ]
    },
    {
     "data": {
      "text/plain": [
       "'111'"
      ]
     },
     "execution_count": 51,
     "metadata": {},
     "output_type": "execute_result"
    }
   ],
   "source": [
    "def decimal_2_binario(decimal):\n",
    "  ver_decimal = decimal\n",
    "  if decimal <= 0:\n",
    "      return \"0\"\n",
    "  binario = \"\"\n",
    "  while decimal > 0:\n",
    "      residuo = int(decimal % 2)\n",
    "      decimal = int(decimal / 2)\n",
    "      binario = str(residuo) + binario\n",
    "  print(f\"O numero {ver_decimal} em binario é: \", binario)\n",
    "  return binario\n",
    "\n",
    "binario = decimal_2_binario(7)\n",
    "binario"
   ]
  },
  {
   "cell_type": "code",
   "execution_count": null,
   "id": "0c47428e",
   "metadata": {},
   "outputs": [],
   "source": [
    "# def conversor_numero(n):\n",
    "#   bin=[]\n",
    "#   while (True):\n",
    "#     aux= n // 2\n",
    "#     bin.append(n%2)\n",
    "#     n=aux\n",
    "#     if aux ==0:\n",
    "#       break\n",
    "#   print(bin)\n",
    "\n",
    "# if __name__ == \"__main__\":\n",
    "#   n=9\n",
    "#   conversor_numero(n)"
   ]
  }
 ],
 "metadata": {
  "kernelspec": {
   "display_name": "base",
   "language": "python",
   "name": "python3"
  },
  "language_info": {
   "codemirror_mode": {
    "name": "ipython",
    "version": 3
   },
   "file_extension": ".py",
   "mimetype": "text/x-python",
   "name": "python",
   "nbconvert_exporter": "python",
   "pygments_lexer": "ipython3",
   "version": "3.9.7"
  },
  "vscode": {
   "interpreter": {
    "hash": "7db0b5fe4b5d4d56289ddd2b3b55446c28bd0ee16eb846827d2ba79d8f209c8b"
   }
  }
 },
 "nbformat": 4,
 "nbformat_minor": 5
}
