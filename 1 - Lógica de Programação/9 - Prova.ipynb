{
 "cells": [
  {
   "cell_type": "markdown",
   "id": "b3debb91",
   "metadata": {},
   "source": [
    "## Prova"
   ]
  },
  {
   "cell_type": "markdown",
   "id": "1f00fc89",
   "metadata": {},
   "source": [
    "__1) Cadastro de uma Empresa__ (3 pontos)\n",
    "\n",
    "Uma empresa de tecnologia teve problemas com o armazenamento das informações dos funcionários. Dessa forma, a empresa solicitou a você criar um formulário onde registre algumas das principais informações sobre o usuário como:\n",
    "\n",
    "- Nome Completo\n",
    "- Idade\n",
    "- Estado\n",
    "- Setor de Atuação (Dados, Engenharia, Dev, UX)\n",
    "- Tempo de Empresa\n",
    "- Salário\n",
    "\n",
    "Crie uma função chamada `formulario`, onde o objetivo dela é pedir essas informações como _inputs_ do Usuário (a função não vai receber parâmetros, apenas os _inputs_) (1 ponto)"
   ]
  },
  {
   "cell_type": "code",
   "execution_count": 86,
   "id": "7d218411",
   "metadata": {},
   "outputs": [],
   "source": [
    "def formulario():\n",
    "    nome = input('Nome Completo: ')\n",
    "    idade = int(input('Idade: '))\n",
    "    estado = input('Estado: ')\n",
    "    setor = input('Setor: ')\n",
    "    tempo_de_empresa = int(input('Tempo de Empresa: '))\n",
    "    salario = float(input('Salario: '))\n",
    "\n",
    "    return nome, idade, estado, setor, tempo_de_empresa, salario\n"
   ]
  },
  {
   "cell_type": "markdown",
   "id": "b3ffccd8",
   "metadata": {},
   "source": [
    "Após criar a função `formulario`, crie uma função chamada de `armazenamento` onde essa função chamada a função `formulario` para receber os _inputs_ e depois armazena essas informações em um dicionário pré-criado (este dicionário deve servir de parâmetro para a função armazenamento) (1 ponto)"
   ]
  },
  {
   "cell_type": "code",
   "execution_count": 83,
   "id": "f94b7a69",
   "metadata": {},
   "outputs": [
    {
     "data": {
      "text/plain": [
       "{'nome': 'joao',\n",
       " 'idade': 30,\n",
       " 'estado': 'rj',\n",
       " 'setor': 'dados',\n",
       " 'tempo': 1,\n",
       " 'salario': 2500.0}"
      ]
     },
     "execution_count": 83,
     "metadata": {},
     "output_type": "execute_result"
    }
   ],
   "source": [
    "def armazenamento(funcionario):\n",
    "\n",
    "    nome, idade, estado, setor, tempo_de_empresa, salario = formulario()\n",
    "\n",
    "    funcionario[\"nome\"] = nome\n",
    "    funcionario[\"idade\"] = idade\n",
    "    funcionario[\"estado\"] = estado\n",
    "    funcionario[\"setor\"] = setor\n",
    "    funcionario[\"tempo\"] = tempo_de_empresa\n",
    "    funcionario[\"salario\"] = salario\n",
    "\n",
    "    return funcionario\n"
   ]
  },
  {
   "cell_type": "markdown",
   "id": "a7b7216f",
   "metadata": {},
   "source": [
    "Gere o dicionário com o registro de 4 funcionários (crie os dados dos funcionários!) (1 ponto)"
   ]
  },
  {
   "cell_type": "code",
   "execution_count": 88,
   "id": "a0a9835b",
   "metadata": {},
   "outputs": [
    {
     "data": {
      "text/plain": [
       "{0: ('joao', 30, 'rj', 'dados', 1, 2500.0),\n",
       " 1: ('jane', 60, 'rj', 'aposentada', 25, 5000.0),\n",
       " 2: ('frizas', 70, 'es', 'aposentado', 35, 2500.0),\n",
       " 3: ('isabella', 26, 'rj', 'saude', 5, 1800.0)}"
      ]
     },
     "execution_count": 88,
     "metadata": {},
     "output_type": "execute_result"
    }
   ],
   "source": [
    "def armazenamento_loop(dicionario):\n",
    "    \n",
    "    for i in range(4):\n",
    "        funcionario = formulario()\n",
    "        dicionario[i] = funcionario\n",
    "\n",
    "    return dicionario\n",
    "\n",
    "dados_funcionario = {}\n",
    "armazenamento_loop(dados_funcionario)"
   ]
  },
  {
   "attachments": {},
   "cell_type": "markdown",
   "id": "03051e48",
   "metadata": {},
   "source": [
    "__2) Holerite - INSS__ (1 ponto)\n",
    "\n",
    "Para quem trabalha com carteira assinada é extremamente importante que saba como funciona as contribuições sobre o salário para o INSS e o IRRF (imposto de renda). No caso para o cálculo do INSS temos como referência a tabela abaixo:\n",
    "\n",
    "<br>\n",
    "\n",
    "|    **Salário (R$)**    | **% de Contribuição na faixa** |\n",
    "|:----------------------:|:------------------------------:|\n",
    "|      Até 1.212,00      |              7,5%              |\n",
    "| de 1.212,01 a 2.427,35 |              9,0%              |\n",
    "| de 2.427,36 a 3.641,03 |               12%              |\n",
    "| de 3.641,04 a 7.087,22 |               !4%              |\n",
    "\n",
    "<br>\n",
    "\n",
    "Mas note que o cálculo é um pouco mais complexo devido a ser __calculada sobre a faixa__, conforme alguns exemplos:\n",
    "\n",
    "- Exemplo  1 - Salário R$ 1.100,00\n",
    "\n",
    "$$ INSS = 7,5\\% * 1.100,00 = R\\$ 82,50 $$\n",
    "\n",
    "<br>\n",
    "\n",
    "- Exemplo  2 - Salário R$ 3.500,00:\n",
    "\n",
    "Como este salário encontra-se na 3 faixa, a contribuição será igual ao teto da 1ª faixa + teto da 2ª faixa + diferença na 3ª faixa, conforme o exemplo:\n",
    "12112\n",
    "$$ INSS = max(1ª faixa) + max(2ª faixa) + diff(3ª faixa) = 7,5\\% * (1.212,00 - 0,00) + 9,0\\% * (2.427,35 - 1.212,01) + 12\\% * (3.500,00 - 2.427,36) = 90,90 + 109,38 + 128,72 = R\\$ 328,98 $$\n",
    "\n",
    "- Exemplo 3 - Salário R$ 10.000,00\n",
    "\n",
    "Note que para salários maiores que R$ 7.087,22, o valor da contribuição será igual ao teto de todas as faixas:\n",
    "\n",
    "$$ INSS = max(1ª faixa) + max(2ª faixa) + max(3ª faixa) + max(4ª faixa) = 7,5\\% * (1.212,00 - 0,00) + 9,0\\% * (2.427,35 - 1.212,01) + 12\\% * (3.641,03 - 2.427,36) + 14\\% * (7.087,22 - 3.641,04) = 90,90 + 109,38 + 145,64 + 482,47 = R\\$ 828,39 $$\n",
    "\n",
    "O objetivo deste exercício e montar uma função nomeada como `inss` que dado o valor do salário devolva qual vai ser a contribuição salarial para o INSS.  (1 ponto)"
   ]
  },
  {
   "cell_type": "code",
   "execution_count": 96,
   "id": "c940ba92",
   "metadata": {},
   "outputs": [
    {
     "data": {
      "text/plain": [
       "208.9986"
      ]
     },
     "execution_count": 96,
     "metadata": {},
     "output_type": "execute_result"
    }
   ],
   "source": [
    "\n",
    "def inss(salario_inss):\n",
    "    resultado_inss = 0\n",
    "\n",
    "    if salario_inss <= 1212:\n",
    "        resultado_inss = salario_inss * 0.075\n",
    "    elif salario_inss <= 2427.35:\n",
    "        resultado_inss = (1212 * 0.075) + ((salario_inss - 1212 ) * 0.09)\n",
    "    elif salario_inss <= 3641.03:\n",
    "        resultado_inss = (1212 * 0.075) + ((2427.35 - 1212.01) * 0.09) + ((salario_inss - 2427.35) * 0.12)\n",
    "    elif salario_inss <= 7087.22:\n",
    "        resultado_inss = (1212 * 0.075) + ((2427.35 - 1212.01) * 0.09) + ((3641.03 - 2427.36) * 0.12) + ((salario_inss - 3641.04) * 0.14)\n",
    "    else:\n",
    "        resultado_inss = (1212 * 0.075) + ((2427.35 - 1212.01) * 0.09) + ((3641.03 - 2427.36) * 0.12) + ((7087.22 - 3641.04) * 0.14)\n",
    "\n",
    "    return resultado_inss        \n",
    "\n",
    "\n"
   ]
  },
  {
   "cell_type": "markdown",
   "id": "af01ce84",
   "metadata": {},
   "source": [
    "__3) Holerite - IRRF__ (1 ponto)\n",
    "\n",
    "Para quem trabalha com carteira assinada é extremamente importante que saba como funciona as contribuições sobre o salário para o INSS e o IRRF (imposto de renda). Após conhecer como que funciona a contribuição ao INSS, agora vamos desenvolver algo em relação ao imposto de renda (IRRF). Par este cálculo também precisaremos de uma tabela de referência:\n",
    "\n",
    "<br>\n",
    "\n",
    "|       **Salário**      | **% de Contribuição** | **Desconto** |\n",
    "|:----------------------:|:---------------------:|:------------:|\n",
    "|      Até 1.903,98      |           0%          |     0,00     |\n",
    "| de 1.903,99 a 2.826,65 |         7,50%         |    142,80    |\n",
    "| de 2.826,66 a 3.751,05 |         15,00%        |    354,80    |\n",
    "| de 3.751,06 a 4.664,68 |         22,50%        |    636,13    |\n",
    "|    Acima de 4.664,68   |         27,50%        |    869,36    |\n",
    "\n",
    "<br>\n",
    "\n",
    "No caso do imposto de renda, a regra é um pouco diferente pois o percentual é calculado encima de todo o salário bruto menos alguns descontos, diferente do INSS que tinha contribuição por faixas. Além disso, no caso no imposto de renda a pessoa pode declarar dependentes e a cada dependente declarado recebe um desconto de 189,59. Para definir de fato o salário a ser considerado imposto deve descontar __o valor do INSS__ e o desconto de __dependentes__. Conforme os exemplos a seguir:\n",
    "\n",
    "\n",
    "##### Exemplo  1 - Salário 1.100,00 - nenhum dependente\n",
    "\n",
    "- Salário Bruto: 1.100,00\n",
    "- INSS: 82,50\n",
    "- Dependentes: 0,00\n",
    "- Salário considerado no IRRF = 1100 - 82,50 - 0 = 1.017,50\n",
    "\n",
    "- Faixa do IRRF - Primeira Faixa\n",
    "- Contribuição IRRF: 0,00\n",
    "- Salário Líquido: 1100 - 82,50 = 1.017,50\n",
    "\n",
    "<br>\n",
    "\n",
    "##### Exemplo  2 - Salário 3.500,00 - 1 dependente\n",
    "\n",
    "- Salário Bruto: 3.500,00\n",
    "- INSS: 328,98\n",
    "- Dependentes: 1*189,59 = 189,59\n",
    "- Salário considerado no IRRF = 3500 - 328,98 - 189,59 = 2.981,43\n",
    "\n",
    "- Faixa do IRRF - Terceira Faixa (15%)\n",
    "- Contribuição IRRF: 0.15*2981,43 - 354,80 = 92,41\n",
    "- Salário Líquido: 3500 - 328,92 - 92,41 = 3.078,67\n",
    "\n",
    "<br>\n",
    "\n",
    "##### Exemplo  3 - Salário 10.000,00 - 3 dependentes\n",
    "\n",
    "- Salário Bruto: 10.000,00\n",
    "- INSS: 828,39\n",
    "- Dependentes: 3*189,59 = 568,77\n",
    "- Salário considerado no IRRF = 10000 - 828,39 - 568,77 = 8.602,84\n",
    "\n",
    "- Faixa do IRRF - Última faixa (27,5%)\n",
    "- Contribuição IRRF: 0.275*8602,84 - 869,36 = 1.496,42\n",
    "- Salário Líquido: 10000 - 828,39 - 1496,42 = 7.675,19\n",
    "\n",
    "De senvolva a função nomeada como `irrf` onde irá receber o salario bruto (sem o desconto do INSS) e a quantidade de dependentes que a pessoa tiver. E a função deve devolver respectivamente o __valor da contribuição de imposto__ e o __salário líquido__. (1 ponto)\n"
   ]
  },
  {
   "cell_type": "code",
   "execution_count": 101,
   "id": "54f0117e",
   "metadata": {},
   "outputs": [
    {
     "data": {
      "text/plain": [
       "7675.191755"
      ]
     },
     "execution_count": 101,
     "metadata": {},
     "output_type": "execute_result"
    }
   ],
   "source": [
    "salario_inss = float(input('Salario para calculo INSS: '))\n",
    "filhos = int(input('Qnt filhos: '))\n",
    "\n",
    "def irrf(salario_bruto, dependentes):\n",
    "\n",
    "    calculo_inss = inss(salario_bruto)\n",
    "    salario_liquido = salario_bruto - calculo_inss - (dependentes * 189.59)\n",
    "  \n",
    "    if salario_liquido <= 1903.98:\n",
    "      percentual = 0\n",
    "      desconto = 0\n",
    "    elif salario_liquido <= 2826.65:\n",
    "      percentual = 0.075\n",
    "      desconto = 142.80\n",
    "    elif salario_liquido <= 3751.05:\n",
    "      percentual = 0.15\n",
    "      desconto = 354.80\n",
    "    elif salario_liquido <= 4664.68:\n",
    "      percentual = 0.225\n",
    "      desconto = 636.13\n",
    "    else:\n",
    "      percentual = 0.275\n",
    "      desconto = 869.36\n",
    "  \n",
    "    contribuicao_irrf = (percentual * salario_liquido) - desconto\n",
    "\n",
    "    salario_liquido = salario_bruto - calculo_inss - contribuicao_irrf\n",
    "    \n",
    "    return salario_liquido\n",
    "\n",
    "\n",
    "irrf(salario_inss, filhos)\n"
   ]
  },
  {
   "cell_type": "markdown",
   "id": "11ebde57",
   "metadata": {},
   "source": [
    "__4) Média Harmônica__ (2 pontos)\n",
    "\n",
    "A __média harmônica__ é dada pela média de um conjunto de dados quaisquer utilizando da seguinte fórmula:\n",
    "\n",
    "$$\\frac{n}{\\frac{1}{x_1} + \\frac{1}{x_2} + \\frac{1}{x_3} + ... + \\frac{1}{x_n}}$$\n",
    "\n",
    "Note para qualquer valor de X que fique cada vez mais próximo de zero, a tendência é que a media harmônica caia rapidamente para zero.\n",
    "\n",
    "O objetvo desse exercício será dividido em duas partes partes:"
   ]
  },
  {
   "cell_type": "markdown",
   "id": "20575075",
   "metadata": {},
   "source": [
    "- Desenvolva uma função para calcular a __média aritmética__, __média geométrica__ e __média harmonica__ dado como parâmetro uma lista de números inteiros: (1 ponto)"
   ]
  },
  {
   "cell_type": "code",
   "execution_count": 6,
   "id": "20bb6d5a",
   "metadata": {},
   "outputs": [
    {
     "name": "stdout",
     "output_type": "stream",
     "text": [
      "2.5\n",
      "2.213363839400643\n"
     ]
    },
    {
     "data": {
      "text/plain": [
       "1.9200000000000004"
      ]
     },
     "execution_count": 6,
     "metadata": {},
     "output_type": "execute_result"
    }
   ],
   "source": [
    "qnt_numeros = int(input('Qnt de numeros: ' ))\n",
    "\n",
    "while qnt_numeros < 2:\n",
    "    print('Tem que ser no minimo 2 numeros')\n",
    "    qnt_numeros = int(input('Qnt de numeros:' ))\n",
    "\n",
    "lista_media = []\n",
    "for i in range(1,qnt_numeros+1):\n",
    "    lista_media.append(int(input(f'Digite o {i}o numero:' )))\n",
    "\n",
    "lista_media\n",
    "\n",
    "def media_aritmetica(lista):\n",
    "    soma = 0\n",
    "    for i in lista:\n",
    "        soma = soma + i\n",
    "\n",
    "    media_a = soma/len(lista)\n",
    "    print(media_a)\n",
    "    return media_a\n",
    "\n",
    "def media_geometrica(lista):\n",
    "    mult = 1\n",
    "    for i in lista:\n",
    "        mult = mult * i\n",
    "\n",
    "    media_g = mult**(1/len(lista))\n",
    "    print(media_g)\n",
    "    return media_g\n",
    "\n",
    "def media_harmonica(lista):\n",
    "    geo = 0\n",
    "    for i in lista:\n",
    "        geo = geo + (1/i)\n",
    "\n",
    "    media_h = len(lista)/geo\n",
    "    return media_h\n",
    "\n",
    "\n",
    "media_aritmetica(lista_media)\n",
    "media_geometrica(lista_media)\n",
    "media_harmonica(lista_media)"
   ]
  },
  {
   "cell_type": "markdown",
   "id": "dea22f1c",
   "metadata": {},
   "source": [
    "- Crie uma lista aleatória com 10 elementos variando eles entre 1 e 10 (utilize a biblioteca random). Após isso, avalie como cada uma das médias evolui ao longo da quntidade de elementos que utilizar. Então crie uma malha de repetição que irá calcular ambas as médias e mostrar os resultados utilizando inicialmente os dois primeiros números e ir aumentando progressivamente até utilizar todos eles: (1 ponto)"
   ]
  },
  {
   "cell_type": "code",
   "execution_count": 11,
   "id": "6a3c4641",
   "metadata": {},
   "outputs": [
    {
     "name": "stdout",
     "output_type": "stream",
     "text": [
      "11.0\n",
      "11.0\n",
      "Quantidade de elementos:  2\n",
      "Lista utilizada:  [11, 11]\n",
      "Média geométrica:  11.0\n",
      "Média Aritmética:  11.0\n",
      "Média Harmônica:  11.0\n",
      "9.333333333333334\n",
      "8.98763734707568\n",
      "Quantidade de elementos:  3\n",
      "Lista utilizada:  [11, 11, 6]\n",
      "Média geométrica:  8.98763734707568\n",
      "Média Aritmética:  9.333333333333334\n",
      "Média Harmônica:  8.608695652173912\n",
      "7.75\n",
      "6.831474771841886\n",
      "Quantidade de elementos:  4\n",
      "Lista utilizada:  [11, 11, 6, 3]\n",
      "Média geométrica:  6.831474771841886\n",
      "Média Aritmética:  7.75\n",
      "Média Harmônica:  5.866666666666666\n",
      "7.2\n",
      "6.418086646779357\n",
      "Quantidade de elementos:  5\n",
      "Lista utilizada:  [11, 11, 6, 3, 5]\n",
      "Média geométrica:  6.418086646779357\n",
      "Média Aritmética:  7.2\n",
      "Média Harmônica:  5.670103092783505\n",
      "7.833333333333333\n",
      "7.021072013028267\n",
      "Quantidade de elementos:  6\n",
      "Lista utilizada:  [11, 11, 6, 3, 5, 11]\n",
      "Média geométrica:  7.021072013028267\n",
      "Média Aritmética:  7.833333333333333\n",
      "Média Harmônica:  6.16822429906542\n",
      "7.857142857142857\n",
      "7.153218769186546\n",
      "Quantidade de elementos:  7\n",
      "Lista utilizada:  [11, 11, 6, 3, 5, 11, 8]\n",
      "Média geométrica:  7.153218769186546\n",
      "Média Aritmética:  7.857142857142857\n",
      "Média Harmônica:  6.376811594202899\n",
      "7.0\n",
      "5.593566672097125\n",
      "Quantidade de elementos:  8\n",
      "Lista utilizada:  [11, 11, 6, 3, 5, 11, 8, 1]\n",
      "Média geométrica:  5.593566672097125\n",
      "Média Aritmética:  7.0\n",
      "Média Harmônica:  3.8136511375947997\n",
      "7.0\n",
      "5.734717987817438\n",
      "Quantidade de elementos:  9\n",
      "Lista utilizada:  [11, 11, 6, 3, 5, 11, 8, 1, 7]\n",
      "Média geométrica:  5.734717987817438\n",
      "Média Aritmética:  7.0\n",
      "Média Harmônica:  4.0168091580930305\n",
      "7.3\n",
      "6.0626271379105985\n",
      "Quantidade de elementos:  10\n",
      "Lista utilizada:  [11, 11, 6, 3, 5, 11, 8, 1, 7, 10]\n",
      "Média geométrica:  6.0626271379105985\n",
      "Média Aritmética:  7.3\n",
      "Média Harmônica:  4.2724372312387295\n"
     ]
    }
   ],
   "source": [
    "import random\n",
    "numeros = []\n",
    "for i in range(10):\n",
    "  numeros.append(random.randint(1,11))\n",
    "\n",
    "\n",
    "for i in range(2, len(numeros)+1, 1):\n",
    "  numeros_i = numeros[:i]\n",
    "  media_arit_i = media_aritmetica(numeros_i)\n",
    "  media_geo_i = media_geometrica(numeros_i)\n",
    "  media_har_i = media_harmonica(numeros_i)\n",
    "  print(\"Quantidade de elementos: \", i)\n",
    "  print(\"Lista utilizada: \", numeros_i)\n",
    "  print(\"Média geométrica: \", media_geo_i)\n",
    "  print(\"Média Aritmética: \", media_arit_i)\n",
    "  print(\"Média Harmônica: \", media_har_i)"
   ]
  },
  {
   "cell_type": "code",
   "execution_count": null,
   "id": "f543fc3d",
   "metadata": {},
   "outputs": [],
   "source": []
  },
  {
   "cell_type": "code",
   "execution_count": null,
   "id": "17760642",
   "metadata": {},
   "outputs": [],
   "source": []
  },
  {
   "attachments": {},
   "cell_type": "markdown",
   "id": "a9dc00f9",
   "metadata": {},
   "source": [
    "__5) Progressão Geométrica__ (1 ponto)\n",
    "\n",
    "A progressão geométrica (PG) é uma sequência de números onde a diferença entre dois consecutivos é sempre a mesma. Um exemplo de uma PG pode ser dado pela base de múltiplos de 2 , onde temos que (2, 4, 8, 16, ...)\n",
    "\n",
    "Uma PG segue a seguinte equação:\n",
    "\n",
    "$$ a_n = a_1 * q^{n - 1} $$\n",
    "\n",
    "onde, $ a_n$ é o n-ésimo elemento da PA, $a_1$ é o primeiro elemento da sequência, n é a quantidade de elementos considerada e $q$ a razão ou ordem de grandeza que aumenta de um elemento ao outro.\n",
    "\n",
    "O Objetivo do exercício será desenvolver uma função nomeada `progressao_geometrica` onde receberá como parâmetros $a_1$, $n$ e $q$ e a função deve printar o elemento $a_n$ e printar todos os elementos da PG em $a_1$ e $a_n$"
   ]
  },
  {
   "cell_type": "code",
   "execution_count": 75,
   "id": "12aeea3b",
   "metadata": {},
   "outputs": [
    {
     "name": "stdout",
     "output_type": "stream",
     "text": [
      "a1 = 2\n",
      "a2 = 6\n",
      "a3 = 18\n",
      "a4 = 54\n",
      "a5 = 162\n",
      "[2, 6, 18, 54, 162]\n"
     ]
    }
   ],
   "source": [
    "def progressao_geometrica(a1, n, q):\n",
    "  sequencia = []\n",
    "\n",
    "  # Loop através dos elementos da sequência da PG\n",
    "  for i in range(1, n+1):\n",
    "\n",
    "    # Calcula o elemento da sequência atual da PG\n",
    "    ai = a1 * q**(i-1)\n",
    "    sequencia.append(ai)\n",
    "\n",
    "    # Imprime o elemento atual da sequência da PG\n",
    "    print(f'a{i} = {ai}')\n",
    "\n",
    "  # Imprime todos os elementos da lista de sequência\n",
    "  print(sequencia)\n",
    "\n",
    "# Testa a função com os parâmetros a1 = 2, n = 5 e q = 2\n",
    "progressao_geometrica(2, 5, 3)"
   ]
  },
  {
   "cell_type": "code",
   "execution_count": null,
   "id": "63423026",
   "metadata": {},
   "outputs": [],
   "source": []
  },
  {
   "cell_type": "code",
   "execution_count": null,
   "id": "ad05fc4a",
   "metadata": {},
   "outputs": [],
   "source": []
  },
  {
   "cell_type": "markdown",
   "id": "c806c6d3",
   "metadata": {},
   "source": [
    "__6) Conversor DNA e RNA__ (1 ponto)\n",
    "\n",
    "O código genético formado pelo DNA e RNA são compostos de alguns aminoácidos como Adenina (A), Guanina (G), Citosina (C), Timina(T) e Uracila(U). A cadeia do DNA é composto pelos aminoácidos AGCT e do RNA seria AGCU, pois ao copiar do DNA ele substitui o aminoácido Timina (T) pela Uracila (U). O objetivo deste exercício será desenvlver uma função que chamada de `tradutor_dna_to_rna` onde como entrada irá receber uma `string`com o código do DNA e deve-se devolver o código traduzido pelo RNA."
   ]
  },
  {
   "cell_type": "code",
   "execution_count": null,
   "id": "d93e0ec2",
   "metadata": {},
   "outputs": [],
   "source": [
    "# entrada\n",
    "dna = 'AGCTGGGCTTT'\n",
    "\n",
    "# saida\n",
    "rna = 'AGCUGGGCUUU'"
   ]
  },
  {
   "cell_type": "code",
   "execution_count": 102,
   "id": "49ba51a1",
   "metadata": {},
   "outputs": [
    {
     "data": {
      "text/plain": [
       "'AGCUGGGCUUU'"
      ]
     },
     "execution_count": 102,
     "metadata": {},
     "output_type": "execute_result"
    }
   ],
   "source": [
    "#Para resolver este problema, basta percorrer a string de DNA e substituir o aminoácido Timina (T) pelo aminoácido Uracila (U) na string de RNA que será retornada. \n",
    "\n",
    "def tradutor_dna_to_rna(dna):\n",
    "    rna = \"\"\n",
    "    for aminoacido in dna:\n",
    "        if aminoacido == \"T\":\n",
    "            rna = rna + \"U\"\n",
    "        else:\n",
    "            rna = rna + aminoacido\n",
    "    return rna\n",
    "\n",
    "tradutor_dna_to_rna('AGCTGGGCTTT')"
   ]
  },
  {
   "cell_type": "markdown",
   "id": "3854cfed",
   "metadata": {},
   "source": [
    "__7) Conversor Binario para Numero__ (2 pontos)\n",
    "\n",
    "O Sistema binário é uma representação da matemática onde a base de referência para a construção dos números é o 2 ao invés do 10 comum na base decimal. Por exemplo o binário `1001` na base decimal será igual $ 1001 = 1*2^3 + 0*2^2 + 0*2^1 + 1*2^0 = 9 $. O objetivo deste exercício é desenvolver uma função nomeada como `conversor_binario`, onde irá receber uma `string` com o número binário correspondente e a função deve devolver o respectivo número na base decimal."
   ]
  },
  {
   "cell_type": "code",
   "execution_count": 109,
   "id": "905b5c2d",
   "metadata": {},
   "outputs": [
    {
     "data": {
      "text/plain": [
       "9"
      ]
     },
     "execution_count": 109,
     "metadata": {},
     "output_type": "execute_result"
    }
   ],
   "source": [
    "def conversor_binario(binario):\n",
    "    #Tive de transformar pra str pq esse int() é para str\n",
    "    resultado = str(binario)\n",
    "\n",
    "    # int() leva a string que queremos converter como seu primeiro argumento e a base do número como seu segundo argumento. \n",
    "    # Como aqui estamos lidando com um número binário, portanto, a base é 2. \n",
    "    # Esse método retorna o valor inteiro da string binária.\n",
    "    valor = int(resultado,2)\n",
    "\n",
    "    return valor\n",
    "\n",
    "conversor_binario(1001)\n",
    "    "
   ]
  },
  {
   "cell_type": "code",
   "execution_count": null,
   "id": "d94cabab",
   "metadata": {},
   "outputs": [],
   "source": []
  },
  {
   "cell_type": "code",
   "execution_count": null,
   "id": "0d0fd422",
   "metadata": {},
   "outputs": [],
   "source": []
  }
 ],
 "metadata": {
  "kernelspec": {
   "display_name": "base",
   "language": "python",
   "name": "python3"
  },
  "language_info": {
   "codemirror_mode": {
    "name": "ipython",
    "version": 3
   },
   "file_extension": ".py",
   "mimetype": "text/x-python",
   "name": "python",
   "nbconvert_exporter": "python",
   "pygments_lexer": "ipython3",
   "version": "3.9.7"
  },
  "vscode": {
   "interpreter": {
    "hash": "7db0b5fe4b5d4d56289ddd2b3b55446c28bd0ee16eb846827d2ba79d8f209c8b"
   }
  }
 },
 "nbformat": 4,
 "nbformat_minor": 5
}
