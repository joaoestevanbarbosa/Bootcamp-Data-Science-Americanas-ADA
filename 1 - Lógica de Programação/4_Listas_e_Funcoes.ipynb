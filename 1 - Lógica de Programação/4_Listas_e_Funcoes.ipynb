{
  "cells": [
    {
      "cell_type": "markdown",
      "metadata": {
        "id": "4as1Au2x-r65"
      },
      "source": [
        "## Aula 04 - Listas e Funções\n",
        "\n",
        "Nesta aula, serão discutidos os seguintes tópicos:\n",
        "- Listas;\n",
        "- Slicing;\n",
        "- Loop em listas;\n",
        "- Operador in;\n",
        "- Funções para Listas;\n",
        "- Funções;"
      ]
    },
    {
      "cell_type": "markdown",
      "metadata": {
        "id": "T8jBDHjIsiwu"
      },
      "source": [
        "## 1. Listas\n",
        "\n",
        "Note que ao longo das aulas anteriores, sempre que precisavamos de dados, era solicitado ao usuário esses tipos de informações. Por exemplo, mas criar um programa para calcular a média de prova de um aluno:"
      ]
    },
    {
      "cell_type": "code",
      "execution_count": null,
      "metadata": {
        "id": "XgXKmAil-r6-",
        "outputId": "505769a2-042b-4dfc-c99e-5131b9aea1a9"
      },
      "outputs": [
        {
          "name": "stdout",
          "output_type": "stream",
          "text": [
            "Digite a nota de sua prova: 8\n",
            "Digite a nota da outra prova: 7\n",
            "Sua média é:  7.5\n"
          ]
        }
      ],
      "source": [
        "# Digitar as notas\n",
        "nota1 = float(input(\"Digite a nota de sua prova: \"))\n",
        "nota2 = float(input(\"Digite a nota da outra prova: \"))\n",
        "\n",
        "# Calcula a media\n",
        "media = (nota1 + nota2)/2\n",
        "\n",
        "# Print da media\n",
        "print(\"Sua média é: \", media)"
      ]
    },
    {
      "cell_type": "markdown",
      "metadata": {
        "id": "JvUwQy5usm6F"
      },
      "source": [
        "Sempre pareceu muito simples certo? Agora imagine para um professor que da aula em 3 turnos numa escola e precisa calcular rapidamente a média de 80 alunos. Começa a ser inviável a utilização de `inputs` para este serviço.\n",
        "\n",
        "Neste ponto, que será introduzido as __listas__.\n",
        "\n",
        "A lista é uma coleção de objetos do _Python_, trazendo de maneira bem simplificada, ~soa variáveis que comportam diversos valores ao mesmo tempo.\n",
        "\n",
        "Abaixo temos algumas formas de criar listas em _Python_:"
      ]
    },
    {
      "cell_type": "code",
      "execution_count": null,
      "metadata": {
        "id": "0Y3bi4_L-r7A"
      },
      "outputs": [],
      "source": [
        "# Duas formas de criar listas vazias\n",
        "lista1 = []\n",
        "\n",
        "lista2 = list()"
      ]
    },
    {
      "cell_type": "code",
      "execution_count": null,
      "metadata": {
        "id": "ijrSEkdI-r7A",
        "outputId": "d3bc7752-9a00-40f2-eedb-c04d4d620407"
      },
      "outputs": [
        {
          "data": {
            "text/plain": [
              "[1, 'Sandro', 6.5, 80, 'Data Science']"
            ]
          },
          "execution_count": 3,
          "metadata": {},
          "output_type": "execute_result"
        }
      ],
      "source": [
        "# Criar lista com elementos diferentes\n",
        "lista3 = [1, 'Sandro', 6.5, 80, 'Data Science']\n",
        "lista3"
      ]
    },
    {
      "cell_type": "code",
      "execution_count": null,
      "metadata": {
        "id": "ETvIh6A4-r7B",
        "outputId": "2abb4358-faa6-4c96-a0a7-7a3dc90b2e8f"
      },
      "outputs": [
        {
          "name": "stdout",
          "output_type": "stream",
          "text": [
            "[1, 'Sandro', 6.5, 80, 'Data Science']\n"
          ]
        }
      ],
      "source": [
        "print(lista3)"
      ]
    },
    {
      "cell_type": "markdown",
      "metadata": {
        "id": "-_CLclVU-r7B"
      },
      "source": [
        "Note que as listas, suportam diferentes tipos de objetos ao mesmo tempo, como no exemplo acima temos que a lista contenha 2 __inteiros__, 1 __float__ e 2 __strings__."
      ]
    },
    {
      "cell_type": "markdown",
      "metadata": {
        "id": "VQEek59Ds5YY"
      },
      "source": [
        "Uma característica bem importante das listas é sua __indexação__, onde pode-se acessar cada elemento individualmente devido a posição deste elemento estar associada a um __índice__, lembrando que em _Python_, índices começam sempre na posição zero. Vamos retomar ao exemplo anterior na tabela abaixo:\n",
        "\n",
        "<br>\n",
        "\n",
        "|  Lista | 1 | 'Sandro' | 8.5 | 70 | 'Data Science' |\n",
        "|:------:|:-:|:--------:|:---:|:--:|:--------------:|\n",
        "| Índice | 0 |     1    |  2  |  3 |        4       |\n",
        "\n",
        "<br>\n",
        "\n",
        "Portanto, para acessar cada um dos elementos basta utilizar os índices associados:"
      ]
    },
    {
      "cell_type": "code",
      "execution_count": null,
      "metadata": {
        "id": "TInaRLHm-r7C",
        "outputId": "23fb97eb-fa2d-45fd-e333-c74fe08abb2c"
      },
      "outputs": [
        {
          "name": "stdout",
          "output_type": "stream",
          "text": [
            "1\n",
            "Sandro\n",
            "80\n"
          ]
        }
      ],
      "source": [
        "print(lista3[0])\n",
        "print(lista3[1])\n",
        "print(lista3[3])"
      ]
    },
    {
      "cell_type": "markdown",
      "metadata": {
        "id": "r77HmAA1tOwb"
      },
      "source": [
        "Ainda sobre os índices, não precisamos saber os índices de todos os elementos quando queremos apenas trazer os últimos da lista (imagine que isso seja inviável quando temos uma lista muito grande). Mas pode-se acessar esses elementos utilizando o sinal negativo:"
      ]
    },
    {
      "cell_type": "code",
      "execution_count": null,
      "metadata": {
        "id": "4Lw1G7g--r7D",
        "outputId": "874bd49d-2433-49e4-f68e-5cfc5c4c1c4c"
      },
      "outputs": [
        {
          "name": "stdout",
          "output_type": "stream",
          "text": [
            "Data Science\n",
            "80\n",
            "6.5\n"
          ]
        }
      ],
      "source": [
        "print(lista3[-1])\n",
        "print(lista3[-2])\n",
        "print(lista3[-3])"
      ]
    },
    {
      "cell_type": "markdown",
      "metadata": {
        "id": "UtkxVQr1-r7D"
      },
      "source": [
        " Uma última característica da estrutura da lista é que seus elementos são __mutável__, então pode-se alterar determinado valor de uma lista já criada:"
      ]
    },
    {
      "cell_type": "code",
      "execution_count": null,
      "metadata": {
        "id": "DXFl3kp_-r7D",
        "outputId": "4b370c6c-338e-4fb7-d5de-34f6b44ed084"
      },
      "outputs": [
        {
          "name": "stdout",
          "output_type": "stream",
          "text": [
            "Lista original:  [1, 'Sandro', 6.5, 80, 'Data Science']\n"
          ]
        }
      ],
      "source": [
        "print('Lista original: ', lista3)"
      ]
    },
    {
      "cell_type": "code",
      "execution_count": null,
      "metadata": {
        "id": "YEG5Ni-K-r7D"
      },
      "outputs": [],
      "source": [
        "lista3[-1] = 'Machine Learning'"
      ]
    },
    {
      "cell_type": "code",
      "execution_count": null,
      "metadata": {
        "id": "SEwhJis_-r7D",
        "outputId": "560dd99a-6915-44f9-85b4-48459e7243d9"
      },
      "outputs": [
        {
          "name": "stdout",
          "output_type": "stream",
          "text": [
            "Lista alterada:  [1, 'Sandro', 6.5, 80, 'Machine Learning']\n"
          ]
        }
      ],
      "source": [
        "print('Lista alterada: ', lista3)"
      ]
    },
    {
      "cell_type": "markdown",
      "metadata": {
        "id": "5710RMw5-r7E"
      },
      "source": [
        "## "
      ]
    },
    {
      "cell_type": "markdown",
      "metadata": {
        "id": "AVnLooiztS31"
      },
      "source": [
        "## 2. Slicing\n",
        "\n",
        "O __Slicing__ (em português fatiamento) é uma operação bem comum quando se trabalha com listas , onde a partir de uma lista original pode-se pegar subconjuntos ,ou fatias destes dados. Veja o exemplo abaixo:"
      ]
    },
    {
      "cell_type": "code",
      "execution_count": null,
      "metadata": {
        "id": "ICvn_rNn-r7E",
        "outputId": "7101b5f8-0eb3-4fbe-b5b0-6dabc32b0940"
      },
      "outputs": [
        {
          "data": {
            "text/plain": [
              "[0, 2, 4, 6, 8, 10, 12, 14, 16, 18]"
            ]
          },
          "execution_count": 10,
          "metadata": {},
          "output_type": "execute_result"
        }
      ],
      "source": [
        "#Lista de numeros pares\n",
        "pares = [0, 2, 4, 6, 8, 10, 12, 14, 16, 18]\n",
        "pares"
      ]
    },
    {
      "cell_type": "code",
      "execution_count": null,
      "metadata": {
        "id": "jkyCup-e-r7E",
        "outputId": "dafe0a8a-8041-4f6b-cc88-6499bc93ff6f"
      },
      "outputs": [
        {
          "data": {
            "text/plain": [
              "[6, 8, 10]"
            ]
          },
          "execution_count": 11,
          "metadata": {},
          "output_type": "execute_result"
        }
      ],
      "source": [
        "slice1 = pares[3:6]\n",
        "slice1"
      ]
    },
    {
      "cell_type": "markdown",
      "metadata": {
        "id": "nRnNJO30-r7E"
      },
      "source": [
        "Fizemos uma repartição onde retirou os elementos do índice 3 ao 6 (sendo o 6 excludente, sempre bom ressaltar isto!). Uma outra forma de repartir, onde queremos todos os elementos até determinado ponto, é utilizado os `:`"
      ]
    },
    {
      "cell_type": "code",
      "execution_count": null,
      "metadata": {
        "id": "Q8Qd11Gi-r7E",
        "outputId": "e9786c03-7a36-4e17-ea28-9a338336be85"
      },
      "outputs": [
        {
          "data": {
            "text/plain": [
              "[0, 2, 4, 6, 8]"
            ]
          },
          "execution_count": 12,
          "metadata": {},
          "output_type": "execute_result"
        }
      ],
      "source": [
        "metade1 = pares[:5]\n",
        "metade1"
      ]
    },
    {
      "cell_type": "code",
      "execution_count": null,
      "metadata": {
        "id": "fLR98-J0-r7F",
        "outputId": "e317cf92-8bee-4e26-9953-3b9b07a8feb1"
      },
      "outputs": [
        {
          "data": {
            "text/plain": [
              "[10, 12, 14, 16, 18]"
            ]
          },
          "execution_count": 13,
          "metadata": {},
          "output_type": "execute_result"
        }
      ],
      "source": [
        "metade2 = pares[5:]\n",
        "metade2"
      ]
    },
    {
      "cell_type": "markdown",
      "metadata": {
        "id": "u7cpe5ckta9O"
      },
      "source": [
        "Além dos índices inicial e final, pode-se também passar um passo para os índices. Veja o exemplo a seguir:"
      ]
    },
    {
      "cell_type": "code",
      "execution_count": null,
      "metadata": {
        "id": "0v1TR5Cl-r7F",
        "outputId": "486093f7-06e7-4bf4-b17d-db91982da6ef"
      },
      "outputs": [
        {
          "data": {
            "text/plain": [
              "[0, 1, 2, 3, 4, 5, 6, 7, 8, 9, 10, 11, 12, 13, 14, 15]"
            ]
          },
          "execution_count": 14,
          "metadata": {},
          "output_type": "execute_result"
        }
      ],
      "source": [
        "nums = [0, 1, 2, 3, 4, 5, 6, 7, 8, 9, 10, 11, 12, 13, 14, 15]\n",
        "nums"
      ]
    },
    {
      "cell_type": "code",
      "execution_count": null,
      "metadata": {
        "id": "xkTQOXg7-r7F",
        "outputId": "ccbd86d1-ea43-4c37-e9e4-d07ecb01bbbd"
      },
      "outputs": [
        {
          "data": {
            "text/plain": [
              "[3, 6, 9]"
            ]
          },
          "execution_count": 17,
          "metadata": {},
          "output_type": "execute_result"
        }
      ],
      "source": [
        "multiplos3ate10 = nums[3:10:3]\n",
        "multiplos3ate10"
      ]
    },
    {
      "cell_type": "markdown",
      "metadata": {
        "id": "zsDbTmxA-r7F"
      },
      "source": [
        "## "
      ]
    },
    {
      "cell_type": "markdown",
      "metadata": {
        "id": "lJZFySIgtmBr"
      },
      "source": [
        "## 3. Looping em Listas\n",
        "\n",
        "\n",
        "\n",
        "Vimos como acessar cada elemento de uma lista individualmente, mas não precisamos fazer desta forma já que sabemos como utilizar loopings como por exemplo o _for_.\n",
        "\n",
        "O maior desafio aqui será entender por quanto tempo o looping irá precisar percorrer a lista. Para isso, utiliza-se a função `len()`:"
      ]
    },
    {
      "cell_type": "code",
      "execution_count": null,
      "metadata": {
        "colab": {
          "base_uri": "https://localhost:8080/"
        },
        "id": "wJ7NVLFG-r7F",
        "outputId": "8d6bdbb7-3b6d-4f38-c759-f3cc748ae8c5"
      },
      "outputs": [
        {
          "output_type": "execute_result",
          "data": {
            "text/plain": [
              "[1, 3, 5, 7, 9, 11]"
            ]
          },
          "metadata": {},
          "execution_count": 6
        }
      ],
      "source": [
        "impares = [1, 3, 5, 7, 9, 11]\n",
        "impares"
      ]
    },
    {
      "cell_type": "code",
      "execution_count": null,
      "metadata": {
        "colab": {
          "base_uri": "https://localhost:8080/"
        },
        "id": "BCw3IIFg-r7G",
        "outputId": "f55e20d3-0513-49d0-913d-e3867057e1dd"
      },
      "outputs": [
        {
          "output_type": "execute_result",
          "data": {
            "text/plain": [
              "6"
            ]
          },
          "metadata": {},
          "execution_count": 7
        }
      ],
      "source": [
        "len(impares)"
      ]
    },
    {
      "cell_type": "markdown",
      "metadata": {
        "id": "2LXMm8UT-r7G"
      },
      "source": [
        "Ou seja, a função `len()` retorna a quantidade de elementos dentro de uma lista. Pode-se combinar isto com a função `range` e assim percorrer todos os elementos na nossa lista:"
      ]
    },
    {
      "cell_type": "code",
      "execution_count": null,
      "metadata": {
        "colab": {
          "base_uri": "https://localhost:8080/"
        },
        "id": "DRovSTnv-r7G",
        "outputId": "5f61cd51-3b10-4192-b753-c6718d9f525b"
      },
      "outputs": [
        {
          "output_type": "stream",
          "name": "stdout",
          "text": [
            "Indice: 0 | Elemento: 1\n",
            "Indice: 1 | Elemento: 3\n",
            "Indice: 2 | Elemento: 5\n",
            "Indice: 3 | Elemento: 7\n",
            "Indice: 4 | Elemento: 9\n",
            "Indice: 5 | Elemento: 11\n"
          ]
        }
      ],
      "source": [
        "for i in range(len(impares)):\n",
        "    print(f'Indice: {i} | Elemento: {impares[i]}')"
      ]
    },
    {
      "cell_type": "code",
      "execution_count": null,
      "metadata": {
        "colab": {
          "base_uri": "https://localhost:8080/"
        },
        "id": "ZF9xAgKP-r7G",
        "outputId": "20c8187c-a146-4013-ec13-370ad1df0c51"
      },
      "outputs": [
        {
          "output_type": "stream",
          "name": "stdout",
          "text": [
            "1\n",
            "3\n",
            "5\n",
            "7\n",
            "9\n",
            "11\n"
          ]
        }
      ],
      "source": [
        "for i in range(len(impares)):\n",
        "    print(impares[i])"
      ]
    },
    {
      "cell_type": "markdown",
      "metadata": {
        "id": "VdHnqMnL-r7G"
      },
      "source": [
        "Pórem, existe uma forma ainda mais fácil de percorrer os elementos de uma lista, sem se preocupar o índice de fato. O _for_ não serve apenas para percorrer sequências mas também percorrer elementos de coleções. Dessa forma, pode-se trocar o `range` pela própria lista:"
      ]
    },
    {
      "cell_type": "code",
      "execution_count": null,
      "metadata": {
        "colab": {
          "base_uri": "https://localhost:8080/"
        },
        "id": "y7ENZygQ-r7G",
        "outputId": "1b13ab84-a670-4978-99e1-e5bfd48fe9b2"
      },
      "outputs": [
        {
          "output_type": "stream",
          "name": "stdout",
          "text": [
            "1\n",
            "3\n",
            "5\n",
            "7\n",
            "9\n",
            "11\n"
          ]
        }
      ],
      "source": [
        "for num in impares:\n",
        "    print(num)"
      ]
    },
    {
      "cell_type": "markdown",
      "metadata": {
        "id": "0er0HcGX-r7G"
      },
      "source": [
        "> O for serve, primariamente, para percorrer coleções. Ou seja, para iterar coleções. O range age, na prática, como se fosse uma lista contendo os valores determinados por seu parâmetro. Dizemos que a função range gera um iterável, ou seja, um tipo especial de dado que pode ser percorrido através de um loop."
      ]
    },
    {
      "cell_type": "markdown",
      "metadata": {
        "id": "ekJmEEk2-r7G"
      },
      "source": [
        "## "
      ]
    },
    {
      "cell_type": "markdown",
      "metadata": {
        "id": "hNe7Z9KMtuFG"
      },
      "source": [
        "## 4. Operador in\n",
        "\n",
        "O operador __in__ costuma aparecer no _for_ para indicar a lista ou sequência a ser percorrida, mas ele também possui uma funcionalidade de verificar de determinado elemento pertence ou não a uma lista. Observe a saída do código abaixo."
      ]
    },
    {
      "cell_type": "code",
      "execution_count": null,
      "metadata": {
        "id": "Diuv1VoL-r7H",
        "outputId": "f411c25f-8a6d-4ed2-d4cf-55e43349e0ad"
      },
      "outputs": [
        {
          "data": {
            "text/plain": [
              "['Python', 'Spark', 'R', 'SQL']"
            ]
          },
          "execution_count": 24,
          "metadata": {},
          "output_type": "execute_result"
        }
      ],
      "source": [
        "lingprog = ['Python', 'Spark', 'R', 'SQL']\n",
        "lingprog"
      ]
    },
    {
      "cell_type": "code",
      "execution_count": null,
      "metadata": {
        "id": "VAcG0jq1-r7H"
      },
      "outputs": [],
      "source": [
        "existe_python = 'Python' in lingprog\n",
        "existe_java = 'Java' in lingprog"
      ]
    },
    {
      "cell_type": "code",
      "execution_count": null,
      "metadata": {
        "id": "AUumokKF-r7H",
        "outputId": "40ab62b9-fe23-4006-ed1a-abc3c9ca021f"
      },
      "outputs": [
        {
          "name": "stdout",
          "output_type": "stream",
          "text": [
            "Python:  True\n",
            "Java:  False\n"
          ]
        }
      ],
      "source": [
        "print('Python: ', existe_python)\n",
        "print('Java: ', existe_java)"
      ]
    },
    {
      "cell_type": "markdown",
      "metadata": {
        "id": "LEP6lJCYt2ce"
      },
      "source": [
        "Normalmente utilizamos esse comando junto de um if quando precisamos checar se um elemento existe:\n",
        "\n"
      ]
    },
    {
      "cell_type": "code",
      "execution_count": null,
      "metadata": {
        "id": "0eP1UsNK-r7H",
        "outputId": "da5a6ec6-0f3b-418d-ce09-194a3c73f974"
      },
      "outputs": [
        {
          "name": "stdout",
          "output_type": "stream",
          "text": [
            "Digite a linguagem que você quer aprender: Ruby\n",
            "Infelizmente não temos curso dessa linguagem\n"
          ]
        }
      ],
      "source": [
        "linguagem_desejada = input(\"Digite a linguagem que você quer aprender: \")\n",
        "\n",
        "if linguagem_desejada not in lingprog:\n",
        "    print(\"Infelizmente não temos curso dessa linguagem\")\n",
        "else:\n",
        "    print(\"Temos curso dessa linguagem =)\")"
      ]
    },
    {
      "cell_type": "markdown",
      "metadata": {
        "id": "aUXezkpO-r7H"
      },
      "source": [
        "## "
      ]
    },
    {
      "cell_type": "markdown",
      "metadata": {
        "id": "dx6tuwNvt5UY"
      },
      "source": [
        "## 4. Funções para Listas\n",
        "\n",
        "\n",
        "As listas possuem diversas funções próprias batante úteis e que facilitam a vida no dia a dia de desenvolvimento com _Python_. A seguir iremos comentar sobre algumas das principais funções:\n",
        "\n",
        "<br>\n",
        "\n",
        "### append e insert - Adicionando elementos\n",
        "\n",
        "Podemos adicionar novos elementos na lista de duas maneiras. A primeira delas, mais simples, é o append. Ele adiciona um elemento ao final da lista. Veja o exemplo abaixo:"
      ]
    },
    {
      "cell_type": "code",
      "execution_count": null,
      "metadata": {
        "id": "Qkf0K7Uy-r7H",
        "outputId": "8673c028-54e4-4c5c-c2b3-eb759cfa5427"
      },
      "outputs": [
        {
          "data": {
            "text/plain": [
              "[0, 2, 4, 6, 8]"
            ]
          },
          "execution_count": 29,
          "metadata": {},
          "output_type": "execute_result"
        }
      ],
      "source": [
        "pares = [0, 2, 4, 6, 8]\n",
        "pares"
      ]
    },
    {
      "cell_type": "code",
      "execution_count": null,
      "metadata": {
        "id": "jaYO-rvJ-r7I",
        "outputId": "6e04cf5d-57de-4905-ea1a-d5888ddff4b6"
      },
      "outputs": [
        {
          "data": {
            "text/plain": [
              "[0, 2, 4, 6, 8, 10]"
            ]
          },
          "execution_count": 30,
          "metadata": {},
          "output_type": "execute_result"
        }
      ],
      "source": [
        "pares.append(10)\n",
        "pares"
      ]
    },
    {
      "cell_type": "markdown",
      "metadata": {
        "id": "SibHjanftfXf"
      },
      "source": [
        "__Observação:__ deve-se tomar bastante cuidado ao utilizar listas como por exemplo, ao atribuir uma lista a uma variável:"
      ]
    },
    {
      "cell_type": "code",
      "execution_count": null,
      "metadata": {
        "id": "5ijVQoln-r7I",
        "outputId": "4ec63910-f89f-46bf-f9b7-5da3c0c7cad2"
      },
      "outputs": [
        {
          "data": {
            "text/plain": [
              "[1, 2, 3]"
            ]
          },
          "execution_count": 31,
          "metadata": {},
          "output_type": "execute_result"
        }
      ],
      "source": [
        "lista1 = [1, 2, 3]\n",
        "lista1"
      ]
    },
    {
      "cell_type": "code",
      "execution_count": null,
      "metadata": {
        "id": "Y_a2bwdf-r7I",
        "outputId": "f7b58e88-2072-4909-9b2b-5013e04360e2"
      },
      "outputs": [
        {
          "data": {
            "text/plain": [
              "[1, 2, 3]"
            ]
          },
          "execution_count": 33,
          "metadata": {},
          "output_type": "execute_result"
        }
      ],
      "source": [
        "lista2 = lista1\n",
        "lista2"
      ]
    },
    {
      "cell_type": "markdown",
      "metadata": {
        "id": "9i0loNk9-r7I"
      },
      "source": [
        "Quando atribui-se uma lista a outra variável, a lista __não é copiada__. Dessa forma, qualquer modificação na variável impacta também na lista original:"
      ]
    },
    {
      "cell_type": "code",
      "execution_count": null,
      "metadata": {
        "id": "PdwD_H71-r7I",
        "outputId": "45ca3f2b-a855-4886-f47a-43dfe5f3ad71"
      },
      "outputs": [
        {
          "name": "stdout",
          "output_type": "stream",
          "text": [
            "[1, 2, 3, 4]\n",
            "[1, 2, 3, 4]\n"
          ]
        }
      ],
      "source": [
        "lista2.append(4)\n",
        "print(lista1)\n",
        "print(lista2)"
      ]
    },
    {
      "cell_type": "markdown",
      "metadata": {
        "id": "782xhjCkthm0"
      },
      "source": [
        "Modificações aplicadas em `lista2` também afetarão a `lista1`. \n",
        "\n",
        "Isso ocorre porque não foi criada uma nova lista. O _Python_ apenas fez com que ambas as variáveis (`lista1` e `lista2`) referenciassem a mesma estrutura na memória. Quando utilizamos _slices_, isso não ocorre. O _Python_ cria uma lista contendo os valores restritos pelos índices. Sendo assim, uma estratégia fácil para copiar uma lista para outra é utilizar um slice indo da primeira à última posição:"
      ]
    },
    {
      "cell_type": "code",
      "execution_count": null,
      "metadata": {
        "id": "lvSeqkkg-r7I",
        "outputId": "ebec3610-6346-4a3f-a56c-ae977896e851"
      },
      "outputs": [
        {
          "name": "stdout",
          "output_type": "stream",
          "text": [
            "[1, 2, 3]\n",
            "[1, 2, 3, 4]\n"
          ]
        }
      ],
      "source": [
        "lista1 = [1, 2, 3]\n",
        "#lista2 = lista1.copy()\n",
        "lista2 = lista1[:]\n",
        "lista2.append(4)\n",
        "print(lista1)\n",
        "print(lista2)"
      ]
    },
    {
      "cell_type": "markdown",
      "metadata": {
        "id": "i0ePpzqRuBTm"
      },
      "source": [
        "Outra maneira de adicionar elemento é com a função __insert__: além do elemento, ele recebe a posição do novo elemento, onde o primeiro parâmetro é a posição, e a segundo é o valor:"
      ]
    },
    {
      "cell_type": "code",
      "execution_count": null,
      "metadata": {
        "id": "xRfMs_HU-r7I",
        "outputId": "b7dd190a-f3a4-492d-aa31-cf7730fcec28"
      },
      "outputs": [
        {
          "data": {
            "text/plain": [
              "[0, 2, 4, 8, 10]"
            ]
          },
          "execution_count": 36,
          "metadata": {},
          "output_type": "execute_result"
        }
      ],
      "source": [
        "pares = [0, 2, 4, 8, 10]\n",
        "pares"
      ]
    },
    {
      "cell_type": "code",
      "execution_count": null,
      "metadata": {
        "id": "qloio6Ab-r7J",
        "outputId": "0d9c880a-2ed4-4096-ca92-f94422d7b6c0"
      },
      "outputs": [
        {
          "data": {
            "text/plain": [
              "[0, 2, 4, 6, 8, 10]"
            ]
          },
          "execution_count": 37,
          "metadata": {},
          "output_type": "execute_result"
        }
      ],
      "source": [
        "pares.insert(3, 6)\n",
        "pares"
      ]
    },
    {
      "cell_type": "markdown",
      "metadata": {
        "id": "GyN2AP-2-r7J"
      },
      "source": [
        "Note que o valor que ocupava a posição anteriormente não é substituído, mas \"empurrado\" para a próxima posição.\n",
        "\n"
      ]
    },
    {
      "cell_type": "markdown",
      "metadata": {
        "id": "p231SN_4-r7J"
      },
      "source": [
        "## "
      ]
    },
    {
      "cell_type": "markdown",
      "metadata": {
        "id": "k-apXhuvuHtX"
      },
      "source": [
        "### remove e pop - Removendo elementos\n",
        "\n",
        "\n",
        "Pode-se  remover um determinado elemento de 2 jeitos: pelo valor utilizando o __remove__ ou pela posição com o __pop__. \n",
        "\n",
        "O __remove__ irá remover o primeiro elemento encontrado na lista com um dado valor. Ex:"
      ]
    },
    {
      "cell_type": "code",
      "execution_count": null,
      "metadata": {
        "id": "YR0aK756-r7J",
        "outputId": "fb255e48-e363-49fa-dd6a-a9025542f7c1"
      },
      "outputs": [
        {
          "data": {
            "text/plain": [
              "[1, 3, 5, 7, 3, 9]"
            ]
          },
          "execution_count": 38,
          "metadata": {},
          "output_type": "execute_result"
        }
      ],
      "source": [
        "impares = [1, 3, 5, 7, 3, 9]\n",
        "impares"
      ]
    },
    {
      "cell_type": "code",
      "execution_count": null,
      "metadata": {
        "id": "bv8BtgLN-r7J",
        "outputId": "b7fedc30-5dc4-4d97-cfbd-4206462c8ce4"
      },
      "outputs": [
        {
          "data": {
            "text/plain": [
              "[1, 5, 7, 3, 9]"
            ]
          },
          "execution_count": 39,
          "metadata": {},
          "output_type": "execute_result"
        }
      ],
      "source": [
        "impares.remove(3)\n",
        "impares"
      ]
    },
    {
      "cell_type": "markdown",
      "metadata": {
        "id": "Yi1XhB3BuLhL"
      },
      "source": [
        "Já a função __pop__ remove o elemento que estiver em uma dada posição, independentemente de seu valor:"
      ]
    },
    {
      "cell_type": "code",
      "execution_count": null,
      "metadata": {
        "id": "bZGPWfgz-r7J",
        "outputId": "06ef58fd-d089-4ce5-ef91-167a2236bb53"
      },
      "outputs": [
        {
          "data": {
            "text/plain": [
              "[1, 3, 5, 7, 8, 9]"
            ]
          },
          "execution_count": 41,
          "metadata": {},
          "output_type": "execute_result"
        }
      ],
      "source": [
        "impares = [1, 3, 5, 7, 8, 9]\n",
        "impares"
      ]
    },
    {
      "cell_type": "code",
      "execution_count": null,
      "metadata": {
        "id": "GHRxvjBp-r7K",
        "outputId": "adbbfa2c-5c50-49aa-de2f-73815903ca50"
      },
      "outputs": [
        {
          "data": {
            "text/plain": [
              "[1, 3, 5, 7, 9]"
            ]
          },
          "execution_count": 42,
          "metadata": {},
          "output_type": "execute_result"
        }
      ],
      "source": [
        "impares.pop(4)\n",
        "impares"
      ]
    },
    {
      "cell_type": "markdown",
      "metadata": {
        "id": "k9vlhroO-r7K"
      },
      "source": [
        "Se nenhum valor for passado no pop, ele irá remover necessariamente o último elemento da lista.\n",
        "\n"
      ]
    },
    {
      "cell_type": "markdown",
      "metadata": {
        "id": "8NV8RUcB-r7K"
      },
      "source": [
        "## "
      ]
    },
    {
      "cell_type": "markdown",
      "metadata": {
        "id": "dDIr4hJ8uOi0"
      },
      "source": [
        "### sort -  Ordenando listas\n",
        "\n",
        "\n",
        "Podemos ordenar uma lista facilmente utilizando a função __sort__ para listas:"
      ]
    },
    {
      "cell_type": "code",
      "execution_count": null,
      "metadata": {
        "id": "MW3fZrV0-r7K",
        "outputId": "6d07f8a4-0ca3-4f09-cea5-edbde244d9e7"
      },
      "outputs": [
        {
          "name": "stdout",
          "output_type": "stream",
          "text": [
            "[8, 1, 5, 13, 1, 3, 2]\n"
          ]
        }
      ],
      "source": [
        "fibonacci = [8, 1, 5, 13, 1, 3, 2]\n",
        "print(fibonacci)"
      ]
    },
    {
      "cell_type": "code",
      "execution_count": null,
      "metadata": {
        "id": "m0LIQdWW-r7K",
        "outputId": "abd8ad6b-16ca-4116-fe39-9ad55ff1a183"
      },
      "outputs": [
        {
          "data": {
            "text/plain": [
              "[1, 1, 2, 3, 5, 8, 13]"
            ]
          },
          "execution_count": 44,
          "metadata": {},
          "output_type": "execute_result"
        }
      ],
      "source": [
        "fibonacci.sort()\n",
        "fibonacci"
      ]
    },
    {
      "cell_type": "markdown",
      "metadata": {
        "id": "u2wglRuluSaE"
      },
      "source": [
        "Para ordenar a lista de maior para o menor, ou seja, de forma decrescente para passar o parâmetro `reverse = True`:"
      ]
    },
    {
      "cell_type": "code",
      "execution_count": null,
      "metadata": {
        "id": "Etmj7DDw-r7K",
        "outputId": "84d16787-dbc8-4e29-cb2a-24500d659da1"
      },
      "outputs": [
        {
          "data": {
            "text/plain": [
              "[13, 8, 5, 3, 2, 1, 1]"
            ]
          },
          "execution_count": 45,
          "metadata": {},
          "output_type": "execute_result"
        }
      ],
      "source": [
        "fibonacci.sort(reverse = True)\n",
        "fibonacci"
      ]
    },
    {
      "cell_type": "markdown",
      "metadata": {
        "id": "9mI5xmJR-r7K"
      },
      "source": [
        "> Importante: o sort só irá funcionar caso sua lista possua apenas elementos que podem ser comparados entre si (apenas strings ou apenas números, por exemplo). Se uma lista contém tanto strings quanto números, o sort não saberá o que vem primeiro."
      ]
    },
    {
      "cell_type": "markdown",
      "metadata": {
        "id": "8z5oBjgwuulZ"
      },
      "source": [
        "Um problema do __sort__ é que ele irá reordenar a própria lista. Muitas vezes precisamos preservar a lista original, e obter uma nova com a ordenação desejada. Neste caso, podemos utilizar o __sorted__:"
      ]
    },
    {
      "cell_type": "code",
      "execution_count": null,
      "metadata": {
        "id": "TuvwpTrZ-r7L",
        "outputId": "250acbde-cf1f-4dce-eb50-cc53d13d5897"
      },
      "outputs": [
        {
          "name": "stdout",
          "output_type": "stream",
          "text": [
            "[8, 1, 5, 13, 1, 3, 2]\n",
            "[1, 1, 2, 3, 5, 8, 13]\n"
          ]
        }
      ],
      "source": [
        "fibonacci = [8, 1, 5, 13, 1, 3, 2]\n",
        "fibonacci_ordenado = sorted(fibonacci)\n",
        "print(fibonacci)\n",
        "print(fibonacci_ordenado)"
      ]
    },
    {
      "cell_type": "markdown",
      "metadata": {
        "id": "GeBtWtxvuyJi"
      },
      "source": [
        "O sorted também aceita o parâmetro reverse para aplicar ordem decrescente.\n",
        "\n",
        "Aliás a respeito de ordenar decrescentemente, é possível simplesmente inverter a ordem dos elementos de uma lista utilizando a função __reverse__:"
      ]
    },
    {
      "cell_type": "code",
      "execution_count": null,
      "metadata": {
        "id": "5A9bDssq-r7L",
        "outputId": "645e4906-1d76-4509-807a-bf805457ec33"
      },
      "outputs": [
        {
          "name": "stdout",
          "output_type": "stream",
          "text": [
            "[1, 5, 'dois', 4, 3.14]\n",
            "[3.14, 4, 'dois', 5, 1]\n"
          ]
        }
      ],
      "source": [
        "lista = [1, 5, 'dois', 4, 3.14]\n",
        "print(lista)\n",
        "lista.reverse()\n",
        "print(lista)"
      ]
    },
    {
      "cell_type": "markdown",
      "metadata": {
        "id": "XVPVkzFl-r7L"
      },
      "source": [
        "## "
      ]
    },
    {
      "cell_type": "markdown",
      "metadata": {
        "id": "7HI0YooWu6xm"
      },
      "source": [
        "### index - Buscar um elemento\n",
        "\n",
        "\n",
        "Pode-se buscar um determinado elemento (descobrir sua posição) utilizando a função __index__. Ela irá informar a primeira posição onde um elemento for encontrado:"
      ]
    },
    {
      "cell_type": "code",
      "execution_count": null,
      "metadata": {
        "id": "aSfzaYyd-r7L",
        "outputId": "9d70c1a2-0950-4273-ca8d-fb8e7f29e1a4"
      },
      "outputs": [
        {
          "data": {
            "text/plain": [
              "4"
            ]
          },
          "execution_count": 48,
          "metadata": {},
          "output_type": "execute_result"
        }
      ],
      "source": [
        "pi = [3, 1, 4, 1, 5, 9, 2, 6, 5]\n",
        "posicao = pi.index(5)\n",
        "posicao"
      ]
    },
    {
      "cell_type": "markdown",
      "metadata": {
        "id": "dHwg0br_-r7L"
      },
      "source": [
        "> Atenção: caso o elemento buscado não exista, a função index dará erro. Considere utilizar o in para verificar se o elemento existe na lista antes de usar o index."
      ]
    },
    {
      "cell_type": "markdown",
      "metadata": {
        "id": "PEdAleAV-r7M"
      },
      "source": [
        "## "
      ]
    },
    {
      "cell_type": "markdown",
      "metadata": {
        "id": "0K_xNqefu87X"
      },
      "source": [
        "### Propriedades das Listas\n",
        "\n",
        "Assim como já vimo a função __len__ que retorna o tamanho da lista verificada, existem outras funções que por exemplo devolvem o maior valor (__max__) ou o menor (__min__)."
      ]
    },
    {
      "cell_type": "code",
      "execution_count": null,
      "metadata": {
        "id": "4GWEHoem-r7M",
        "outputId": "5a462b76-a115-4a52-a15f-2053678898b9"
      },
      "outputs": [
        {
          "name": "stdout",
          "output_type": "stream",
          "text": [
            "9 9 1\n"
          ]
        }
      ],
      "source": [
        "pi = [3, 1, 4, 1, 5, 9, 2, 6, 5]\n",
        "tamanho = len(pi)\n",
        "maior = max(pi)\n",
        "menor = min(pi)\n",
        "print(tamanho, maior, menor)"
      ]
    },
    {
      "cell_type": "markdown",
      "metadata": {
        "id": "0Z7p1Kw7-r7M"
      },
      "source": [
        "## "
      ]
    },
    {
      "cell_type": "markdown",
      "metadata": {
        "id": "QNPNw5nwvrmh"
      },
      "source": [
        "### Enumerate\n",
        "\n",
        "\n",
        "Considere um problema qualquer onde o índice importa. Por exemplo, suponha que você possua uma lista de números e gostaria de criar uma regra em relação aos índices. Se o índice for par, eu multiplico o número por 2 e se for ímpar eu soma em uma unidade, para fins de `print`.\n",
        "\n",
        "A lógica desse problema poderia ser resolvida usando índice: "
      ]
    },
    {
      "cell_type": "code",
      "execution_count": null,
      "metadata": {
        "id": "glvB4U2V-r7M",
        "outputId": "8bad8ae7-f6ab-4341-9738-1aad97d198f1"
      },
      "outputs": [
        {
          "name": "stdout",
          "output_type": "stream",
          "text": [
            "2\n",
            "3\n",
            "6\n",
            "5\n",
            "10\n",
            "7\n",
            "14\n",
            "9\n",
            "18\n",
            "11\n"
          ]
        }
      ],
      "source": [
        "lista_numeros = [1, 2, 3, 4, 5, 6, 7, 8, 9, 10]\n",
        "\n",
        "for i in range(len(lista_numeros)):\n",
        "    if i % 2 == 0:\n",
        "        print(lista_numeros[i]*2)\n",
        "    else:\n",
        "        print(lista_numeros[i] + 1)"
      ]
    },
    {
      "cell_type": "markdown",
      "metadata": {
        "id": "CEj5TlMHv137"
      },
      "source": [
        "Existe uma ferramenta em Python que pode nos ajudar a escrever de maneira mais *pythonica*, sem precisar acessar lista por índice: o **enumerate**. Vamos entender o que ele faz primeiro, e em seguida veremos como deixar o código mais limpo:"
      ]
    },
    {
      "cell_type": "code",
      "execution_count": null,
      "metadata": {
        "id": "lDn8n-j6-r7M",
        "outputId": "65f851dc-be78-48b1-fb80-220125bfc867"
      },
      "outputs": [
        {
          "name": "stdout",
          "output_type": "stream",
          "text": [
            "(0, 1)\n",
            "(1, 2)\n",
            "(2, 3)\n",
            "(3, 4)\n",
            "(4, 5)\n",
            "(5, 6)\n",
            "(6, 7)\n",
            "(7, 8)\n",
            "(8, 9)\n",
            "(9, 10)\n"
          ]
        }
      ],
      "source": [
        "for x in enumerate(lista_numeros):\n",
        "    print(x)"
      ]
    },
    {
      "cell_type": "markdown",
      "metadata": {
        "id": "jhz99yxRv6W2"
      },
      "source": [
        "O **enumerate** montou uma estrutura onde cada elemento é uma tupla (uma espécie de lista imutável), sendo o primeiro elemento da tupla um índice da lista, e o segundo o valor associado àquele índice. Ao tratar a tupla como se fosse mais de uma variável, temos o que chamamos de **desempacotamento de tupla**: cada valor da tupla é atribuido para uma variável. \n",
        "\n"
      ]
    },
    {
      "cell_type": "code",
      "execution_count": null,
      "metadata": {
        "id": "SbCg48ZE-r7N",
        "outputId": "00a006f9-828a-4cdb-c1e4-5afe709117f9"
      },
      "outputs": [
        {
          "data": {
            "text/plain": [
              "(1, 3, 5, 7)"
            ]
          },
          "execution_count": 52,
          "metadata": {},
          "output_type": "execute_result"
        }
      ],
      "source": [
        "tupla = (1, 3, 5, 7)\n",
        "tupla"
      ]
    },
    {
      "cell_type": "code",
      "execution_count": null,
      "metadata": {
        "id": "Jmkj0w7b-r7N",
        "outputId": "e96a40d5-ef62-4101-f701-e7f4096c8a56"
      },
      "outputs": [
        {
          "name": "stdout",
          "output_type": "stream",
          "text": [
            "1\n",
            "3\n",
            "5\n",
            "7\n"
          ]
        }
      ],
      "source": [
        "a, b, c, d = tupla\n",
        "print(a)\n",
        "print(b)\n",
        "print(c)\n",
        "print(d)"
      ]
    },
    {
      "cell_type": "markdown",
      "metadata": {
        "id": "ojNgCKpzwMcH"
      },
      "source": [
        "\n",
        "Aplicando o desempacotamento de tupla no *for*, podemos ter, simultaneamente, índice e valor em variáveis separadas, na prática percorrendo a lista tanto por índice quanto por valor. Refazendo o exemplo das maiúsculas/minúsculas:"
      ]
    },
    {
      "cell_type": "code",
      "execution_count": null,
      "metadata": {
        "id": "psuvRBPZ-r7N",
        "outputId": "bb69a672-a582-4e3c-9f89-07bd2f185785"
      },
      "outputs": [
        {
          "name": "stdout",
          "output_type": "stream",
          "text": [
            "2\n",
            "3\n",
            "6\n",
            "5\n",
            "10\n",
            "7\n",
            "14\n",
            "9\n",
            "18\n",
            "11\n"
          ]
        }
      ],
      "source": [
        "for i, vlr in enumerate(lista_numeros):\n",
        "    if i % 2 == 0:\n",
        "        print(vlr*2)\n",
        "    else:\n",
        "        print(vlr + 1)"
      ]
    },
    {
      "cell_type": "markdown",
      "metadata": {
        "id": "Op7EO8jZ-r7N"
      },
      "source": [
        "## "
      ]
    },
    {
      "cell_type": "markdown",
      "metadata": {
        "id": "msYqsmkgwXg0"
      },
      "source": [
        "### Zip\n",
        "\n",
        "\n",
        "Vamos pensar em um problema onde precisamos percorrer duas listas simultaneamente. Por exemplo, considere que temos uma lista com os nomes de todos os alunos de uma turma, e outra com as notas, na mesma ordem. Como faríamos para acessar, simultaneamente, o nome de um aluno e a sua nota?\n",
        "\n",
        "Esse é um problema onde, a princípio, utilizaríamos índice. Se usarmos o mesmo índice nas duas listas, estamos na prática percorrendo ambas as listas simultaneamente:"
      ]
    },
    {
      "cell_type": "code",
      "execution_count": null,
      "metadata": {
        "id": "3pZUOSeB-r7N",
        "outputId": "932ac9c9-3a34-4b28-9763-fa937fdb7af1"
      },
      "outputs": [
        {
          "name": "stdout",
          "output_type": "stream",
          "text": [
            "Aluno Leandro: 10\n",
            "Aluno Maisa: 8.5\n",
            "Aluno Bernardo: 8\n",
            "Aluno Vivian: 9\n"
          ]
        }
      ],
      "source": [
        "alunos = ['Leandro', 'Maisa', 'Bernardo', 'Vivian']\n",
        "notas = [10, 8.5, 8, 9]\n",
        "\n",
        "for i in range(len(alunos)):\n",
        "    print(f'Aluno {alunos[i]}: {notas[i]}')"
      ]
    },
    {
      "cell_type": "markdown",
      "metadata": {
        "id": "vq2l3_rQwcT6"
      },
      "source": [
        "Vamos ver agora o **zip** em ação para compreender como ele funciona:\n"
      ]
    },
    {
      "cell_type": "code",
      "execution_count": null,
      "metadata": {
        "id": "wPq3Asfd-r7O",
        "outputId": "0a79ebfe-4f91-4822-9b62-15ddfb5a2ce0"
      },
      "outputs": [
        {
          "name": "stdout",
          "output_type": "stream",
          "text": [
            "('Leandro', 10)\n",
            "('Maisa', 8.5)\n",
            "('Bernardo', 8)\n",
            "('Vivian', 9)\n"
          ]
        }
      ],
      "source": [
        "for x in zip(alunos, notas):\n",
        "    print(x)"
      ]
    },
    {
      "cell_type": "markdown",
      "metadata": {
        "id": "X-ma2qSFwgA5"
      },
      "source": [
        "Assim como no **enumerate**, o **zip** montou tuplas. Cada tupla representa 1 posição das listas originais, e cada posição dentro da tupla representa o dado de uma das listas. Ou seja, cada elemento do **zip** contém 1 elemento de cada lista original, na ordem que eles apareceram nas listas originais. Logo, ele permite percorrer 2 listas simultaneamente.\n",
        "\n",
        "Novamente podemos aplicar desempacotamento de tuplas em nosso loop acessar os dados de cada lista individualmente de maneira legível:"
      ]
    },
    {
      "cell_type": "code",
      "execution_count": null,
      "metadata": {
        "id": "13pJW0qv-r7O",
        "outputId": "41e32802-23c8-410d-8e7d-b5e85288afe2"
      },
      "outputs": [
        {
          "name": "stdout",
          "output_type": "stream",
          "text": [
            "Aluno Leandro: 10\n",
            "Aluno Maisa: 8.5\n",
            "Aluno Bernardo: 8\n",
            "Aluno Vivian: 9\n"
          ]
        }
      ],
      "source": [
        "for aluno, nota in zip(alunos, notas):\n",
        "    print(f'Aluno {aluno}: {nota}')"
      ]
    },
    {
      "cell_type": "markdown",
      "metadata": {
        "id": "Arm1a9VG-r7O"
      },
      "source": [
        "## "
      ]
    },
    {
      "cell_type": "markdown",
      "metadata": {
        "id": "3U1-OGAb-r7O"
      },
      "source": [
        "## 5. Funções"
      ]
    },
    {
      "cell_type": "markdown",
      "metadata": {
        "id": "pgp0xpAF-r7O"
      },
      "source": [
        "__Funções__ em _Python_ é uma aplicação que auxilia na repetitividade de trechos de código. Então, vamos imaginar aquele primeiro exemplo onde pedia as notas das 3 provas de um aluno e depois devolvia o valor da média. Vamos refazer pela última vez este exercício aqui:"
      ]
    },
    {
      "cell_type": "code",
      "execution_count": null,
      "metadata": {
        "id": "1rerprLd-r7O",
        "outputId": "67f40a59-e829-496d-cdbc-8111a4a38c8e"
      },
      "outputs": [
        {
          "name": "stdout",
          "output_type": "stream",
          "text": [
            "Digite a primeira nota: 7\n",
            "Digite a segunda nota: 8\n",
            "Digite a terceira nota: 9\n",
            "Média:  8.0\n"
          ]
        }
      ],
      "source": [
        "nota1 = float(input('Digite a primeira nota: '))\n",
        "nota2 = float(input('Digite a segunda nota: '))\n",
        "nota3 = float(input('Digite a terceira nota: '))\n",
        "\n",
        "media = (nota1 + nota2 + nota3)/3\n",
        "\n",
        "print('Média: ', media)"
      ]
    },
    {
      "cell_type": "markdown",
      "metadata": {
        "id": "oJe_qjAY-r7O"
      },
      "source": [
        "A função é um \"pedaço de código\" a parte do que estamos desenvolvendo que podemos chamar toda a vez que quiser repetir ou executar determinada função. Então vamos monta uma função nomeada como `calcula_media`:"
      ]
    },
    {
      "cell_type": "code",
      "execution_count": null,
      "metadata": {
        "id": "o65wWLp6-r7P"
      },
      "outputs": [],
      "source": [
        "def calcula_media():\n",
        "    nota1 = float(input('Digite a primeira nota: '))\n",
        "    nota2 = float(input('Digite a segunda nota: '))\n",
        "    nota3 = float(input('Digite a terceira nota: '))\n",
        "\n",
        "    media = (nota1 + nota2 + nota3)/3\n",
        "\n",
        "    print('Média: ', media)"
      ]
    },
    {
      "cell_type": "markdown",
      "metadata": {
        "id": "XaSjJxDd-r7P"
      },
      "source": [
        "Agora, vamos acionar a nossa função:"
      ]
    },
    {
      "cell_type": "code",
      "execution_count": null,
      "metadata": {
        "id": "SddBcGSq-r7P",
        "outputId": "53502307-9c67-44b6-8eaf-6f52510cd114"
      },
      "outputs": [
        {
          "name": "stdout",
          "output_type": "stream",
          "text": [
            "Digite a primeira nota: 7\n",
            "Digite a segunda nota: 8\n",
            "Digite a terceira nota: 9\n",
            "Média:  8.0\n"
          ]
        }
      ],
      "source": [
        "calcula_media()"
      ]
    },
    {
      "cell_type": "markdown",
      "metadata": {
        "id": "oCAu5YXp-r7P"
      },
      "source": [
        "Dessa forma, agora pode-se utilizar a função quantas vezes a gente quiser. Note, o que foi definido dentro da função é privado a ela, ou seja, não é possível acessar elementos criados dentro dela. Siga o exemplo abaixo:"
      ]
    },
    {
      "cell_type": "code",
      "execution_count": null,
      "metadata": {
        "id": "Tb_rSEwI-r7P"
      },
      "outputs": [],
      "source": [
        "def soma1(a, b, c):\n",
        "    resultado = a + b + c"
      ]
    },
    {
      "cell_type": "code",
      "execution_count": null,
      "metadata": {
        "id": "clvycFSY-r7P",
        "outputId": "75da7a60-8382-4748-be72-1038b26b2ca7"
      },
      "outputs": [
        {
          "ename": "NameError",
          "evalue": "name 'resultado' is not defined",
          "output_type": "error",
          "traceback": [
            "\u001b[1;31m---------------------------------------------------------------------------\u001b[0m",
            "\u001b[1;31mNameError\u001b[0m                                 Traceback (most recent call last)",
            "Input \u001b[1;32mIn [64]\u001b[0m, in \u001b[0;36m<cell line: 2>\u001b[1;34m()\u001b[0m\n\u001b[0;32m      1\u001b[0m soma1(\u001b[38;5;241m5\u001b[39m, \u001b[38;5;241m6\u001b[39m, \u001b[38;5;241m7\u001b[39m)\n\u001b[1;32m----> 2\u001b[0m media \u001b[38;5;241m=\u001b[39m \u001b[43mresultado\u001b[49m\u001b[38;5;241m/\u001b[39m\u001b[38;5;241m3\u001b[39m\n\u001b[0;32m      3\u001b[0m \u001b[38;5;28mprint\u001b[39m(media)\n",
            "\u001b[1;31mNameError\u001b[0m: name 'resultado' is not defined"
          ]
        }
      ],
      "source": [
        "soma1(5, 6, 7)\n",
        "media = resultado/3\n",
        "print(media)"
      ]
    },
    {
      "cell_type": "markdown",
      "metadata": {
        "id": "ax2i6rF6-r7P"
      },
      "source": [
        "Mas para que isso seja válido, é necessário definir um __retorno da função__ que foi criada. Vamos retomar o exemplo agora:"
      ]
    },
    {
      "cell_type": "code",
      "execution_count": null,
      "metadata": {
        "id": "Auxva7VM-r7P",
        "outputId": "6917b5a6-1871-4771-e82e-9315d5f80eb0"
      },
      "outputs": [
        {
          "name": "stdout",
          "output_type": "stream",
          "text": [
            "18\n",
            "10\n",
            "6.0\n"
          ]
        }
      ],
      "source": [
        "def soma2(a, b, c):\n",
        "    soma = a + b + c\n",
        "    return soma\n",
        "\n",
        "s = soma2(5, 6, 7)\n",
        "print(s)\n",
        "media = s/3\n",
        "print(media)"
      ]
    },
    {
      "cell_type": "code",
      "execution_count": null,
      "metadata": {
        "id": "VdDyCx_S-r7P"
      },
      "outputs": [],
      "source": [
        "def soma3(a = 1, b = 2, c = 3):\n",
        "    soma = a + b + c\n",
        "    return soma"
      ]
    },
    {
      "cell_type": "code",
      "execution_count": null,
      "metadata": {
        "id": "_AWx_gpS-r7Q",
        "outputId": "c6706d07-01c0-4490-c195-b0029866a995"
      },
      "outputs": [
        {
          "name": "stdout",
          "output_type": "stream",
          "text": [
            "6\n"
          ]
        }
      ],
      "source": [
        "print(soma3())"
      ]
    },
    {
      "cell_type": "markdown",
      "metadata": {
        "id": "v916KDyQ-r7Q"
      },
      "source": [
        "Podemos até refazer o exercícios das médias onde iremos receber uma __lista de notas__ e iremos devolver para o aluno o valor da média:"
      ]
    },
    {
      "cell_type": "code",
      "execution_count": null,
      "metadata": {
        "id": "9pXbjCCo-r7Q"
      },
      "outputs": [],
      "source": [
        "lista_notas = [9.0, 5.5, 9.5, 4.0, 7.5, 6.5]"
      ]
    },
    {
      "cell_type": "code",
      "execution_count": null,
      "metadata": {
        "id": "Etrs26uw-r7Q"
      },
      "outputs": [],
      "source": [
        "def media_notas(lista):\n",
        "    soma = 0\n",
        "    \n",
        "    # Soma das notas\n",
        "    for nota in lista:\n",
        "        soma += nota\n",
        "    \n",
        "    # Quantidade de notas\n",
        "    n = len(lista)\n",
        "    \n",
        "    return soma/n"
      ]
    },
    {
      "cell_type": "code",
      "execution_count": null,
      "metadata": {
        "id": "zKqFp4GG-r7Q",
        "outputId": "9b08ce46-c664-45a9-8514-0acf7c1d4b67"
      },
      "outputs": [
        {
          "name": "stdout",
          "output_type": "stream",
          "text": [
            "7.0\n"
          ]
        }
      ],
      "source": [
        "print(media_notas(lista_notas))"
      ]
    },
    {
      "cell_type": "code",
      "execution_count": null,
      "metadata": {
        "id": "qOoOgBuw-r7Q"
      },
      "outputs": [],
      "source": [
        "# Return com mais de um elemento\n",
        "def media_notas(lista):\n",
        "    soma = 0\n",
        "    \n",
        "    # Soma das notas\n",
        "    for nota in lista:\n",
        "        soma += nota\n",
        "    \n",
        "    # Quantidade de notas\n",
        "    n = len(lista)\n",
        "    \n",
        "    return soma, n, soma/n"
      ]
    },
    {
      "cell_type": "code",
      "execution_count": null,
      "metadata": {
        "id": "awPnu0B--r7Q"
      },
      "outputs": [],
      "source": [
        "soma_elementos, num_elementos, media = media_notas(lista_notas)"
      ]
    },
    {
      "cell_type": "markdown",
      "metadata": {
        "id": "AEworkIW-r7T"
      },
      "source": [
        "## "
      ]
    },
    {
      "cell_type": "markdown",
      "metadata": {
        "id": "S-vD9Cih-r7T"
      },
      "source": [
        "### Recursividade\n",
        "\n",
        "__Recursividade__ é quando uma função do _Python_ chama outra função dentro do desenvolvimento dela:"
      ]
    },
    {
      "cell_type": "code",
      "execution_count": null,
      "metadata": {
        "id": "YKuYZCFq-r7T"
      },
      "outputs": [],
      "source": [
        "def soma_notas(lista):\n",
        "    soma = 0\n",
        "    for nota in lista:\n",
        "        soma += nota\n",
        "    return soma\n",
        "\n",
        "def media(lista):\n",
        "    s = soma_notas(lista)\n",
        "    return s/len(lista)"
      ]
    },
    {
      "cell_type": "code",
      "execution_count": null,
      "metadata": {
        "id": "zVoEYMfa-r7U",
        "outputId": "22a25255-23ce-4743-b62c-6766f446617f"
      },
      "outputs": [
        {
          "name": "stdout",
          "output_type": "stream",
          "text": [
            "7.0\n"
          ]
        }
      ],
      "source": [
        "print(media(lista_notas))"
      ]
    },
    {
      "cell_type": "markdown",
      "metadata": {
        "id": "DtKALKzo-r7U"
      },
      "source": [
        "Mas e se uma função referenciasse ela mesma? Isso também funciona, e chama-se **função recursiva**, ou **recursão**. \n",
        "\n",
        "A ideia vem da matemática. Vejamos um exemplo. Considere a função fatorial. O fatorial de um número n qualquer é igual ao produto entre n e todos os seus antecessores inteiros positivos: n! = n x (n-1) x (n-2) x ... x 2 x 1. \n",
        "\n",
        "Considere o fatorial de 5:\n",
        "5! = 5x**4x3x2x1**\n",
        "\n",
        "Pense agora no fatorial de 4:\n",
        "4! = 4x3x2x1\n",
        "\n",
        "Note que temos destacado em negrito a expressão completa do fatorial de 4 dentro do fatorial de 5. Então é possível reescrecer o fatorial de 5 em função do fatorial de 4:\n",
        "\n",
        "5! = 5x(4!)\n",
        "\n",
        "Porém, dentro do fatorial de 4, temos o fatorial de 3, e assim sucessivamente. Podemos generalizar da seguinte maneira:\n",
        "\n",
        "f(n) = \n",
        "* 1, se n = 1\n",
        "* n * f(n-1), se x > 1\n",
        "\n",
        "Ou seja, imagine que você queira calcular f(4). Como 4 > 1, teremos:\n",
        "f(4) = 4 * f(3)\n",
        "\n",
        "Precisamos expandir f(3):\n",
        "f(4) = 4 * (3 * f(2))\n",
        "\n",
        "E assim sucessivamente:\n",
        "f(4) = 4 * (3 * (2 * f(1)))\n",
        "\n",
        "Opa, f(1) nós conhecemos: está definido lá em cima como 1.\n",
        "Portanto:\n",
        "f(4) = 4 * 3 * 2 * 1\n",
        "f(4) = 24\n",
        "\n",
        "Note que nós decompomos um problema em várias instâncias \"menores\" do problema. Quebramos a formulação de uma multiplicação enorme por vários casos de n x f(n-1). Chamamos essa estratégia de _dividir para conquistar_, e ela envolve identificar 2 etapas bastante claras do problema:\n",
        "* Caso base: é um caso para o qual temos um valor conhecido (no exemplo acima, f(1) = 1)\n",
        "* Caso geral: é a chamada recursiva, onde faremos referência à própria função. \n",
        "\n",
        "Note também que esse comportamento tem o comportamento de _pilha_: se colocamos 3 pratos empilhados sobre a mesa, precisamos tirar primeiro o último que colocamos, certo? Caso contrário, a pilha toda tomba. No caso da recursão, para obter f(4) caímos em f(3), depois f(2), depois f(1), depois f(0) e foi para ele que obtivemos a primeira resposta, que em seguida usamos para calcular f(1), depois calcular f(2), depois f(3) e só então chegamos em f(4). O primeiro passo do problema foi o último a ser resolvido.\n",
        "\n",
        "Em Python, nossa função ficaria assim:"
      ]
    },
    {
      "cell_type": "code",
      "execution_count": null,
      "metadata": {
        "id": "SdQA-NA_-r7U"
      },
      "outputs": [],
      "source": [
        "def fatorial(n):\n",
        "    if n == 1:\n",
        "        return 1\n",
        "    else:\n",
        "        return n * fatorial (n-1)"
      ]
    },
    {
      "cell_type": "code",
      "execution_count": null,
      "metadata": {
        "id": "-XvsfMex-r7U",
        "outputId": "c3f75e04-f52a-454d-8796-4762f7fbaabe"
      },
      "outputs": [
        {
          "name": "stdout",
          "output_type": "stream",
          "text": [
            "2\n"
          ]
        }
      ],
      "source": [
        "print(fatorial(2))"
      ]
    },
    {
      "cell_type": "markdown",
      "metadata": {
        "id": "x9IVY3Mz-r7U"
      },
      "source": [
        "## "
      ]
    },
    {
      "cell_type": "markdown",
      "metadata": {
        "id": "6t7MOGVlwvSG"
      },
      "source": [
        "## Exercícios"
      ]
    },
    {
      "cell_type": "markdown",
      "metadata": {
        "id": "kmfJe7P_-r7U"
      },
      "source": [
        "__1)__ Normalização de Dados, também conhecido na estatística como Z-Score, é quando temos uma distribuição de dados quaisquer em determinada escala e gostariamos de converter-los para uma distribuição com o comportamento de uma distrbuição Normal (também conhecida como Gaussiana).\n",
        "\n",
        "Para fazer a normalização dos dados devemos converte-los de acordo com a seguinte fórmula:\n",
        "\n",
        "$$ Z = \\frac{x - \\mu}{\\sigma} $$\n",
        "\n",
        "Onde $x$ é um dado da nossa distribuição, $\\mu$ é a média desta distribuição e $\\sigma$ é o desvio padrão da distribuição.\n",
        "\n",
        "Vamos dividir o exercício nos seguintes itens:"
      ]
    },
    {
      "cell_type": "markdown",
      "metadata": {
        "id": "SGs3bo_M-r7U"
      },
      "source": [
        "__1.1)__ Desenvolva uma função para calcular a média e o desvio padrão para uma lista de tamanho qualquer (1 ponto)"
      ]
    },
    {
      "cell_type": "code",
      "execution_count": null,
      "metadata": {
        "id": "t93aUGpE-r7V",
        "outputId": "9b0d7673-ae07-4d54-efcd-0fede0475e23",
        "colab": {
          "base_uri": "https://localhost:8080/"
        }
      },
      "outputs": [
        {
          "output_type": "stream",
          "name": "stdout",
          "text": [
            "Media:  13.4\n",
            "Desvio Padrao:  5.211099265563414\n"
          ]
        }
      ],
      "source": [
        "## import random\n",
        "\n",
        "## Quantidade de elementos na lista\n",
        "## n = int(input('Tamanho da lista para calcular: '))\n",
        "\n",
        "## lista_aleatoria = []\n",
        "\n",
        "## soma = 0\n",
        "\n",
        "## for i in range(n):\n",
        "   ## num_random = random.randint(1, 20)\n",
        "   ## numero = lista_aleatoria.append(num_random)\n",
        "\n",
        "## for i2 in lista_aleatoria:\n",
        " ## soma = soma + i2\n",
        "\n",
        "## print(lista_aleatoria)\n",
        "## print(soma)\n",
        "\n",
        "lista = [10, 7, 17, 2, 7, 9, 4, 10, 6, 11]\n",
        "\n",
        "\n",
        "def media(lista):\n",
        "  soma = 0\n",
        "\n",
        "  for valor in lista:\n",
        "    soma = soma + valor\n",
        "\n",
        "  media = soma / len(lista)\n",
        "  return media\n",
        "\n",
        "def desvio_padrao(lista):\n",
        "  \n",
        "  x = media(lista)\n",
        "  soma_dif = 0   \n",
        "\n",
        "  for i in range(len(lista)):\n",
        "    dif = (lista[i] - x)**2\n",
        "    soma_dif = soma_dif + dif\n",
        "\n",
        "  desvio_padrao = ((soma_dif) / (len(lista) - 1))**0.5 \n",
        "\n",
        "  return desvio_padrao\n",
        "\n",
        "\n",
        "print('Media: ',media(lista))\n",
        "print('Desvio Padrao: ',desvio_padrao(lista))"
      ]
    },
    {
      "cell_type": "markdown",
      "metadata": {
        "id": "aAN6rpL4-r7V"
      },
      "source": [
        "__1.2)__ Desenvolva uma função que faça a normalização segundo a formula do Z e retorne a lista de dados normalizados. (1 ponto)"
      ]
    },
    {
      "cell_type": "code",
      "execution_count": null,
      "metadata": {
        "id": "z3k29ndr-r7V"
      },
      "outputs": [],
      "source": [
        "# exemplo 1\n",
        "# Vetor = [10, 7, 17, 2, 7, 9, 4, 10, 6, 11]\n",
        "# Resultado = [0.4081959811176985,\n",
        "# -0.31214986791353444,\n",
        "# 2.0890029621905755,\n",
        "# -1.5127262829655894,\n",
        "# -0.31214986791353444,\n",
        "# 0.1680806981072875,\n",
        "# -1.0324957169447675,\n",
        "# 0.4081959811176985,\n",
        "# -0.5522651509239455,\n",
        "# 0.6483112641281095]"
      ]
    },
    {
      "cell_type": "code",
      "execution_count": null,
      "metadata": {
        "id": "g0-YmGM7-r7V"
      },
      "outputs": [],
      "source": [
        "# exemplo 2\n",
        "# vetor = [3, 20, 14, 6, 4, 1]\n",
        "# resultado = [-0.675429033697874,\n",
        "# 1.6210296808748976,\n",
        "# 0.8105148404374488,\n",
        "# -0.2701716134791496,\n",
        "# -0.5403432269582992,\n",
        "# -0.9456006471770236]"
      ]
    },
    {
      "cell_type": "code",
      "execution_count": null,
      "metadata": {
        "id": "XNenaFp5-r7V",
        "colab": {
          "base_uri": "https://localhost:8080/"
        },
        "outputId": "4fed6cf6-4f23-4caa-9ce0-c60ef3e7daf0"
      },
      "outputs": [
        {
          "output_type": "execute_result",
          "data": {
            "text/plain": [
              "[0.4081959811176985,\n",
              " -0.31214986791353444,\n",
              " 2.0890029621905755,\n",
              " -1.5127262829655894,\n",
              " -0.31214986791353444,\n",
              " 0.1680806981072875,\n",
              " -1.0324957169447675,\n",
              " 0.4081959811176985,\n",
              " -0.5522651509239455,\n",
              " 0.6483112641281095]"
            ]
          },
          "metadata": {},
          "execution_count": 45
        }
      ],
      "source": [
        "lista = [10, 7, 17, 2, 7, 9, 4, 10, 6, 11]\n",
        "\n",
        "def media(lista):\n",
        "  soma = 0\n",
        "\n",
        "  for valor in lista:\n",
        "    soma = soma + valor\n",
        "\n",
        "  media = soma / len(lista)\n",
        "  return media\n",
        "\n",
        "def desvio_padrao(lista):\n",
        "  \n",
        "  x = media(lista)\n",
        "  soma_dif = 0   \n",
        "\n",
        "  for i in range(len(lista)):\n",
        "    dif = (lista[i] - x)**2\n",
        "    soma_dif = soma_dif + dif\n",
        "\n",
        "  desvio_padrao = ((soma_dif) / (len(lista) - 1))**0.5 \n",
        "\n",
        "  return desvio_padrao\n",
        "\n",
        "def normalizacao(lista):\n",
        "  x = media(lista)\n",
        "  y = desvio_padrao(lista)\n",
        "  z = []\n",
        "\n",
        "  for valor in lista:\n",
        "    z.append((valor - x) / y)\n",
        "\n",
        "  return z\n",
        "\n",
        "normalizacao(lista)"
      ]
    },
    {
      "cell_type": "markdown",
      "metadata": {
        "id": "vP82oHjt-r7W"
      },
      "source": [
        "__2)__ O _MinMaxScaler_ é uma técnica de reescalonamento de um conjunto de dados parecida com a normalização ou no caso Z-score. A diferença é que ao invés de utilizar média e desvio padrão, utiliza-se os valores extremos (máximo e mínino), segundo a equação a seguir:\n",
        "\n",
        "$$ S = \\frac{x - min}{max - min} $$\n",
        "\n",
        "Onde X é um determinado elemento da lista, $min$ é o menor valor da lista e $max$ e o maior valor da lista.\n",
        "\n",
        "Desenvolva uma função que ao receber uma lista de dados quaisquer converta para a escala segundo o _MinMaxScaler_ (2 pontos)"
      ]
    },
    {
      "cell_type": "code",
      "execution_count": null,
      "metadata": {
        "id": "rUZ0xMFq-r7W"
      },
      "outputs": [],
      "source": [
        "# Exemplo 1:\n",
        "# Vetor = [15, 7, 16, 1, 3, 15, 17, 9, 11, 1]\n",
        "# Resultado = [0.875, 0.375, 0.9375, 0.0, 0.125, 0.875, 1.0, 0.5, 0.625, 0.0]\n",
        "\n",
        "# Exemplo 2:\n",
        "# Vetor = [15, 7, 16, 1, 3, 15, 17, 9, 11, 1]\n",
        "# Resultado = [0.0,\n",
        "# 1.0,\n",
        "# 0.9473684210526315,\n",
        "# 0.631578947368421,\n",
        "# 1.0,\n",
        "# 0.5789473684210527,\n",
        "# 0.42105263157894735,\n",
        "# 0.8947368421052632,\n",
        "# 0.7368421052631579,\n",
        "# 0.3157894736842105]"
      ]
    },
    {
      "cell_type": "code",
      "execution_count": null,
      "metadata": {
        "id": "_atXWN4E-r7W",
        "colab": {
          "base_uri": "https://localhost:8080/"
        },
        "outputId": "23bf1fce-b820-4ee1-a932-d300e6ba59bd"
      },
      "outputs": [
        {
          "output_type": "execute_result",
          "data": {
            "text/plain": [
              "[0.875, 0.375, 0.9375, 0.0, 0.125, 0.875, 1.0, 0.5, 0.625, 0.0]"
            ]
          },
          "metadata": {},
          "execution_count": 30
        }
      ],
      "source": [
        "vetor = [15, 7, 16, 1, 3, 15, 17, 9, 11, 1]\n",
        "\n",
        "def MinMaxScaler(vetor):\n",
        "  min1 = min(vetor)\n",
        "  max1 = max(vetor)\n",
        "  s = []\n",
        "\n",
        "  for valor in vetor:\n",
        "    s.append((valor - min1) / (max1 - min1))\n",
        "  \n",
        "  return s\n",
        "\n",
        "MinMaxScaler(vetor)"
      ]
    },
    {
      "cell_type": "markdown",
      "metadata": {
        "id": "mu7cdqTT-r7W"
      },
      "source": [
        "__3)__ A regressão linear simples é uma ferramenta estatística onde dados um conjunto de dados x e y, o objetivo é encontrar a melhor equação de reta que descreve aquele conjunto de dados. Para aproximar  essa reta aos dados, pode-se seguir a equação abaixo para aproximar os coeficientes $\\beta_0$ e $\\beta_1$:\n",
        "\n",
        "<br>\n",
        "\n",
        "$$\n",
        "\\large\n",
        "\\begin{cases}\n",
        "\\hat{\\beta}_1=\\frac{\\sum_{i=1}^n (x_i- \\bar{x})(y_i - \\bar{y})}{\\sum_{i=1}^n (x_i - \\bar{x})^2} = \\frac{\\sigma_{xy}}{\\sigma_{xx}} = \\frac{covar(x, y)}{var(x)}\\\\\n",
        "\\hat{\\beta}_0= \\bar{y}-\\hat{\\beta_1}\\bar{x}\n",
        "\\end{cases}\n",
        "$$\n",
        "\n",
        "<br>\n",
        "\n",
        "Onde:\n",
        "- **Covariância** ou variância conjunta, que indica o grau de interdependência entre duas variáveis;\n",
        "- **Variância** é uam medida de o quão disperso está os dados, ou seja o quão distante está cada valor desse conjunto do valor médio;\n",
        "\n",
        "Desenvolva uma função `linear_regression` que recebe duas listas x e y e devolva os valores dos coeficientes $\\beta_0$ e $\\beta_1$ (2 pontos)"
      ]
    },
    {
      "cell_type": "code",
      "execution_count": null,
      "metadata": {
        "id": "fQfwkATK-r7W"
      },
      "outputs": [],
      "source": [
        "# Exemplo 1\n",
        "# X = [ 0,  1,  2,  3,  4,  5,  6,  7,  8,  9, 10, 11, 12, 13, 14, 15, 16, 17, 18, 19]\n",
        "# y = [-1.,  2.5,  2.,  4.5,  5.,  6.5,  8.,  8.5, 11., 10.5, 14., 12.5, 17., 14.5, 20., 16.5, 23., 18.5, 26., 20.5]\n",
        "# b_0 = 0.2857142857142865\n",
        "# b_1 = 1.2330827067669172\n",
        "\n",
        "# Exemplo 2\n",
        "# X = [8, 9, 10, 3, 17, 19, 4, 8, 16, 10]\n",
        "# y = [14, 1, 16, 15, 15, 11, 18, 20, 15, 10]\n",
        "# b_0 = 15.190402476780186\n",
        "# b_1 = -0.1625386996904025"
      ]
    },
    {
      "cell_type": "code",
      "execution_count": null,
      "metadata": {
        "id": "QEO-6Gdx-r7W",
        "colab": {
          "base_uri": "https://localhost:8080/"
        },
        "outputId": "e22e8aef-940a-412a-e401-c543ce2be1f1"
      },
      "outputs": [
        {
          "output_type": "stream",
          "name": "stdout",
          "text": [
            "Beta_0: 0.2857142857142865,  Beta_1 = 1.2330827067669172\n"
          ]
        }
      ],
      "source": [
        "x = [0,  1,  2,  3,  4,  5,  6,  7,  8,  9, 10, 11, 12, 13, 14, 15, 16, 17, 18, 19]\n",
        "y = [-1.,  2.5,  2.,  4.5,  5.,  6.5,  8.,  8.5, 11., 10.5, 14., 12.5, 17., 14.5, 20., 16.5, 23., 18.5, 26., 20.5]\n",
        "\n",
        "\n",
        "def linear_regression(x, y):\n",
        "    media_x = media(x)\n",
        "    media_y = media(y)\n",
        "    soma_1 = 0\n",
        "    soma_2 = 0\n",
        "\n",
        "    for i in range(len(x)):\n",
        "      soma_1 = soma_1 + (x[i] - media_x) * (y[i] - media_y)\n",
        "      soma_2 = soma_2 + (x[i] - media_x) ** 2\n",
        "      beta_1 = soma_1 / soma_2\n",
        "      beta_0 = media_y - (beta_1 * media_x)\n",
        "      \n",
        "    return print(f'Beta_0: {beta_0},  Beta_1 = {beta_1}')\n",
        "\n",
        "linear_regression(x, y)"
      ]
    },
    {
      "cell_type": "markdown",
      "metadata": {
        "id": "etBhLUEL-r7X"
      },
      "source": [
        "Quando fala-se sobre métricas de posição, existem outras métricas além da média que ganham destaque, como por exemplo a __mediana__ e a __moda__\n",
        "\n",
        "__4.1)__ A **mediana** de uma variável é um número tal que há o mesmo número de observações maiores e menores do que ele, ocupando assim a **posição central** da série de observações.\n",
        "\n",
        "Assim, para calcularmos a mediana, basta **ordenarmos os dados, do menor pro maior**, e contar o que está no meio dos dados ordenados (se houver número par de dados, pega-se a média entre os dados que estão \"no meio\")\n",
        "\n",
        "- *Exemplo*\n",
        "\n",
        "i) 3,4,**7**,8,8 **mediana = 7**       (CASO ÍMPAR)\n",
        "\n",
        "ii) 3,4,**7**,**8**,8,9 **mediana = (7+8)/2 = 7,5**   (CASO PAR)\n",
        "\n",
        "<br>\n",
        "\n",
        "Logo, podemos definir: \n",
        "\n",
        "- Mediana de $X = X_{\\frac{n+1}{2}}$ `Se tamanho da amostra ímpar`\n",
        "\n",
        "\n",
        "- Mediana de $X = \\frac{X_{\\frac{n}{2}}+ X_{\\frac{n+1}{2}}}{2}$ `Se tamanho da amostra par`\n",
        "\n",
        "Desenvolva uma função que receba uma lista de tamanho qualquer e devolva o valor da mediana (1 ponto)"
      ]
    },
    {
      "cell_type": "code",
      "execution_count": null,
      "metadata": {
        "id": "6QEZ7Gvo-r7X"
      },
      "outputs": [],
      "source": [
        "# Exemplo 1\n",
        "# \n",
        "# mediana = 8.5\n",
        "\n",
        "# exemplo 2\n",
        "# Vetor = [12, 5, 1, 16, 2, 19, 15, 18, 13, 2, 6]\n",
        "# mediana = 12"
      ]
    },
    {
      "cell_type": "code",
      "execution_count": null,
      "metadata": {
        "id": "ilxIANKG-r7X",
        "colab": {
          "base_uri": "https://localhost:8080/"
        },
        "outputId": "b626b871-fb5a-4941-e24a-6be611fb2754"
      },
      "outputs": [
        {
          "output_type": "execute_result",
          "data": {
            "text/plain": [
              "8.5"
            ]
          },
          "metadata": {},
          "execution_count": 41
        }
      ],
      "source": [
        "vetor = [15, 3, 14, 8, 16, 3, 7, 9, 17, 1]\n",
        "\n",
        "def mediana(lista):\n",
        "  lista_ordenada = sorted(lista) #organizar sem alterar valor\n",
        "  mediana = 0\n",
        "\n",
        "  if (len(lista) % 2 == 0): # par\n",
        "    mediana = (lista_ordenada[int(len(lista_ordenada)/2)-1] + lista_ordenada[int((len(lista_ordenada)/2)+1)-1]) / 2\n",
        "  else: # ímpar\n",
        "    mediana = lista_ordenada[int((len(lista_ordenada)+1)/2)-1] # necessário ter o -1 no final pois as listas começam no índice 0\n",
        "\n",
        "  return mediana\n",
        "\n",
        "mediana(vetor)"
      ]
    },
    {
      "cell_type": "markdown",
      "metadata": {
        "id": "EOa9jq-S-r7X"
      },
      "source": [
        "__4.2)__ A **moda** é o valor que ocorre com **maior frequencia** em um conjunto de dados. Dependendo do conjunto de dados, ele pode ser:\n",
        "\n",
        "- Sem moda: quando nenhum valor se repete \n",
        "\n",
        "- unimodal: Quando existe apenas um valor repetido com maior frequência \n",
        "\n",
        "- multimodal: quando existem mais de um valor com a mesma frequência máxima\n",
        "\n",
        "Desenvolva uma função que receba uma lista de tamanho qualquer e devolva o valor da primeira moda, caso haja uma (1 ponto)"
      ]
    },
    {
      "cell_type": "code",
      "execution_count": null,
      "metadata": {
        "id": "kmfVWKY3-r7X"
      },
      "outputs": [],
      "source": [
        "# Exemplo 1\n",
        "# Vetor = [5, 4, 3, 4, 20, 17, 5, 14, 13, 18, 4, 1]\n",
        "# Moda = 4\n",
        "\n",
        "# Exemplo 2\n",
        "# Vetor = [18, 7, 1, 19, 3, 3, 19, 14, 11, 20, 6, 2]\n",
        "# Moda = 3 (e 19)"
      ]
    },
    {
      "cell_type": "code",
      "execution_count": null,
      "metadata": {
        "id": "o61MH5qf-r7X",
        "colab": {
          "base_uri": "https://localhost:8080/"
        },
        "outputId": "dd64fb27-51f6-4408-f39c-6e07cffd1ffa"
      },
      "outputs": [
        {
          "output_type": "stream",
          "name": "stdout",
          "text": [
            "Lista multimodal de modas: \n",
            "19\n",
            "3\n"
          ]
        }
      ],
      "source": [
        "vetor = [18, 7, 1, 19, 3, 3, 19, 14, 11, 20, 6, 2]\n",
        "\n",
        "def moda(lista):\n",
        "  repeticao = [] # qntd de vezes que o numero aparece na lista\n",
        "  numero = [] # número que aparece na lista\n",
        "  \n",
        "  for valor in lista:\n",
        "    if (valor not in numero):\n",
        "      numero.append(valor)\n",
        "      repeticao.append(lista.count(valor))\n",
        "\n",
        "  x = repeticao.count(max(repeticao))\n",
        "\n",
        "  if (x == 1) and (max(repeticao) > 1):\n",
        "    print(f'Lista unimodal de moda é: {numero[repeticao.index(max(repeticao))]}')\n",
        "\n",
        "  elif (x == len(lista)): # se x for o tamanho da LISTA, significa que não houve um máximo de repetições, logo nenhum número que repetiu\n",
        "    print('Lista amodal.')\n",
        "\n",
        "  else:\n",
        "    print('Lista multimodal de modas: ')\n",
        "    for i in range(x):\n",
        "      print(numero[repeticao.index(max(repeticao))]) # imprime o número da lista NUMERO cujo índice é igual ao índice do valor de máxima repetições na lista REPETICOES\n",
        "      repeticao[repeticao.index(max(repeticao))] = 1 # apaga o índice no qual acontece o primeiro máximo de repetições para permitir que o próximo seja impresso\n",
        "\n",
        "moda(vetor)"
      ]
    },
    {
      "cell_type": "code",
      "execution_count": null,
      "metadata": {
        "id": "mHkNRBdK-r7X"
      },
      "outputs": [],
      "source": []
    },
    {
      "cell_type": "markdown",
      "metadata": {
        "id": "55VyDHHP-r7X"
      },
      "source": [
        "__5)__ Vamos repetir o exercício da distância euclidiana mas agora para o caso de um vetor n dimensional. Ou seja, dados os pontos A e B, temos que:\n",
        "\n",
        "<br>\n",
        "\n",
        "$$ d = \\sqrt{(x_{1,A} - x_{1,B})^2 + (x_{2,A} - x_{2,B})^2 + (x_{3,A} - x_{3,B})^2 + ... + (x_{n,A} - x_{n,B})^2}$$\n",
        "\n",
        "<br>\n",
        "\n",
        "Então dada a equação da distância euclidiana n-dimensional, desenvolva uma função que receba dois vetores distintos A e B com a mesma quantidade de elementos e calcule a distância euclidiana entre eles (2 pontos)"
      ]
    },
    {
      "cell_type": "code",
      "execution_count": null,
      "metadata": {
        "id": "atn_qtia-r7X"
      },
      "outputs": [],
      "source": [
        "# Exemplo 1\n",
        "# lista A = [1, 11, 20, 18, 16, 3, 5, 5, 18, 3, 18, 13]\n",
        "# Lista B = [15, 3, 1, 19, 14, 14, 3, 20, 19, 17, 2, 12]\n",
        "# d = 37.815340802378074\n",
        "\n",
        "# Exemplo 2\n",
        "# lista A = [17, 11, 18, 20, 17, 13, 3, 19, 17, 16, 15, 15, 6, 17, 12, 8, 18, 15, 5, 10]\n",
        "# Lista B = [10, 4, 10, 13, 6, 7, 2, 15, 15, 10, 10, 2, 3, 18, 1, 16, 16, 1, 5, 3]\n",
        "# d = 32.60368077380221"
      ]
    },
    {
      "cell_type": "code",
      "execution_count": null,
      "metadata": {
        "id": "_CzkPyIC-r7Y",
        "colab": {
          "base_uri": "https://localhost:8080/"
        },
        "outputId": "5d7006af-dced-4840-d33a-449695ff6dcd"
      },
      "outputs": [
        {
          "output_type": "execute_result",
          "data": {
            "text/plain": [
              "32.60368077380221"
            ]
          },
          "metadata": {},
          "execution_count": 42
        }
      ],
      "source": [
        "lista_A = [17, 11, 18, 20, 17, 13, 3, 19, 17, 16, 15, 15, 6, 17, 12, 8, 18, 15, 5, 10]\n",
        "lista_B = [10, 4, 10, 13, 6, 7, 2, 15, 15, 10, 10, 2, 3, 18, 1, 16, 16, 1, 5, 3]\n",
        "\n",
        "def distancia_euclidiana(l1, l2):\n",
        "    somatorio = 0\n",
        "    for i in range(len(l1)):\n",
        "      somatorio = somatorio + (l1[i] - l2[i]) ** 2\n",
        "    d = somatorio ** 0.5\n",
        "    return d\n",
        "\n",
        "distancia_euclidiana(lista_A, lista_B)"
      ]
    },
    {
      "cell_type": "code",
      "execution_count": null,
      "metadata": {
        "id": "Ru5I2JRe-r7Y"
      },
      "outputs": [],
      "source": []
    }
  ],
  "metadata": {
    "colab": {
      "collapsed_sections": [
        "hNe7Z9KMtuFG",
        "k-apXhuvuHtX",
        "dDIr4hJ8uOi0",
        "7HI0YooWu6xm",
        "0K_xNqefu87X",
        "QNPNw5nwvrmh",
        "msYqsmkgwXg0"
      ],
      "provenance": []
    },
    "kernelspec": {
      "display_name": "Python 3 (ipykernel)",
      "language": "python",
      "name": "python3"
    },
    "language_info": {
      "codemirror_mode": {
        "name": "ipython",
        "version": 3
      },
      "file_extension": ".py",
      "mimetype": "text/x-python",
      "name": "python",
      "nbconvert_exporter": "python",
      "pygments_lexer": "ipython3",
      "version": "3.9.12"
    }
  },
  "nbformat": 4,
  "nbformat_minor": 0
}